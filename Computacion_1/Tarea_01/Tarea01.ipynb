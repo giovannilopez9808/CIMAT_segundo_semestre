{
 "cells": [
  {
   "cell_type": "markdown",
   "metadata": {},
   "source": [
    "Giovanni Gamaliel López Padilla - Tarea 01"
   ]
  },
  {
   "cell_type": "code",
   "execution_count": 1,
   "metadata": {},
   "outputs": [],
   "source": [
    "import re\n",
    "import os\n",
    "parameters={\"path dataset\": \"dataset/\"}\n",
    "# Lectura de los nombres de los archivos\n",
    "files=sorted(os.listdir(parameters[\"path dataset\"]))\n",
    "text = \"\"\n",
    "for file in files:\n",
    "    filename=\"{}{}\".format(parameters[\"path dataset\"],\n",
    "                           file)\n",
    "    file_text = open(filename,\"r\",encoding=\"utf-8\")\n",
    "    text += file_text.read()\n",
    "    file_text.close()"
   ]
  },
  {
   "cell_type": "code",
   "execution_count": 20,
   "metadata": {},
   "outputs": [],
   "source": [
    "def clean_text(text: str) -> [str]:\n",
    "    \"\"\"\n",
    "    Limpia un string de los caracteres \\n, \\t ,\\xa0 y espacios en blanco.\n",
    "    Input:\n",
    "     String -> Texto plano\n",
    "    \n",
    "    Output:\n",
    "     Lista de palabras en el texto sin \\n, \\t, \\xa0 y espacios en blanco\n",
    "    \"\"\"\n",
    "    # Limpieza del archivo de \\n\n",
    "    text_out = text.rstrip()\n",
    "    # Limpieza del archivo de \\t\n",
    "    text_out = text_out.replace(\"\\t\", \" \")\n",
    "    # Texto a lista de palabras\n",
    "    text_out = text.split(\" \")\n",
    "    # Limpieza de los elementos de cada lista\n",
    "    for i in range(len(text_out)):\n",
    "        # Limpieza del archivo de \\n\n",
    "        text_out[i]=re.sub('\\n+',' ',text_out[i])\n",
    "        # Limpieza del archivo de \\t\n",
    "        text_out[i]=re.sub('\\t+',' ',text_out[i])\n",
    "        # Limpieza del archivo de \\xa0\n",
    "        text_out[i]=re.sub('\\xa0',' ',text_out[i])\n",
    "    # Juntar el texto\n",
    "    text_out = ' '.join(text_out)\n",
    "    # Separar por cada espacio en blanco\n",
    "    text_out = text_out.split(' ')\n",
    "    # Eliminacion de espacios en blanco\n",
    "    text_out = [line for line in text_out if line]\n",
    "    return text_out"
   ]
  },
  {
   "cell_type": "code",
   "execution_count": 21,
   "metadata": {},
   "outputs": [],
   "source": [
    "text_lines=clean_text(text)\n",
    "print(\"La cantidad de palabras es de {}\".format(len(text_lines)))"
   ]
  },
  {
   "cell_type": "code",
   "execution_count": 23,
   "metadata": {},
   "outputs": [
    {
     "name": "stdout",
     "output_type": "stream",
     "text": [
      "La cantidad de palabras es de 8039596\n"
     ]
    }
   ],
   "source": [
    "print(\"La cantidad de palabras es de {}\".format(len(text_lines)))"
   ]
  },
  {
   "cell_type": "code",
   "execution_count": null,
   "metadata": {},
   "outputs": [],
   "source": []
  }
 ],
 "metadata": {
  "kernelspec": {
   "display_name": "Python 3",
   "language": "python",
   "name": "python3"
  },
  "language_info": {
   "codemirror_mode": {
    "name": "ipython",
    "version": 3
   },
   "file_extension": ".py",
   "mimetype": "text/x-python",
   "name": "python",
   "nbconvert_exporter": "python",
   "pygments_lexer": "ipython3",
   "version": "3.8.10"
  },
  "latex_envs": {
   "LaTeX_envs_menu_present": true,
   "autoclose": false,
   "autocomplete": true,
   "bibliofile": "biblio.bib",
   "cite_by": "apalike",
   "current_citInitial": 1,
   "eqLabelWithNumbers": true,
   "eqNumInitial": 1,
   "hotkeys": {
    "equation": "Ctrl-E",
    "itemize": "Ctrl-I"
   },
   "labels_anchors": false,
   "latex_user_defs": false,
   "report_style_numbering": false,
   "user_envs_cfg": false
  }
 },
 "nbformat": 4,
 "nbformat_minor": 4
}
