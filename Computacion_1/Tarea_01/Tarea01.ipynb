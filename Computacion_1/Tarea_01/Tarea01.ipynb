{
 "cells": [
  {
   "cell_type": "markdown",
   "metadata": {},
   "source": [
    "Giovanni Gamaliel López Padilla - Tarea 01"
   ]
  },
  {
   "cell_type": "code",
   "execution_count": 1,
   "metadata": {},
   "outputs": [],
   "source": [
    "from nltk.tokenize import RegexpTokenizer\n",
    "from nltk.tokenize import TweetTokenizer\n",
    "from nltk.probability import FreqDist\n",
    "from nltk.corpus import stopwords\n",
    "import matplotlib.pyplot as plt\n",
    "import pandas as pd\n",
    "import unidecode\n",
    "import datetime\n",
    "import nltk\n",
    "import os\n",
    "\n",
    "\n",
    "def read_all_text(path: str) -> str:\n",
    "    \"\"\"\n",
    "    Realiza la lectura de todas las conferencias y las reune en un solo string\n",
    "    Input:\n",
    "        String: path -> Direccion donde se encuentran todos los archivos\n",
    "\n",
    "    Output:\n",
    "        String: Texto plano\n",
    "    \"\"\"\n",
    "    files = sorted(os.listdir(path))\n",
    "    text = \"\"\n",
    "    for file in files:\n",
    "        # Direccion y nombre del archivo\n",
    "        filename = \"{}{}\".format(path, file)\n",
    "        # Apertura del archivo\n",
    "        file_text = open(filename, \"r\", encoding=\"utf-8\")\n",
    "        # Concadenacion del texto\n",
    "        text += file_text.read()\n",
    "        # Cierre del texto\n",
    "        file_text.close()\n",
    "    return text\n",
    "\n",
    "\n",
    "def clean_text(text: str) -> str:\n",
    "    \"\"\"\n",
    "    Limpia un string de los caracteres \\n, \\t ,\\xa0 y espacios en blanco.\n",
    "    Input:\n",
    "     String -> Texto plano\n",
    "\n",
    "    Output:\n",
    "     Lista de palabras en el texto sin \\n, \\t, \\xa0 y espacios en blanco\n",
    "    \"\"\"\n",
    "    text_out = text.split()\n",
    "    return text_out\n",
    "\n",
    "\n",
    "def lexical_diversity(text: str) -> float:\n",
    "    \"\"\"\n",
    "    Mide la riqueza lexica de un documento\n",
    "    Input: \n",
    "        String -> Texto plano\n",
    "\n",
    "    Output:\n",
    "        Float -> riqueza lexica del documento\n",
    "    \"\"\"\n",
    "    return len(text) / len(set(text))\n",
    "\n",
    "\n",
    "def to_unidecode(text: str) -> str:\n",
    "    \"\"\"\n",
    "    Convierte el texto a unidecode\n",
    "    Input:\n",
    "        String -> Texto plano\n",
    "\n",
    "    Output:\n",
    "        String -> Texto unidecode\n",
    "    \"\"\"\n",
    "    return unidecode.unidecode(text)\n",
    "\n",
    "\n",
    "def to_lowercase(text: str, use_unidecode: bool = False) -> str:\n",
    "    \"\"\"\n",
    "    Convierte el texto a minusculas usando caracteres unidecode o no\n",
    "    Input:\n",
    "        String -> Texto plano\n",
    "        Bool -> Decision si hace uso de los caracteres unidecode\n",
    "\n",
    "    Output:\n",
    "        String -> Texto en minusculas del texto dado\n",
    "    \"\"\"\n",
    "    if use_unidecode:\n",
    "        return to_unidecode(text.lower())\n",
    "    else:\n",
    "        return text.lower()\n",
    "\n",
    "\n",
    "def exercise_2_point_1_2_3_4(text: str, clean: bool = True) -> None:\n",
    "    \"\"\"\n",
    "    Ejecuta los puntos 1, 2 ,3 y 4 del punto 2 de la tarea\n",
    "    \"\"\"\n",
    "    # Limpia el texto de caracteres \\n, \\t y \\xa0\n",
    "    if clean:\n",
    "        text_lines = clean_text(text)\n",
    "    else:\n",
    "        text_lines = text\n",
    "    print(\"La cantidad de palabras es de {}\".format(len(text_lines)))\n",
    "    # Obtiene las palabras unicas en el texto\n",
    "    text_set = set(text_lines)\n",
    "    print(\"La longitud del vocabulario es de {}\".format(len(text_set)))\n",
    "    # Obtiene la riqueza lexica de las conferencias\n",
    "    print(\"La riqueza lexica de las conferencias es de {}\".format(\n",
    "        lexical_diversity(text_lines)))\n",
    "\n",
    "\n",
    "def obtain_only_words_with_regex_nltk(text: str) -> list:\n",
    "    \"\"\"\n",
    "    Obtiene las palabras usando regexp de nltk de mayusculas y minusculas\n",
    "    Input:\n",
    "        String -> Texto plano\n",
    "\n",
    "    Output:\n",
    "        List of strings -> Lista de palabras\n",
    "    \"\"\"\n",
    "    # Definicion del tokenizador\n",
    "    tokenizer = RegexpTokenizer(\"[a-zA-Z]+\")\n",
    "    # Lista de palabras\n",
    "    return tokenizer.tokenize(text)\n",
    "\n",
    "\n",
    "def obtain_only_words_with_tweet_tokenizer(text: str) -> list:\n",
    "    \"\"\"\n",
    "    Obtiene las palabras usando TweetTokenizer de nltk de un texto minusculas\n",
    "    Input:\n",
    "        String -> Texto plano\n",
    "\n",
    "    Output:\n",
    "        List of strings -> Lista de palabras\n",
    "    \"\"\"\n",
    "    # Crea una referencia para la clase TweetTokenizer\n",
    "    tk = TweetTokenizer()\n",
    "    # Creacion de los tokens\n",
    "    return tk.tokenize(text)\n",
    "\n",
    "\n",
    "def obtain_len_of_all_words(text: list) -> list:\n",
    "    \"\"\"\n",
    "    Obtiene la longitud de cada palabra en una lista de palabras\n",
    "    Input: \n",
    "        List of strings: Lista de palabras\n",
    "\n",
    "    Output:\n",
    "        List of strings: Lista de la longitud de cada palabra\n",
    "    \"\"\"\n",
    "    return [len(word) for word in text]\n",
    "\n",
    "\n",
    "def print_concordance(text: nltk.Text, word: str) -> None:\n",
    "    print(\"\\n------ Resultados para {}--------\".format(word))\n",
    "    print(text.concordance(word))\n",
    "\n",
    "\n",
    "def str_date_to_date(date: str) -> datetime.date:\n",
    "    \"\"\"\n",
    "    Convierte una fecha con el formato yyyy-mm-dd a datetime\n",
    "    Input:\n",
    "        String: date -> fecha con formato yyyy-mm-dd\n",
    "        \n",
    "    Output:\n",
    "        datetime: fecha\n",
    "    \"\"\"\n",
    "    year, month, day = date.split(\"-\")\n",
    "    year = int(year)\n",
    "    month = int(month)\n",
    "    day = int(day)\n",
    "    date = datetime.date(year, month, day)\n",
    "    return date\n",
    "\n",
    "def read_text(path, file)-> nltk.Text:\n",
    "    \"\"\"\n",
    "    Abre un archivo, lee su texto y obtiene los tokens usando tweet tokenizer\n",
    "    Inputs:\n",
    "        String: path -> direccion del archivo\n",
    "        String: file -> nombre del archivo\n",
    "    \"\"\"\n",
    "    text = open(\"{}{}\".format(path, file)).read()\n",
    "    text = clean_text(text)\n",
    "    text = ' '.join(text)\n",
    "    words = obtain_only_words_with_tweet_tokenizer(to_lowercase(text, True))\n",
    "    return words\n",
    "\n",
    "def cfd_to_dataframe(cfd:nltk.probability.ConditionalFreqDist,target:str)->pd.DataFrame:\n",
    "    \"\"\"\n",
    "    Dado un ConditionalFreqDist obtiene los valores y los guarda en un dataframe\n",
    "    Inputs:\n",
    "        ConditionalFreqDist\n",
    "        String: Nombre del target\n",
    "    \n",
    "    Output:\n",
    "        Dataframe: Valores del ConditionalFreqDist\n",
    "    \"\"\"\n",
    "    dataframe = pd.DataFrame()\n",
    "    data = cfd[target]\n",
    "    dates = [key for key in data.keys()]\n",
    "    values = [data[key] for key in data.keys()]\n",
    "    dataframe[\"Dates\"] = dates\n",
    "    dataframe[target] = values\n",
    "    return dataframe"
   ]
  },
  {
   "cell_type": "markdown",
   "metadata": {},
   "source": [
    "### 2) Vistazo a los datos\n",
    "+ 1) Cargue todas las conferencias en un string y aplique la función split para generar tokens\n",
    "fácilmente."
   ]
  },
  {
   "cell_type": "code",
   "execution_count": 2,
   "metadata": {},
   "outputs": [],
   "source": [
    "path=\"dataset/\"\n",
    "# Lectura de los nombres de los archivos\n",
    "text = read_all_text(path)"
   ]
  },
  {
   "cell_type": "markdown",
   "metadata": {},
   "source": [
    "+ 2. Contar la cantidad de palabras en todas las conferencias.\n",
    "+ 3. Extraer el vocabulario y mostrar su longitud.\n",
    "+ 4. Mida la riqueza del vocabulario de alguna forma en todos los documentos."
   ]
  },
  {
   "cell_type": "code",
   "execution_count": 3,
   "metadata": {},
   "outputs": [
    {
     "name": "stdout",
     "output_type": "stream",
     "text": [
      "La cantidad de palabras es de 8039596\n",
      "La longitud del vocabulario es de 170688\n",
      "La riqueza lexica de las conferencias es de 47.10112017247844\n",
      "La cantidad de palabras es de 8039605\n",
      "La longitud del vocabulario es de 154406\n",
      "La riqueza lexica de las conferencias es de 52.06795720373561\n"
     ]
    }
   ],
   "source": [
    "exercise_2_point_1_2_3_4(text)\n",
    "text_unidecode_lower = to_lowercase(text, True)\n",
    "exercise_2_point_1_2_3_4(text_unidecode_lower)"
   ]
  },
  {
   "cell_type": "markdown",
   "metadata": {},
   "source": [
    "+ 5. Haga lo mismo que los 4 puntos anteriores pero con todo el texto en minúsculas. Vea\n",
    "las diferencias y comente brevemente."
   ]
  },
  {
   "cell_type": "code",
   "execution_count": 4,
   "metadata": {},
   "outputs": [
    {
     "name": "stdout",
     "output_type": "stream",
     "text": [
      "La cantidad de palabras es de 8039596\n",
      "La longitud del vocabulario es de 157166\n",
      "La riqueza lexica de las conferencias es de 51.15353193438784\n"
     ]
    }
   ],
   "source": [
    "text_lower = to_lowercase(text)\n",
    "exercise_2_point_1_2_3_4(text_lower)"
   ]
  },
  {
   "cell_type": "markdown",
   "metadata": {},
   "source": [
    "+ 6. Haga lo mismo que los puntos 1, 2 y 3 usando el tokenizador RegExp de NLTK, con\n",
    "una expresión regular que trate de sacar solo tokens que pueden contener solo letras\n",
    "mayúsculas y minúsculas. Después cargue los tokens en un objeto Text de NLTK en\n",
    "lugar de una lista de Python."
   ]
  },
  {
   "cell_type": "code",
   "execution_count": 5,
   "metadata": {},
   "outputs": [
    {
     "name": "stdout",
     "output_type": "stream",
     "text": [
      "La cantidad de palabras es de 7944645\n",
      "La longitud del vocabulario es de 74555\n",
      "La riqueza lexica de las conferencias es de 106.56086110924821\n"
     ]
    }
   ],
   "source": [
    "# Convierte el texto en unidecode\n",
    "text_unidecode = to_unidecode(text)\n",
    "text_nltk = obtain_only_words_with_regex_nltk(text_unidecode)\n",
    "exercise_2_point_1_2_3_4(text_nltk, False)"
   ]
  },
  {
   "cell_type": "markdown",
   "metadata": {},
   "source": [
    "+ 7) Haga todo el texto minúsculas. Haga los mismo que los puntos 1, 2, y 3 usando el\n",
    "tokenizador TweetTokenizer. Haga el resto de esta tarea asumiendo haber hecho este\n",
    "punto."
   ]
  },
  {
   "cell_type": "code",
   "execution_count": 6,
   "metadata": {},
   "outputs": [
    {
     "name": "stdout",
     "output_type": "stream",
     "text": [
      "La cantidad de palabras es de 9283310\n",
      "La longitud del vocabulario es de 70357\n",
      "La riqueza lexica de las conferencias es de 131.94579075287461\n"
     ]
    }
   ],
   "source": [
    "# Convierte el texto en unidecode y en minusculas\n",
    "text_unidecode_lower = to_lowercase(text, True)\n",
    "text_tweet = obtain_only_words_with_tweet_tokenizer(text_unidecode_lower)\n",
    "exercise_2_point_1_2_3_4(text_tweet, False)"
   ]
  },
  {
   "cell_type": "markdown",
   "metadata": {},
   "source": [
    "## Funciones NLTK\n",
    "+ 1) Use la función concordance para ver el contexto de 5 palabras que usted elija."
   ]
  },
  {
   "cell_type": "code",
   "execution_count": 7,
   "metadata": {},
   "outputs": [
    {
     "name": "stdout",
     "output_type": "stream",
     "text": [
      "\n",
      "------ Resultados para dengue--------\n",
      "Displaying 25 of 121 matches:\n",
      " , nuestra preocupacion respecto al dengue o respecto a cualquier otro tipo de\n",
      "lo de la agenda . pregunta : lo del dengue , por favor , a groso modo , los ca\n",
      "favor , a groso modo , los casos de dengue , presidente . presidente andres ma\n",
      "n mas de 300 por ciento en casos de dengue y tambien se tiene un reporte de qu\n",
      "ion , no tenemos ese dato de lo del dengue , del incremento del dengue . no . \n",
      " lo del dengue , del incremento del dengue . no . y lo de las medicinas , hay \n",
      "asi todo . entonces , ? como que el dengue es porque no se compraron los insec\n",
      "e insecticidas haya una epidemia de dengue , no lo he visto . he estado en los\n",
      "o en un hospital , unos enfermos de dengue , pero no es un asunto generalizado\n",
      " vamos a tener informacion sobre el dengue . ayer me preguntaron de este tema \n",
      "ue por eso crecio la influencia del dengue en el pais . se pidio informacion s\n",
      "squito , que es el que transmite el dengue . entonces , tiene que ver mucho co\n",
      "odas y todos . les comento sobre el dengue - y es una enorme oportunidad para \n",
      " la salud - porque efectivamente el dengue es una enfermedad infecciosa que af\n",
      "omento un poco de antecedentes . el dengue es una enfermedad infecciosa , esta\n",
      "bre y existen cuatro tipos de virus dengue , llamados asi , dengue uno , dos ,\n",
      "os de virus dengue , llamados asi , dengue uno , dos , tres y cuatro . ahorita\n",
      " a retomar sobre eso . segundo . el dengue se transmite por mosquitos , mosqui\n",
      "a el mosquito o no se transmitia el dengue se va transmitiendo . por ejemplo ,\n",
      "do . por ejemplo , en 2006 no habia dengue en guanajuato y luego empezo a habe\n",
      "n guanajuato y luego empezo a haber dengue en guanajuato y luego en aguascalie\n",
      "sion . donde no hay mosquito no hay dengue , entonces , hay que cuidar que no \n",
      " en particular . la transmision del dengue ocurre principalmente en las vivien\n",
      ", y de ahi salga la transmision del dengue . la campana tradicionalmente , la \n",
      "porque ahi es donde se acumula . el dengue ocurre todos los anos , todos los a\n",
      "None\n",
      "\n",
      "------ Resultados para contingencia--------\n",
      "Displaying 25 of 175 matches:\n",
      "enerlo de reserva ante cualquier contingencia para no caer en deficit . no ten\n",
      "atender el llamado de pemex a la contingencia de encontrarse una perforacion d\n",
      "tencion de esta crisis , de esta contingencia , encabezado por los secretarios\n",
      " equipos para poder mitigar esta contingencia . se hicieron todas las acciones\n",
      "e solicito para poder atender la contingencia . gracias . pregunta : ( inaudib\n",
      "n el gobernador , en cuanto a la contingencia que se enfrenta en ese estado re\n",
      " tuvo hace meses un ataque y una contingencia ahi de pagos y retenciones de la\n",
      "stamos preparados para cualquier contingencia . interlocutor : ok y una ultima\n",
      "o energetico . las pipas para la contingencia de abasto fueron compradas al ex\n",
      "anes para atender situaciones de contingencia , se detecta que el mecanismo ti\n",
      "an a ir acumulando por cualquier contingencia , toco madera , pero vale mas te\n",
      " de gobierno solo en un dia hubo contingencia ambiental . si hay una situacion\n",
      "omo lo hicieron ayer , pese a la contingencia . senala enrique enriquez que la\n",
      "valle de mexico , estamos en una contingencia , pero tambien en otros lugares \n",
      "en la parte centro del pais , la contingencia ambiental , quisiera yo saber cu\n",
      "ida extraordinaria debido a esta contingencia , a este tema que estamos tratan\n",
      " evacuar . si ustedes tienen una contingencia de este tipo y tratan de sacar c\n",
      "tema ? y si existe algun plan de contingencia , algo previo para enfrentar una\n",
      "as finanzas publicas ante alguna contingencia , es un fondo que se suscribio h\n",
      "s a la semana para que en alguna contingencia ellos mismos puedan hacerse fren\n",
      "oteccion ; y el caso del plan de contingencia en chihuahua , donde en colabora\n",
      "ia de contaminacion , tambien la contingencia . pero eso es una parte del prob\n",
      "nes del gobierno federal ante la contingencia mundial del coronavirus.mas info\n",
      "dado caso de que se presente una contingencia ? presidente andres manuel lopez\n",
      "taran medidas preventivas por la contingencia sanitaria de covid-19.sobre las \n",
      "None\n",
      "\n",
      "------ Resultados para periodistas--------\n",
      "Displaying 25 of 919 matches:\n",
      "s . mire , en esta semana van dos periodistas asesinados , yo le quiero pregunt\n",
      "odos los ciudadanos y a todos los periodistas . y van a continuarse las investi\n",
      "ticia y proteccion para todos los periodistas este es un asunto que esta viendo\n",
      ", solo para comentar que para los periodistas si ha servido mucho y muchas inve\n",
      " la sociedad civil , reporteros , periodistas , estan preocupados por su seguri\n",
      "ccion a ciudadanos , o el caso de periodistas amenazados , que tenemos nosotros\n",
      ". pregunta : ( inaudible ) ... de periodistas y luchadores de derechos humanos \n",
      "mpleta a todos los ciudadanos , a periodistas . por eso esta ahi alejandro enci\n",
      "tervencion , dedico esa medalla a periodistas que han perdido la vida en el eje\n",
      "vidores publicos , ni tampoco con periodistas . a nadie le he dicho : ' oye , e\n",
      "bajo de los informadores , de los periodistas , de los medios . ellos tienen qu\n",
      "no son aplaudidores , ustedes son periodistas , pero se esta comprando la mayor\n",
      "tas . les agradecemos mucho a los periodistas , a los medios de informacion que\n",
      "que tambien tenemos nosotros como periodistas referencias de lo que les pagan p\n",
      "zon . libertad y proteccion a los periodistas de los medios de comunicacion.pos\n",
      "se ha dado a conocer una lista de periodistas , comunicadores que recibian dine\n",
      "s paginas de internet , ? a estos periodistas se les va a investigar , o simple\n",
      " se acaba el soborno a medios y a periodistas . vamos a transparentar lo que ti\n",
      "n consideracion . en cuanto a los periodistas , nosotros vamos a procurar que n\n",
      "os paises mas mortiferos para los periodistas , es el tercero si no mal recuerd\n",
      " preparado de proteccion para los periodistas ? y la ultima es : ahora con el a\n",
      "ra con el anuncio de personajes y periodistas criticos de anteriores gobiernos \n",
      "te , de los flores magon , de los periodistas opositores . nosotros venimos de \n",
      "o es muy doloroso , sobre todo en periodistas de los estados , porque , como de\n",
      "ando hay amenazas ; es el caso de periodistas . ahi tenemos que mantener la pro\n",
      "None\n",
      "\n",
      "------ Resultados para hospitales--------\n",
      "Displaying 25 of 2322 matches:\n",
      " hay centros de salud , donde hay hospitales , estan saturados , no tienen equ\n",
      "pecialistas . hay alrededor de 70 hospitales abandonados , es una situacion gr\n",
      "as unidades medicas rurales , los hospitales de segundo nivel , van a pasar a \n",
      "ue no pagaba cuota iba a ir a los hospitales del seguro . no va a ser asi . va\n",
      " no va a ser asi . van a ir a los hospitales del seguro , porque es una obliga\n",
      "de salud , sobre las consultas en hospitales militares . sencillamente no he e\n",
      " tiene a su cargo cuando mucho 10 hospitales en los estados , 10 . no dependen\n",
      "ales . los centros de salud y los hospitales dependen de los gobiernos estatal\n",
      " en los centros de salud , en los hospitales . es todo un programa de apoyo a \n",
      " en los centros de salud , en los hospitales . todo eso es parte del plan de d\n",
      " escuelas , de centros de salud , hospitales . todo esto , tambien , apoyado e\n",
      "onstruyen carreteras y construyen hospitales y construyen escuelas . siempre .\n",
      "ntros de salud , no funcionan los hospitales ; no hay medicos en los centros d\n",
      " en los centros de salud , en los hospitales , no hay medicinas . un desastre \n",
      "omo un cascaron , tiene solo ocho hospitales la secretaria de salud federal en\n",
      "e salud federal en el pais , ocho hospitales . se trasladaron , se pasaron , s\n",
      "cial . hay centros de salud , hay hospitales inconclusos , porque les importab\n",
      "r en proceso la obra . hay muchos hospitales abandonados , hay hospitales term\n",
      "chos hospitales abandonados , hay hospitales terminados sin equipamiento , sin\n",
      "ible , bajo su responsabilidad 20 hospitales en todo el pais y esos 20 hospita\n",
      "pitales en todo el pais y esos 20 hospitales , la mitad , un poco mas , son lo\n",
      "n hospitalaria de calidad y luego hospitales de especialidades . pero , ? que \n",
      "y que terminar centros de salud y hospitales inconclusos ; hay que contratar p\n",
      "os que visitan las carceles , los hospitales , los centros de detencion ; a lo\n",
      "ay centros de salud abandonados , hospitales abandonados , centros de salud y \n",
      "None\n",
      "\n",
      "------ Resultados para metro--------\n",
      "Displaying 25 of 216 matches:\n",
      "ador en la compra de vagones para el metro . ya se estan destinando 250 millone\n",
      "ntentos de secuestro a mujeres en el metro de la ciudad de mexico y el estado d\n",
      "litos cometidos contra mujeres en el metro ? presidente andres manuel lopez obr\n",
      " inseguridad que esta viviendo en el metro ? sobre todo el acoso a las mujeres \n",
      "s para los vagones de la linea 3 del metro que esta practicamente detenido , au\n",
      " de tu pregunta sobre los trenes del metro , sobre el agua para monterrey . hem\n",
      " problemas de jovenes atacadas en el metro . ? es necesario una limpia ? ? que \n",
      "pez obrador : miren , en el caso del metro de guadalajara les tengo a los ciuda\n",
      "ticia . vamos a terminar este ano el metro . ? por que es buena noticia ? porqu\n",
      "obierno anterior que se terminaba el metro con una inversion de mil millones de\n",
      " en diciembre ya este funcionando el metro de guadalajara . a ver , alla atras \n",
      "o , asi estan inconclusos trenes del metro , el tren toluca , el tren jalisco ,\n",
      "i aumentaba el precio del boleto del metro o no , como consulte varias cosas . \n",
      "n el sistema de transporte colectivo metro , que depende del gobierno de la ciu\n",
      "n el sistema de transporte colectivo metro , tambien esta en la camara de diput\n",
      "ara supervisando la construccion del metro de guadalajara , porque queremos ter\n",
      " eso no se terminaba de construir el metro , que se habian causado muchas moles\n",
      "icen . ? que se acordo ? terminar el metro . pregunta : ? cuando ? presidente a\n",
      " 4 , tengo el compromiso tambien del metro de chalco . son de los dos compromis\n",
      "unidades . presentamos el boleto del metro , el billete de la loteria nacional \n",
      " se va a dar a conocer el boleto del metro , la imagen de un boleto de la loter\n",
      "emitieron 10 millones de boletos del metro en conmemoracion a emiliano zapata ,\n",
      " abril en las ventanillas del propio metro de la ciudad de mexico . y ademas en\n",
      "la ciudad de mexico . y ademas en el metro pino suarez se presenta una exposici\n",
      "on de la biografia de zapata y en el metro zapata tambien hay una exposicion fo\n",
      "None\n"
     ]
    }
   ],
   "source": [
    "text_nltk = nltk.Text(text_tweet)\n",
    "print_concordance(text_nltk, \"dengue\")\n",
    "print_concordance(text_nltk, \"contingencia\")\n",
    "print_concordance(text_nltk, \"periodistas\")\n",
    "print_concordance(text_nltk, \"hospitales\")\n",
    "print_concordance(text_nltk, \"metro\")"
   ]
  },
  {
   "cell_type": "markdown",
   "metadata": {},
   "source": [
    "+ 2) Elija una palabra que le parezca interesante y muestre palabras con uso similar. Muestre\n",
    "también los contextos comunes"
   ]
  },
  {
   "cell_type": "code",
   "execution_count": 8,
   "metadata": {},
   "outputs": [
    {
     "name": "stdout",
     "output_type": "stream",
     "text": [
      "salud vida seguridad que atencion corrupcion semana informacion\n",
      "violencia poblacion administracion vacunacion educacion investigacion\n",
      "familia vacuna manana justicia inversion produccion\n"
     ]
    }
   ],
   "source": [
    "text_nltk.similar(\"muerte\")"
   ]
  },
  {
   "cell_type": "markdown",
   "metadata": {},
   "source": [
    "+ 3) Generar un dispersion plot de las\n",
    "siguientes palabras: prian, corrupción, mafia, narco, gasolina, pipas, conacyt, ciencia,\n",
    "turismo, pandemia, coronavirus, covid, delta, omicron, vacuna, vacunacion. y otras\n",
    "tres palabras de su elección."
   ]
  },
  {
   "cell_type": "code",
   "execution_count": 9,
   "metadata": {},
   "outputs": [
    {
     "name": "stderr",
     "output_type": "stream",
     "text": [
      "/home/giovanni/.local/lib/python3.8/site-packages/nltk/draw/__init__.py:15: UserWarning: nltk.draw package not loaded (please install Tkinter library).\n",
      "  warnings.warn(\"nltk.draw package not loaded (please install Tkinter library).\")\n"
     ]
    },
    {
     "data": {
      "image/png": "[encoded data removed]",
      "text/plain": [
       "<Figure size 432x288 with 1 Axes>"
      ]
     },
     "metadata": {
      "needs_background": "light"
     },
     "output_type": "display_data"
    }
   ],
   "source": [
    "words = [\"prian\",\n",
    "         \"corrupción\",\n",
    "         \"mafia\",\n",
    "         \"narco\",\n",
    "         \"gasolina\",\n",
    "         \"pipas\",\n",
    "         \"conacyt\",\n",
    "         \"ciencia\",\n",
    "         \"turismo\",\n",
    "         \"pandemia\",\n",
    "         \"coronavirus\",\n",
    "         \"covid\",\n",
    "         \"delta\",\n",
    "         \"omicron\",\n",
    "         \"vacuna\",\n",
    "         \"vacunacion\",\n",
    "         \"hospital\",\n",
    "         \"metro\",\n",
    "         \"dengue\"]\n",
    "text_nltk.dispersion_plot(words)"
   ]
  },
  {
   "cell_type": "markdown",
   "metadata": {},
   "source": [
    "+ 4) Muestre 50 colocaciones de todo el corpus."
   ]
  },
  {
   "cell_type": "code",
   "execution_count": 10,
   "metadata": {},
   "outputs": [
    {
     "name": "stdout",
     "output_type": "stream",
     "text": [
      "lopez obrador; andres manuel; manuel lopez; presidente andres; estados\n",
      "unidos; por ciento; buenos dias; version estenografica; senor\n",
      "presidente; prensa matutina; todos los; nada mas; guardia nacional;\n",
      "muchas gracias; adultos mayores; desde luego; por eso; por ejemplo;\n",
      "marcelo ebrard; derechos humanos; tren maya; mil millones; sin\n",
      "embargo; todas las; muy importante; que que; baja california; matutina\n",
      "del; sobre todo; creo que; ebrard casaubon; muy bien; quintana roo;\n",
      "nuestro pais; tiene que; ver con; para que; sembrando vida; benito\n",
      "juarez; que nos; los trabajadores; comision federal; gobierno federal;\n",
      "hugo lopez-gatell; dos bocas; 5093 4900; documentosdocumentos\n",
      "gabinetegabinete; reserved developed; rights reserved; 01800 080 1127\n"
     ]
    }
   ],
   "source": [
    "text_nltk.collocations(num=50)"
   ]
  },
  {
   "cell_type": "markdown",
   "metadata": {},
   "source": [
    "+ 5) Muestre un histograma de longitud en caracteres de las palabras. Muestre en el his-\n",
    "tograma el top 5 de longitudes más largas."
   ]
  },
  {
   "cell_type": "code",
   "execution_count": 11,
   "metadata": {},
   "outputs": [
    {
     "data": {
      "text/plain": [
       "(array([3.3986e+04, 3.5405e+04, 8.8000e+02, 5.5000e+01, 1.6000e+01,\n",
       "        5.0000e+00, 1.0000e+00, 0.0000e+00, 8.0000e+00, 1.0000e+00]),\n",
       " array([ 1.,  9., 17., 25., 33., 41., 49., 57., 65., 73., 81.]),\n",
       " <BarContainer object of 10 artists>)"
      ]
     },
     "execution_count": 11,
     "metadata": {},
     "output_type": "execute_result"
    },
    {
     "data": {
      "image/png": "[encoded data removed]",
      "text/plain": [
       "<Figure size 432x288 with 1 Axes>"
      ]
     },
     "metadata": {
      "needs_background": "light"
     },
     "output_type": "display_data"
    }
   ],
   "source": [
    "word_len = obtain_len_of_all_words(set(text_nltk))\n",
    "plt.hist(word_len)"
   ]
  },
  {
   "cell_type": "markdown",
   "metadata": {},
   "source": [
    "+ 6) Muestre 50 palabras con longitud mayor a 8 caracteres y frecuencia mayor a 5 en todo\n",
    "el texto usando comprenhension list de python."
   ]
  },
  {
   "cell_type": "code",
   "execution_count": 12,
   "metadata": {},
   "outputs": [
    {
     "data": {
      "text/plain": [
       "['kilogramo',\n",
       " 'denunciados',\n",
       " 'subsecuentes',\n",
       " 'encubierta',\n",
       " 'ahorrando',\n",
       " 'defendemos',\n",
       " 'virtualmente',\n",
       " 'encuestadoras',\n",
       " 'recuperarlo',\n",
       " 'indirecta',\n",
       " 'archivaldo',\n",
       " 'establecido',\n",
       " 'caracteristicamente',\n",
       " 'demandaban',\n",
       " 'incidente',\n",
       " 'ministros',\n",
       " 'atendimos',\n",
       " 'trasladado',\n",
       " 'sensibilizacion',\n",
       " 'increible',\n",
       " 'servidora',\n",
       " 'regularizacion',\n",
       " 'quintanarroenses',\n",
       " 'tlaquepaque',\n",
       " 'celebrando',\n",
       " 'disminuir',\n",
       " 'deteriorando',\n",
       " 'transfirio',\n",
       " 'utilizarse',\n",
       " 'exigencia',\n",
       " 'exonerado',\n",
       " 'verdaderas',\n",
       " 'industrial',\n",
       " 'cancelarla',\n",
       " 'necesitaran',\n",
       " 'cuajinicuilapa',\n",
       " 'certificaciones',\n",
       " 'residencia',\n",
       " 'regulador',\n",
       " 'transferian',\n",
       " 'apartados',\n",
       " 'indagatoria',\n",
       " 'refacciones',\n",
       " 'regresaramos',\n",
       " 'estudiarlo',\n",
       " 'vasconcelos',\n",
       " 'plebiscito',\n",
       " 'remesadora',\n",
       " 'finalidad',\n",
       " 'polarizado']"
      ]
     },
     "execution_count": 12,
     "metadata": {},
     "output_type": "execute_result"
    }
   ],
   "source": [
    "word_dist = FreqDist(text_nltk)\n",
    "words_select = list(\n",
    "    set([word for word in text_nltk if len(word) > 8 and word_dist[word] > 5]))\n",
    "words_select[:50]"
   ]
  },
  {
   "cell_type": "markdown",
   "metadata": {},
   "source": [
    "+ 8) Use la lista de stopwords de nltk y obtenga la cantidad de palabras en los datos con y\n",
    "sin stopword."
   ]
  },
  {
   "cell_type": "code",
   "execution_count": 13,
   "metadata": {},
   "outputs": [],
   "source": [
    "stopwords = stopwords.words('spanish')\n",
    "text_without_stopwords = [word for word in text_nltk if not word in stopwords]"
   ]
  },
  {
   "cell_type": "code",
   "execution_count": 14,
   "metadata": {},
   "outputs": [
    {
     "name": "stdout",
     "output_type": "stream",
     "text": [
      "Esta es la cantidad de palabras sin filtrar las stopwords 9283310\n",
      "Esta es la cantidad de palabras filtrando las stopwords 5295150\n"
     ]
    }
   ],
   "source": [
    "print(\"Esta es la cantidad de palabras sin filtrar las stopwords {}\".format(len(text_nltk)))\n",
    "print(\"Esta es la cantidad de palabras filtrando las stopwords {}\".format(\n",
    "    len(text_without_stopwords)))"
   ]
  },
  {
   "cell_type": "markdown",
   "metadata": {},
   "source": [
    "+ 9) Muestre las 300 palabras más frecuentes en las conferencias, sin tomar en cuenta stop-\n",
    "words. Muéstrelas de la más frecuente a la menos frecuente."
   ]
  },
  {
   "cell_type": "code",
   "execution_count": 15,
   "metadata": {},
   "outputs": [
    {
     "name": "stdout",
     "output_type": "stream",
     "text": [
      "Palabra   1:               ,\tFrecuencia: 714282\n",
      "Palabra   2:               .\tFrecuencia: 306394\n",
      "Palabra   3:               ?\tFrecuencia: 71520\n",
      "Palabra   4:               :\tFrecuencia: 67257\n",
      "Palabra   5:      presidente\tFrecuencia: 53786\n",
      "Palabra   6:              si\tFrecuencia: 48032\n",
      "Palabra   7:             mas\tFrecuencia: 37337\n",
      "Palabra   8:         tambien\tFrecuencia: 30351\n",
      "Palabra   9:           lopez\tFrecuencia: 28184\n",
      "Palabra  10:          manuel\tFrecuencia: 27917\n",
      "Palabra  11:         obrador\tFrecuencia: 27596\n",
      "Palabra  12:          andres\tFrecuencia: 27409\n",
      "Palabra  13:        entonces\tFrecuencia: 25595\n",
      "Palabra  14:              va\tFrecuencia: 25043\n",
      "Palabra  15:           vamos\tFrecuencia: 25015\n",
      "Palabra  16:          mexico\tFrecuencia: 23938\n",
      "Palabra  17:               ;\tFrecuencia: 23365\n",
      "Palabra  18:             mil\tFrecuencia: 21036\n",
      "Palabra  19:               -\tFrecuencia: 19070\n",
      "Palabra  20:           estan\tFrecuencia: 18482\n",
      "Palabra  21:               '\tFrecuencia: 17639\n",
      "Palabra  22:        gobierno\tFrecuencia: 17340\n",
      "Palabra  23:            aqui\tFrecuencia: 15454\n",
      "Palabra  24:             dos\tFrecuencia: 13121\n",
      "Palabra  25:           ahora\tFrecuencia: 12807\n",
      "Palabra  26:        nacional\tFrecuencia: 12649\n",
      "Palabra  27:             ver\tFrecuencia: 12355\n",
      "Palabra  28:        pregunta\tFrecuencia: 12191\n",
      "Palabra  29:            caso\tFrecuencia: 11541\n",
      "Palabra  30:            dias\tFrecuencia: 11198\n",
      "Palabra  31:            pais\tFrecuencia: 11175\n",
      "Palabra  32:        millones\tFrecuencia: 10887\n",
      "Palabra  33:             van\tFrecuencia: 10477\n",
      "Palabra  34:             ahi\tFrecuencia: 10431\n",
      "Palabra  35:           usted\tFrecuencia: 10365\n",
      "Palabra  36:            pues\tFrecuencia: 10257\n",
      "Palabra  37:             ser\tFrecuencia: 10218\n",
      "Palabra  38:           hacer\tFrecuencia: 10143\n",
      "Palabra  39:           bueno\tFrecuencia: 9973\n",
      "Palabra  40:           senor\tFrecuencia: 9811\n",
      "Palabra  41:         gracias\tFrecuencia: 9476\n",
      "Palabra  42:             asi\tFrecuencia: 9276\n",
      "Palabra  43:           gente\tFrecuencia: 9249\n",
      "Palabra  44:           pesos\tFrecuencia: 9144\n",
      "Palabra  45:           salud\tFrecuencia: 8806\n",
      "Palabra  46:            tema\tFrecuencia: 8789\n",
      "Palabra  47:      secretaria\tFrecuencia: 8644\n",
      "Palabra  48:          ciento\tFrecuencia: 8477\n",
      "Palabra  49:             ...\tFrecuencia: 8451\n",
      "Palabra  50:          pueblo\tFrecuencia: 8361\n",
      "Palabra  51:            bien\tFrecuencia: 8309\n",
      "Palabra  52:           decir\tFrecuencia: 8302\n",
      "Palabra  53:             ano\tFrecuencia: 8262\n",
      "Palabra  54:      importante\tFrecuencia: 8201\n",
      "Palabra  55:           tener\tFrecuencia: 8168\n",
      "Palabra  56:          manera\tFrecuencia: 8022\n",
      "Palabra  57:             hoy\tFrecuencia: 7970\n",
      "Palabra  58:           puede\tFrecuencia: 7941\n",
      "Palabra  59:             dia\tFrecuencia: 7793\n",
      "Palabra  60:     informacion\tFrecuencia: 7745\n",
      "Palabra  61:           parte\tFrecuencia: 7715\n",
      "Palabra  62:            tres\tFrecuencia: 7710\n",
      "Palabra  63:           mismo\tFrecuencia: 7671\n",
      "Palabra  64:            anos\tFrecuencia: 7522\n",
      "Palabra  65:          prensa\tFrecuencia: 7406\n",
      "Palabra  66:    interlocutor\tFrecuencia: 7353\n",
      "Palabra  67:          buenos\tFrecuencia: 7307\n",
      "Palabra  68:        personas\tFrecuencia: 7305\n",
      "Palabra  69:       seguridad\tFrecuencia: 7247\n",
      "Palabra  70:          tiempo\tFrecuencia: 7223\n",
      "Palabra  71:            hace\tFrecuencia: 7207\n",
      "Palabra  72:         general\tFrecuencia: 7187\n",
      "Palabra  73:            solo\tFrecuencia: 6849\n",
      "Palabra  74:   interlocutora\tFrecuencia: 6818\n",
      "Palabra  75:      corrupcion\tFrecuencia: 6690\n",
      "Palabra  76:           todas\tFrecuencia: 6649\n",
      "Palabra  77:          unidos\tFrecuencia: 6519\n",
      "Palabra  78:           habia\tFrecuencia: 6497\n",
      "Palabra  79:           luego\tFrecuencia: 6439\n",
      "Palabra  80:           poder\tFrecuencia: 6324\n",
      "Palabra  81:            ayer\tFrecuencia: 6191\n",
      "Palabra  82:          muchas\tFrecuencia: 6178\n",
      "Palabra  83:         acuerdo\tFrecuencia: 5968\n",
      "Palabra  84:             voy\tFrecuencia: 5883\n",
      "Palabra  85:        haciendo\tFrecuencia: 5711\n",
      "Palabra  86:        programa\tFrecuencia: 5689\n",
      "Palabra  87:         ustedes\tFrecuencia: 5627\n",
      "Palabra  88:         trabajo\tFrecuencia: 5382\n",
      "Palabra  89:          ademas\tFrecuencia: 5348\n",
      "Palabra  90:         federal\tFrecuencia: 5329\n",
      "Palabra  91:          ciudad\tFrecuencia: 5324\n",
      "Palabra  92:              19\tFrecuencia: 5279\n",
      "Palabra  93:         publica\tFrecuencia: 5265\n",
      "Palabra  94:     conferencia\tFrecuencia: 5249\n",
      "Palabra  95:        empresas\tFrecuencia: 5012\n",
      "Palabra  96:           covid\tFrecuencia: 4974\n",
      "Palabra  97:          semana\tFrecuencia: 4966\n",
      "Palabra  98:         ejemplo\tFrecuencia: 4905\n",
      "Palabra  99:            cada\tFrecuencia: 4859\n",
      "Palabra 100:            creo\tFrecuencia: 4849\n",
      "Palabra 101:            toda\tFrecuencia: 4778\n",
      "Palabra 102:           haber\tFrecuencia: 4744\n",
      "Palabra 103:             dar\tFrecuencia: 4722\n",
      "Palabra 104:         siempre\tFrecuencia: 4705\n",
      "Palabra 105:      secretario\tFrecuencia: 4641\n",
      "Palabra 106:           casos\tFrecuencia: 4516\n",
      "Palabra 107:            vida\tFrecuencia: 4479\n",
      "Palabra 108:    trabajadores\tFrecuencia: 4473\n",
      "Palabra 109:           apoyo\tFrecuencia: 4458\n",
      "Palabra 110:         momento\tFrecuencia: 4374\n",
      "Palabra 111:            cabo\tFrecuencia: 4346\n",
      "Palabra 112:        politica\tFrecuencia: 4316\n",
      "Palabra 113:           menos\tFrecuencia: 4168\n",
      "Palabra 114:               (\tFrecuencia: 4167\n",
      "Palabra 115:          dinero\tFrecuencia: 4166\n",
      "Palabra 116:              20\tFrecuencia: 4136\n",
      "Palabra 117:           mejor\tFrecuencia: 4113\n",
      "Palabra 118:          asunto\tFrecuencia: 4056\n",
      "Palabra 119:          manana\tFrecuencia: 4056\n",
      "Palabra 120:            plan\tFrecuencia: 4044\n",
      "Palabra 121:       mexicanos\tFrecuencia: 4018\n",
      "Palabra 122:         version\tFrecuencia: 4007\n",
      "Palabra 123:        matutina\tFrecuencia: 3986\n",
      "Palabra 124:             vez\tFrecuencia: 3986\n",
      "Palabra 125:           cosas\tFrecuencia: 3984\n",
      "Palabra 126:           hecho\tFrecuencia: 3977\n",
      "Palabra 127:           pemex\tFrecuencia: 3968\n",
      "Palabra 128:              ir\tFrecuencia: 3954\n",
      "Palabra 129:            sino\tFrecuencia: 3919\n",
      "Palabra 130:         proceso\tFrecuencia: 3894\n",
      "Palabra 131:          cuanto\tFrecuencia: 3876\n",
      "Palabra 132:          social\tFrecuencia: 3844\n",
      "Palabra 133:   estenografica\tFrecuencia: 3837\n",
      "Palabra 134:          seguir\tFrecuencia: 3832\n",
      "Palabra 135:       bienestar\tFrecuencia: 3830\n",
      "Palabra 136:         reforma\tFrecuencia: 3796\n",
      "Palabra 137:         incluso\tFrecuencia: 3785\n",
      "Palabra 138:        recursos\tFrecuencia: 3781\n",
      "Palabra 139:               )\tFrecuencia: 3746\n",
      "Palabra 140:          cuatro\tFrecuencia: 3741\n",
      "Palabra 141:       situacion\tFrecuencia: 3739\n",
      "Palabra 142:        atencion\tFrecuencia: 3725\n",
      "Palabra 143:         todavia\tFrecuencia: 3715\n",
      "Palabra 144:         jovenes\tFrecuencia: 3656\n",
      "Palabra 145:         derecho\tFrecuencia: 3656\n",
      "Palabra 146:          pueden\tFrecuencia: 3647\n",
      "Palabra 147:     presupuesto\tFrecuencia: 3631\n",
      "Palabra 148:          quiero\tFrecuencia: 3625\n",
      "Palabra 149:            sido\tFrecuencia: 3619\n",
      "Palabra 150:        problema\tFrecuencia: 3599\n",
      "Palabra 151:           mayor\tFrecuencia: 3572\n",
      "Palabra 152:         guardia\tFrecuencia: 3545\n",
      "Palabra 153:        centavos\tFrecuencia: 3516\n",
      "Palabra 154:         podemos\tFrecuencia: 3477\n",
      "Palabra 155:           mundo\tFrecuencia: 3466\n",
      "Palabra 156:           cinco\tFrecuencia: 3429\n",
      "Palabra 157:              10\tFrecuencia: 3425\n",
      "Palabra 158:        proyecto\tFrecuencia: 3412\n",
      "Palabra 159:         publico\tFrecuencia: 3390\n",
      "Palabra 160:           hacia\tFrecuencia: 3358\n",
      "Palabra 161:           nuevo\tFrecuencia: 3353\n",
      "Palabra 162:         primera\tFrecuencia: 3348\n",
      "Palabra 163:           seria\tFrecuencia: 3346\n",
      "Palabra 164:             ley\tFrecuencia: 3339\n",
      "Palabra 165:         primero\tFrecuencia: 3291\n",
      "Palabra 166:         mujeres\tFrecuencia: 3232\n",
      "Palabra 167:          paises\tFrecuencia: 3230\n",
      "Palabra 168:         conocer\tFrecuencia: 3221\n",
      "Palabra 169:          precio\tFrecuencia: 3201\n",
      "Palabra 170:          pasado\tFrecuencia: 3173\n",
      "Palabra 171:        queremos\tFrecuencia: 3162\n",
      "Palabra 172:            baja\tFrecuencia: 3151\n",
      "Palabra 173:            dice\tFrecuencia: 3134\n",
      "Palabra 174:      trabajando\tFrecuencia: 3113\n",
      "Palabra 175:         mayores\tFrecuencia: 3113\n",
      "Palabra 176:       elementos\tFrecuencia: 3098\n",
      "Palabra 177:         despues\tFrecuencia: 3095\n",
      "Palabra 178:          vacuna\tFrecuencia: 3088\n",
      "Palabra 179:        respecto\tFrecuencia: 3078\n",
      "Palabra 180:         empresa\tFrecuencia: 3049\n",
      "Palabra 181:       republica\tFrecuencia: 2990\n",
      "Palabra 182:         sistema\tFrecuencia: 2988\n",
      "Palabra 183:            gran\tFrecuencia: 2988\n",
      "Palabra 184:       violencia\tFrecuencia: 2985\n",
      "Palabra 185:            hizo\tFrecuencia: 2985\n",
      "Palabra 186:        informar\tFrecuencia: 2979\n",
      "Palabra 187:             gas\tFrecuencia: 2969\n",
      "Palabra 188:        comision\tFrecuencia: 2944\n",
      "Palabra 189:         vacunas\tFrecuencia: 2941\n",
      "Palabra 190:          medios\tFrecuencia: 2936\n",
      "Palabra 191:              da\tFrecuencia: 2921\n",
      "Palabra 192:       poblacion\tFrecuencia: 2906\n",
      "Palabra 193:          numero\tFrecuencia: 2896\n",
      "Palabra 194:   investigacion\tFrecuencia: 2876\n",
      "Palabra 195:        derechos\tFrecuencia: 2859\n",
      "Palabra 196:       instituto\tFrecuencia: 2858\n",
      "Palabra 197:            debe\tFrecuencia: 2830\n",
      "Palabra 198:     preguntarle\tFrecuencia: 2822\n",
      "Palabra 199:        hablando\tFrecuencia: 2815\n",
      "Palabra 200:      desarrollo\tFrecuencia: 2808\n",
      "Palabra 201:    construccion\tFrecuencia: 2806\n",
      "Palabra 202:         informe\tFrecuencia: 2774\n",
      "Palabra 203:        personal\tFrecuencia: 2772\n",
      "Palabra 204:            seis\tFrecuencia: 2766\n",
      "Palabra 205:        fiscalia\tFrecuencia: 2757\n",
      "Palabra 206:            tipo\tFrecuencia: 2756\n",
      "Palabra 207:          cuenta\tFrecuencia: 2751\n",
      "Palabra 208:         atender\tFrecuencia: 2747\n",
      "Palabra 209:          sector\tFrecuencia: 2743\n",
      "Palabra 210:        pandemia\tFrecuencia: 2743\n",
      "Palabra 211:           veces\tFrecuencia: 2706\n",
      "Palabra 212:           grupo\tFrecuencia: 2666\n",
      "Palabra 213:            agua\tFrecuencia: 2663\n",
      "Palabra 214:       educacion\tFrecuencia: 2639\n",
      "Palabra 215:           claro\tFrecuencia: 2615\n",
      "Palabra 216:        justicia\tFrecuencia: 2611\n",
      "Palabra 217:          cambio\tFrecuencia: 2598\n",
      "Palabra 218:           favor\tFrecuencia: 2582\n",
      "Palabra 219:             mes\tFrecuencia: 2571\n",
      "Palabra 220:        economia\tFrecuencia: 2566\n",
      "Palabra 221:           decia\tFrecuencia: 2532\n",
      "Palabra 222:           forma\tFrecuencia: 2527\n",
      "Palabra 223:        adelante\tFrecuencia: 2519\n",
      "Palabra 224:           mucha\tFrecuencia: 2484\n",
      "Palabra 225:            tren\tFrecuencia: 2482\n",
      "Palabra 226:           nadie\tFrecuencia: 2482\n",
      "Palabra 227:           dicho\tFrecuencia: 2470\n",
      "Palabra 228:           falta\tFrecuencia: 2470\n",
      "Palabra 229:           nueva\tFrecuencia: 2464\n",
      "Palabra 230:      gobernador\tFrecuencia: 2463\n",
      "Palabra 231:         adultos\tFrecuencia: 2463\n",
      "Palabra 232:      municipios\tFrecuencia: 2455\n",
      "Palabra 233:          primer\tFrecuencia: 2443\n",
      "Palabra 234:           vemos\tFrecuencia: 2439\n",
      "Palabra 235:           nunca\tFrecuencia: 2429\n",
      "Palabra 236:    precisamente\tFrecuencia: 2424\n",
      "Palabra 237:        veracruz\tFrecuencia: 2422\n",
      "Palabra 238:         defensa\tFrecuencia: 2415\n",
      "Palabra 239:            casa\tFrecuencia: 2414\n",
      "Palabra 240:            alla\tFrecuencia: 2385\n",
      "Palabra 241:           lugar\tFrecuencia: 2377\n",
      "Palabra 242:      proteccion\tFrecuencia: 2374\n",
      "Palabra 243:          inicio\tFrecuencia: 2371\n",
      "Palabra 244:          seguro\tFrecuencia: 2371\n",
      "Palabra 245:    comunicacion\tFrecuencia: 2355\n",
      "Palabra 246:           nivel\tFrecuencia: 2354\n",
      "Palabra 247:           ninos\tFrecuencia: 2347\n",
      "Palabra 248:      compromiso\tFrecuencia: 2328\n",
      "Palabra 249:      hospitales\tFrecuencia: 2322\n",
      "Palabra 250:        servicio\tFrecuencia: 2310\n",
      "Palabra 251:          sonora\tFrecuencia: 2310\n",
      "Palabra 252:          centro\tFrecuencia: 2302\n",
      "Palabra 253:    constitucion\tFrecuencia: 2294\n",
      "Palabra 254:           meses\tFrecuencia: 2274\n",
      "Palabra 255:         respeto\tFrecuencia: 2273\n",
      "Palabra 256:           total\tFrecuencia: 2268\n",
      "Palabra 257:           saber\tFrecuencia: 2262\n",
      "Palabra 258:          marina\tFrecuencia: 2258\n",
      "Palabra 259:           buena\tFrecuencia: 2237\n",
      "Palabra 260:           puedo\tFrecuencia: 2236\n",
      "Palabra 261:          traves\tFrecuencia: 2230\n",
      "Palabra 262:          partir\tFrecuencia: 2223\n",
      "Palabra 263:          ningun\tFrecuencia: 2205\n",
      "Palabra 264:             iba\tFrecuencia: 2204\n",
      "Palabra 265:         humanos\tFrecuencia: 2203\n",
      "Palabra 266:          llevar\tFrecuencia: 2186\n",
      "Palabra 267:          llegar\tFrecuencia: 2183\n",
      "Palabra 268:       proposito\tFrecuencia: 2175\n",
      "Palabra 269:              21\tFrecuencia: 2175\n",
      "Palabra 270:          podria\tFrecuencia: 2168\n",
      "Palabra 271:        relacion\tFrecuencia: 2161\n",
      "Palabra 272:         periodo\tFrecuencia: 2155\n",
      "Palabra 273:              15\tFrecuencia: 2143\n",
      "Palabra 274:             tan\tFrecuencia: 2142\n",
      "Palabra 275:           punto\tFrecuencia: 2136\n",
      "Palabra 276:           medio\tFrecuencia: 2134\n",
      "Palabra 277:         segundo\tFrecuencia: 2131\n",
      "Palabra 278:      ciudadanos\tFrecuencia: 2126\n",
      "Palabra 279:           pueda\tFrecuencia: 2125\n",
      "Palabra 280:         dolares\tFrecuencia: 2124\n",
      "Palabra 281:     autoridades\tFrecuencia: 2114\n",
      "Palabra 282:          alguna\tFrecuencia: 2110\n",
      "Palabra 283:         medicos\tFrecuencia: 2108\n",
      "Palabra 284:           algun\tFrecuencia: 2093\n",
      "Palabra 285:       gobiernos\tFrecuencia: 2073\n",
      "Palabra 286:         reunion\tFrecuencia: 2066\n",
      "Palabra 287:         segunda\tFrecuencia: 2061\n",
      "Palabra 288:      vacunacion\tFrecuencia: 2059\n",
      "Palabra 289:      democracia\tFrecuencia: 2054\n",
      "Palabra 290:         energia\tFrecuencia: 2047\n",
      "Palabra 291:          aunque\tFrecuencia: 2044\n",
      "Palabra 292:      aeropuerto\tFrecuencia: 2043\n",
      "Palabra 293:        acciones\tFrecuencia: 2041\n",
      "Palabra 294:          verdad\tFrecuencia: 2027\n",
      "Palabra 295:          juarez\tFrecuencia: 2017\n",
      "Palabra 296:        sociales\tFrecuencia: 2017\n",
      "Palabra 297:            ocho\tFrecuencia: 2008\n",
      "Palabra 298:           tenia\tFrecuencia: 2005\n",
      "Palabra 299:       inversion\tFrecuencia: 1995\n",
      "Palabra 300:         ahorita\tFrecuencia: 1988\n"
     ]
    }
   ],
   "source": [
    "word_dist = FreqDist(text_without_stopwords)\n",
    "i = 0\n",
    "for word in word_dist:\n",
    "    print(\"Palabra {: >3}: {: >15}\\tFrecuencia: {}\".format(\n",
    "        i+1, word, word_dist[word]))\n",
    "    i += 1\n",
    "    if i == 300:\n",
    "        break"
   ]
  },
  {
   "cell_type": "markdown",
   "metadata": {},
   "source": [
    "+ 7) Ver https://www.nltk.org/book/ch02.html en la sección 1.5. Proponga una gráfica\n",
    "usando ConditionalFreqDist como la de la Sección 1.5 para estos datos. Usted elige las\n",
    "palabras."
   ]
  },
  {
   "cell_type": "code",
   "execution_count": 16,
   "metadata": {},
   "outputs": [
    {
     "data": {
      "image/png": "[encoded data removed]",
      "text/plain": [
       "<Figure size 576x288 with 1 Axes>"
      ]
     },
     "metadata": {
      "needs_background": "light"
     },
     "output_type": "display_data"
    }
   ],
   "source": [
    "targets = [\"hospital\", \"periodi\"]\n",
    "colors = {\"hospital\": \"#9d0208\",\n",
    "          \"periodi\": \"#03071e\"}\n",
    "files = sorted(os.listdir(path))\n",
    "cfd = nltk.ConditionalFreqDist((target, str_date_to_date(file[:10]))\n",
    "                               for file in files\n",
    "                               for word in read_text(path, file)\n",
    "                               for target in [\"hospital\", \"periodi\"]\n",
    "                               if word.startswith(target))\n",
    "dataframe_hospital = cfd_to_dataframe(cfd,targets[0])\n",
    "dataframe_periodi = cfd_to_dataframe(cfd, targets[1])\n",
    "plt.subplots(figsize=(8, 4))\n",
    "plt.plot(dataframe_hospital[\"Dates\"],\n",
    "             dataframe_hospital[targets[0]],\n",
    "             color=colors[targets[0]],\n",
    "             label=targets[0],\n",
    "             alpha=0.5)\n",
    "plt.plot(dataframe_periodi[\"Dates\"],\n",
    "             dataframe_periodi[targets[1]],\n",
    "             color=colors[targets[1]],\n",
    "             label=targets[1],\n",
    "             alpha=0.5)\n",
    "plt.ylim(0, 120)\n",
    "plt.legend(frameon=False)\n",
    "plt.tight_layout()\n",
    "plt.show()"
   ]
  },
  {
   "cell_type": "markdown",
   "metadata": {},
   "source": [
    "## Otras librerı́as en Python\n",
    "+ 1) Mencione dos librerı́as en Python además de NLTK para NLP. Ponga una desventaja\n",
    "y ventaja de cada una."
   ]
  },
  {
   "cell_type": "markdown",
   "metadata": {},
   "source": [
    "| Libreria     |                                   Ventaja                                  |                           Desventaja                           |\n",
    "|--------------|:--------------------------------------------------------------------------:|:--------------------------------------------------------------:|\n",
    "| Spacy        | Se encuentra optimizada<br>para cada tarea                                 | No es tan flexible                                             |\n",
    "| scikit-learn | Provee un conjunto de algoritmos<br>para crear modelos de machine learning | No usa redes neuronales para<br>el preprocesamiento de textos  |"
   ]
  },
  {
   "cell_type": "markdown",
   "metadata": {},
   "source": [
    "+ 2) Mencione tres alternativas para Text Processing en NLP qué existen en otros lenguajes. De una ventaja y desventaja de cada una."
   ]
  },
  {
   "cell_type": "markdown",
   "metadata": {},
   "source": [
    "| Libreria                        | Ventaja                                                                                                            | Desventaja                                                                    |\n",
    "|---------------------------------|--------------------------------------------------------------------------------------------------------------------|-------------------------------------------------------------------------------|\n",
    "| Google AutoML: lenguaje natural | Ofrece una gran documentación y <br>variedad de modelos para realizar <br>diversos análisis de aspectos del texto  | A partir de la cantidad de peticiones<br>tiene un precio por la API           |\n",
    "| TextRazor                       | Implementación para PHP para un<br>análisis de texto en navegadores web                                            | Puede tener una latencia grande,<br>ya que la misma documentación lo advierte |\n",
    "| Text Summarization              | Ofrece resumenes de forma sencilla<br>realizandon peticiones https                                                 | Realiza una única funcion.<br>Crear resumenes del texto                       |"
   ]
  }
 ],
 "metadata": {
  "kernelspec": {
   "display_name": "Python 3 (ipykernel)",
   "language": "python",
   "name": "python3"
  },
  "language_info": {
   "codemirror_mode": {
    "name": "ipython",
    "version": 3
   },
   "file_extension": ".py",
   "mimetype": "text/x-python",
   "name": "python",
   "nbconvert_exporter": "python",
   "pygments_lexer": "ipython3",
   "version": "3.8.10"
  },
  "latex_envs": {
   "LaTeX_envs_menu_present": true,
   "autoclose": false,
   "autocomplete": true,
   "bibliofile": "biblio.bib",
   "cite_by": "apalike",
   "current_citInitial": 1,
   "eqLabelWithNumbers": true,
   "eqNumInitial": 1,
   "hotkeys": {
    "equation": "Ctrl-E",
    "itemize": "Ctrl-I"
   },
   "labels_anchors": false,
   "latex_user_defs": false,
   "report_style_numbering": false,
   "user_envs_cfg": false
  }
 },
 "nbformat": 4,
 "nbformat_minor": 4
}
