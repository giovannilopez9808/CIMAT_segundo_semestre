{
 "cells": [
  {
   "cell_type": "markdown",
   "metadata": {},
   "source": [
    "Giovanni Gamaliel López Padilla - Tarea 01"
   ]
  },
  {
   "cell_type": "code",
   "execution_count": 1,
   "metadata": {},
   "outputs": [],
   "source": [
    "from nltk.tokenize import RegexpTokenizer\n",
    "from nltk.tokenize import TweetTokenizer\n",
    "from nltk.probability import FreqDist\n",
    "import matplotlib.pyplot as plt\n",
    "import unidecode\n",
    "import nltk\n",
    "import os\n",
    "\n",
    "\n",
    "def read_all_text(path:str)->str:\n",
    "    files = sorted(os.listdir(path))\n",
    "    text = \"\"\n",
    "    for file in files:\n",
    "        # Direccion y nombre del archivo\n",
    "        filename = \"{}{}\".format(parameters[\"path dataset\"], file)\n",
    "        # Apertura del archivo\n",
    "        file_text = open(filename, \"r\", encoding=\"utf-8\")\n",
    "        # Concadenacion del texto\n",
    "        text += file_text.read()\n",
    "        # Cierre del texto\n",
    "        file_text.close()\n",
    "    return text\n",
    "\n",
    "def clean_text(text: str) -> str:\n",
    "    \"\"\"\n",
    "    Limpia un string de los caracteres \\n, \\t ,\\xa0 y espacios en blanco.\n",
    "    Input:\n",
    "     String -> Texto plano\n",
    "    \n",
    "    Output:\n",
    "     Lista de palabras en el texto sin \\n, \\t, \\xa0 y espacios en blanco\n",
    "    \"\"\"\n",
    "    text_out = text.split()\n",
    "    return text_out\n",
    "\n",
    "\n",
    "def lexical_diversity(text: str) -> float:\n",
    "    \"\"\"\n",
    "    Mide la riqueza lexica de un documento\n",
    "    Input: \n",
    "        String -> Texto plano\n",
    "        \n",
    "    Output:\n",
    "        Float -> riqueza lexica del documento\n",
    "    \"\"\"\n",
    "    return len(text) / len(set(text))\n",
    "\n",
    "\n",
    "def to_unidecode(text: str) -> str:\n",
    "    \"\"\"\n",
    "    Convierte el texto a unidecode\n",
    "    Input:\n",
    "        String -> Texto plano\n",
    "        \n",
    "    Output:\n",
    "        String -> Texto unidecode\n",
    "    \"\"\"\n",
    "    return unidecode.unidecode(text)\n",
    "\n",
    "\n",
    "def to_lowercase(text: str, use_unidecode: bool = False) -> str:\n",
    "    \"\"\"\n",
    "    Convierte el texto a minusculas usando caracteres unidecode o no\n",
    "    Input:\n",
    "        String -> Texto plano\n",
    "        Bool -> Decision si hace uso de los caracteres unidecode\n",
    "        \n",
    "    Output:\n",
    "        String -> Texto en minusculas del texto dado\n",
    "    \"\"\"\n",
    "    if use_unidecode:\n",
    "        return to_unidecode(text.lower())\n",
    "    else:\n",
    "        return text.lower()\n",
    "\n",
    "\n",
    "def exercise_2_point_1_2_3_4(text: str, clean: bool = True) -> None:\n",
    "    \"\"\"\n",
    "    Ejecuta los puntos 1, 2 ,3 y 4 del punto 2 de la tarea\n",
    "    \"\"\"\n",
    "    # Limpia el texto de caracteres \\n, \\t y \\xa0\n",
    "    if clean:\n",
    "        text_lines = clean_text(text)\n",
    "    else:\n",
    "        text_lines = text\n",
    "    print(\"La cantidad de palabras es de {}\".format(len(text_lines)))\n",
    "    # Obtiene las palabras unicas en el texto\n",
    "    text_set = set(text_lines)\n",
    "    print(\"La longitud del vocabulario es de {}\".format(len(text_set)))\n",
    "    # Obtiene la riqueza lexica de las conferencias\n",
    "    print(\"La riqueza lexica de las conferencias es de {}\".format(\n",
    "        lexical_diversity(text_lines)))\n",
    "\n",
    "\n",
    "def obtain_only_words_with_regex_nltk(text: str) -> [str]:\n",
    "    \"\"\"\n",
    "    Obtiene las palabras usando regexp de nltk de mayusculas y minusculas\n",
    "    Input:\n",
    "        String -> Texto plano\n",
    "        \n",
    "    Output:\n",
    "        List of strings -> Lista de palabras\n",
    "    \"\"\"\n",
    "    # Definicion del tokenizador\n",
    "    tokenizer = RegexpTokenizer(\"[a-zA-Z]+\")\n",
    "    # Lista de palabras\n",
    "    return tokenizer.tokenize(text)\n",
    "\n",
    "\n",
    "def obtain_only_words_with_tweet_tokenizer(text: str) -> [str]:\n",
    "    \"\"\"\n",
    "    Obtiene las palabras usando TweetTokenizer de nltk de un texto minusculas\n",
    "    Input:\n",
    "        String -> Texto plano\n",
    "        \n",
    "    Output:\n",
    "        List of strings -> Lista de palabras\n",
    "    \"\"\"\n",
    "    # Crea una referencia para la clase TweetTokenizer\n",
    "    tk = TweetTokenizer()\n",
    "    # Creacion de los tokens\n",
    "    return tk.tokenize(text)\n",
    "\n",
    "def obtain_len_of_all_words(text:list)-> list:\n",
    "    \"\"\"\n",
    "    Obtiene la longitud de cada palabra en una lista de palabras\n",
    "    Input: \n",
    "        List of strings: Lista de palabras\n",
    "        \n",
    "    Output:\n",
    "        List of strings: Lista de la longitud de cada palabra\n",
    "    \"\"\"\n",
    "    return [len(word) for word in text]"
   ]
  },
  {
   "cell_type": "markdown",
   "metadata": {},
   "source": [
    "### 2) Vistazo a los datos\n",
    "+ 1) Cargue todas las conferencias en un string y aplique la función split para generar tokens\n",
    "fácilmente."
   ]
  },
  {
   "cell_type": "code",
   "execution_count": 2,
   "metadata": {},
   "outputs": [],
   "source": [
    "parameters = {\"path dataset\": \"dataset/\"}\n",
    "# Lectura de los nombres de los archivos\n",
    "text = read_all_text(parameters[\"path dataset\"])"
   ]
  },
  {
   "cell_type": "markdown",
   "metadata": {},
   "source": [
    "+ 2. Contar la cantidad de palabras en todas las conferencias.\n",
    "+ 3. Extraer el vocabulario y mostrar su longitud.\n",
    "+ 4. Mida la riqueza del vocabulario de alguna forma en todos los documentos."
   ]
  },
  {
   "cell_type": "code",
   "execution_count": 3,
   "metadata": {},
   "outputs": [
    {
     "name": "stdout",
     "output_type": "stream",
     "text": [
      "La cantidad de palabras es de 8039596\n",
      "La longitud del vocabulario es de 170688\n",
      "La riqueza lexica de las conferencias es de 47.10112017247844\n",
      "La cantidad de palabras es de 8039605\n",
      "La longitud del vocabulario es de 154406\n",
      "La riqueza lexica de las conferencias es de 52.06795720373561\n"
     ]
    }
   ],
   "source": [
    "exercise_2_point_1_2_3_4(text)\n",
    "text_unidecode_lower = to_lowercase(text, True)\n",
    "exercise_2_point_1_2_3_4(text_unidecode_lower)"
   ]
  },
  {
   "cell_type": "markdown",
   "metadata": {},
   "source": [
    "+ 5. Haga lo mismo que los 4 puntos anteriores pero con todo el texto en minúsculas. Vea\n",
    "las diferencias y comente brevemente."
   ]
  },
  {
   "cell_type": "code",
   "execution_count": 4,
   "metadata": {},
   "outputs": [
    {
     "name": "stdout",
     "output_type": "stream",
     "text": [
      "La cantidad de palabras es de 8039596\n",
      "La longitud del vocabulario es de 157166\n",
      "La riqueza lexica de las conferencias es de 51.15353193438784\n"
     ]
    }
   ],
   "source": [
    "text_lower = to_lowercase(text)\n",
    "exercise_2_point_1_2_3_4(text_lower)"
   ]
  },
  {
   "cell_type": "markdown",
   "metadata": {},
   "source": [
    "+ 6. Haga lo mismo que los puntos 1, 2 y 3 usando el tokenizador RegExp de NLTK, con\n",
    "una expresión regular que trate de sacar solo tokens que pueden contener solo letras\n",
    "mayúsculas y minúsculas. Después cargue los tokens en un objeto Text de NLTK en\n",
    "lugar de una lista de Python."
   ]
  },
  {
   "cell_type": "code",
   "execution_count": 5,
   "metadata": {},
   "outputs": [
    {
     "name": "stdout",
     "output_type": "stream",
     "text": [
      "La cantidad de palabras es de 7944645\n",
      "La longitud del vocabulario es de 74555\n",
      "La riqueza lexica de las conferencias es de 106.56086110924821\n"
     ]
    }
   ],
   "source": [
    "# Convierte el texto en unidecode\n",
    "text_unidecode = to_unidecode(text)\n",
    "text_nltk = obtain_only_words_with_regex_nltk(text_unidecode)\n",
    "exercise_2_point_1_2_3_4(text_nltk, False)"
   ]
  },
  {
   "cell_type": "markdown",
   "metadata": {},
   "source": [
    "+ 7) Haga todo el texto minúsculas. Haga los mismo que los puntos 1, 2, y 3 usando el\n",
    "tokenizador TweetTokenizer. Haga el resto de esta tarea asumiendo haber hecho este\n",
    "punto."
   ]
  },
  {
   "cell_type": "code",
   "execution_count": 6,
   "metadata": {},
   "outputs": [
    {
     "name": "stdout",
     "output_type": "stream",
     "text": [
      "La cantidad de palabras es de 9283310\n",
      "La longitud del vocabulario es de 70357\n",
      "La riqueza lexica de las conferencias es de 131.94579075287461\n"
     ]
    }
   ],
   "source": [
    "# Convierte el texto en unidecode y en minusculas\n",
    "text_unidecode_lower = to_lowercase(text, True)\n",
    "text_tweet = obtain_only_words_with_tweet_tokenizer(text_unidecode_lower)\n",
    "exercise_2_point_1_2_3_4(text_tweet, False)"
   ]
  },
  {
   "cell_type": "markdown",
   "metadata": {},
   "source": [
    "## Funciones NLTK\n",
    "+ 1) Use la función concordance para ver el contexto de 5 palabras que usted elija."
   ]
  },
  {
   "cell_type": "code",
   "execution_count": 7,
   "metadata": {},
   "outputs": [
    {
     "name": "stdout",
     "output_type": "stream",
     "text": [
      "\n",
      "------ Resultados para dengue --------\n",
      "Displaying 25 of 121 matches:\n",
      " , nuestra preocupacion respecto al dengue o respecto a cualquier otro tipo de\n",
      "lo de la agenda . pregunta : lo del dengue , por favor , a groso modo , los ca\n",
      "favor , a groso modo , los casos de dengue , presidente . presidente andres ma\n",
      "n mas de 300 por ciento en casos de dengue y tambien se tiene un reporte de qu\n",
      "ion , no tenemos ese dato de lo del dengue , del incremento del dengue . no . \n",
      " lo del dengue , del incremento del dengue . no . y lo de las medicinas , hay \n",
      "asi todo . entonces , ? como que el dengue es porque no se compraron los insec\n",
      "e insecticidas haya una epidemia de dengue , no lo he visto . he estado en los\n",
      "o en un hospital , unos enfermos de dengue , pero no es un asunto generalizado\n",
      " vamos a tener informacion sobre el dengue . ayer me preguntaron de este tema \n",
      "ue por eso crecio la influencia del dengue en el pais . se pidio informacion s\n",
      "squito , que es el que transmite el dengue . entonces , tiene que ver mucho co\n",
      "odas y todos . les comento sobre el dengue - y es una enorme oportunidad para \n",
      " la salud - porque efectivamente el dengue es una enfermedad infecciosa que af\n",
      "omento un poco de antecedentes . el dengue es una enfermedad infecciosa , esta\n",
      "bre y existen cuatro tipos de virus dengue , llamados asi , dengue uno , dos ,\n",
      "os de virus dengue , llamados asi , dengue uno , dos , tres y cuatro . ahorita\n",
      " a retomar sobre eso . segundo . el dengue se transmite por mosquitos , mosqui\n",
      "a el mosquito o no se transmitia el dengue se va transmitiendo . por ejemplo ,\n",
      "do . por ejemplo , en 2006 no habia dengue en guanajuato y luego empezo a habe\n",
      "n guanajuato y luego empezo a haber dengue en guanajuato y luego en aguascalie\n",
      "sion . donde no hay mosquito no hay dengue , entonces , hay que cuidar que no \n",
      " en particular . la transmision del dengue ocurre principalmente en las vivien\n",
      ", y de ahi salga la transmision del dengue . la campana tradicionalmente , la \n",
      "porque ahi es donde se acumula . el dengue ocurre todos los anos , todos los a\n",
      "None\n",
      "\n",
      "------ Resultados para contingencia --------\n",
      "Displaying 25 of 175 matches:\n",
      "enerlo de reserva ante cualquier contingencia para no caer en deficit . no ten\n",
      "atender el llamado de pemex a la contingencia de encontrarse una perforacion d\n",
      "tencion de esta crisis , de esta contingencia , encabezado por los secretarios\n",
      " equipos para poder mitigar esta contingencia . se hicieron todas las acciones\n",
      "e solicito para poder atender la contingencia . gracias . pregunta : ( inaudib\n",
      "n el gobernador , en cuanto a la contingencia que se enfrenta en ese estado re\n",
      " tuvo hace meses un ataque y una contingencia ahi de pagos y retenciones de la\n",
      "stamos preparados para cualquier contingencia . interlocutor : ok y una ultima\n",
      "o energetico . las pipas para la contingencia de abasto fueron compradas al ex\n",
      "anes para atender situaciones de contingencia , se detecta que el mecanismo ti\n",
      "an a ir acumulando por cualquier contingencia , toco madera , pero vale mas te\n",
      " de gobierno solo en un dia hubo contingencia ambiental . si hay una situacion\n",
      "omo lo hicieron ayer , pese a la contingencia . senala enrique enriquez que la\n",
      "valle de mexico , estamos en una contingencia , pero tambien en otros lugares \n",
      "en la parte centro del pais , la contingencia ambiental , quisiera yo saber cu\n",
      "ida extraordinaria debido a esta contingencia , a este tema que estamos tratan\n",
      " evacuar . si ustedes tienen una contingencia de este tipo y tratan de sacar c\n",
      "tema ? y si existe algun plan de contingencia , algo previo para enfrentar una\n",
      "as finanzas publicas ante alguna contingencia , es un fondo que se suscribio h\n",
      "s a la semana para que en alguna contingencia ellos mismos puedan hacerse fren\n",
      "oteccion ; y el caso del plan de contingencia en chihuahua , donde en colabora\n",
      "ia de contaminacion , tambien la contingencia . pero eso es una parte del prob\n",
      "nes del gobierno federal ante la contingencia mundial del coronavirus.mas info\n",
      "dado caso de que se presente una contingencia ? presidente andres manuel lopez\n",
      "taran medidas preventivas por la contingencia sanitaria de covid-19.sobre las \n",
      "None\n",
      "\n",
      "------ Resultados para periodistas --------\n",
      "Displaying 25 of 919 matches:\n",
      "s . mire , en esta semana van dos periodistas asesinados , yo le quiero pregunt\n",
      "odos los ciudadanos y a todos los periodistas . y van a continuarse las investi\n",
      "ticia y proteccion para todos los periodistas este es un asunto que esta viendo\n",
      ", solo para comentar que para los periodistas si ha servido mucho y muchas inve\n",
      " la sociedad civil , reporteros , periodistas , estan preocupados por su seguri\n",
      "ccion a ciudadanos , o el caso de periodistas amenazados , que tenemos nosotros\n",
      ". pregunta : ( inaudible ) ... de periodistas y luchadores de derechos humanos \n",
      "mpleta a todos los ciudadanos , a periodistas . por eso esta ahi alejandro enci\n",
      "tervencion , dedico esa medalla a periodistas que han perdido la vida en el eje\n",
      "vidores publicos , ni tampoco con periodistas . a nadie le he dicho : ' oye , e\n",
      "bajo de los informadores , de los periodistas , de los medios . ellos tienen qu\n",
      "no son aplaudidores , ustedes son periodistas , pero se esta comprando la mayor\n",
      "tas . les agradecemos mucho a los periodistas , a los medios de informacion que\n",
      "que tambien tenemos nosotros como periodistas referencias de lo que les pagan p\n",
      "zon . libertad y proteccion a los periodistas de los medios de comunicacion.pos\n",
      "se ha dado a conocer una lista de periodistas , comunicadores que recibian dine\n",
      "s paginas de internet , ? a estos periodistas se les va a investigar , o simple\n",
      " se acaba el soborno a medios y a periodistas . vamos a transparentar lo que ti\n",
      "n consideracion . en cuanto a los periodistas , nosotros vamos a procurar que n\n",
      "os paises mas mortiferos para los periodistas , es el tercero si no mal recuerd\n",
      " preparado de proteccion para los periodistas ? y la ultima es : ahora con el a\n",
      "ra con el anuncio de personajes y periodistas criticos de anteriores gobiernos \n",
      "te , de los flores magon , de los periodistas opositores . nosotros venimos de \n",
      "o es muy doloroso , sobre todo en periodistas de los estados , porque , como de\n",
      "ando hay amenazas ; es el caso de periodistas . ahi tenemos que mantener la pro\n",
      "None\n",
      "\n",
      "------ Resultados para hospitales --------\n",
      "Displaying 25 of 2322 matches:\n",
      " hay centros de salud , donde hay hospitales , estan saturados , no tienen equ\n",
      "pecialistas . hay alrededor de 70 hospitales abandonados , es una situacion gr\n",
      "as unidades medicas rurales , los hospitales de segundo nivel , van a pasar a \n",
      "ue no pagaba cuota iba a ir a los hospitales del seguro . no va a ser asi . va\n",
      " no va a ser asi . van a ir a los hospitales del seguro , porque es una obliga\n",
      "de salud , sobre las consultas en hospitales militares . sencillamente no he e\n",
      " tiene a su cargo cuando mucho 10 hospitales en los estados , 10 . no dependen\n",
      "ales . los centros de salud y los hospitales dependen de los gobiernos estatal\n",
      " en los centros de salud , en los hospitales . es todo un programa de apoyo a \n",
      " en los centros de salud , en los hospitales . todo eso es parte del plan de d\n",
      " escuelas , de centros de salud , hospitales . todo esto , tambien , apoyado e\n",
      "onstruyen carreteras y construyen hospitales y construyen escuelas . siempre .\n",
      "ntros de salud , no funcionan los hospitales ; no hay medicos en los centros d\n",
      " en los centros de salud , en los hospitales , no hay medicinas . un desastre \n",
      "omo un cascaron , tiene solo ocho hospitales la secretaria de salud federal en\n",
      "e salud federal en el pais , ocho hospitales . se trasladaron , se pasaron , s\n",
      "cial . hay centros de salud , hay hospitales inconclusos , porque les importab\n",
      "r en proceso la obra . hay muchos hospitales abandonados , hay hospitales term\n",
      "chos hospitales abandonados , hay hospitales terminados sin equipamiento , sin\n",
      "ible , bajo su responsabilidad 20 hospitales en todo el pais y esos 20 hospita\n",
      "pitales en todo el pais y esos 20 hospitales , la mitad , un poco mas , son lo\n",
      "n hospitalaria de calidad y luego hospitales de especialidades . pero , ? que \n",
      "y que terminar centros de salud y hospitales inconclusos ; hay que contratar p\n",
      "os que visitan las carceles , los hospitales , los centros de detencion ; a lo\n",
      "ay centros de salud abandonados , hospitales abandonados , centros de salud y \n",
      "None\n",
      "\n",
      "------ Resultados para metro --------\n",
      "Displaying 25 of 216 matches:\n",
      "ador en la compra de vagones para el metro . ya se estan destinando 250 millone\n",
      "ntentos de secuestro a mujeres en el metro de la ciudad de mexico y el estado d\n",
      "litos cometidos contra mujeres en el metro ? presidente andres manuel lopez obr\n",
      " inseguridad que esta viviendo en el metro ? sobre todo el acoso a las mujeres \n",
      "s para los vagones de la linea 3 del metro que esta practicamente detenido , au\n",
      " de tu pregunta sobre los trenes del metro , sobre el agua para monterrey . hem\n",
      " problemas de jovenes atacadas en el metro . ? es necesario una limpia ? ? que \n",
      "pez obrador : miren , en el caso del metro de guadalajara les tengo a los ciuda\n",
      "ticia . vamos a terminar este ano el metro . ? por que es buena noticia ? porqu\n",
      "obierno anterior que se terminaba el metro con una inversion de mil millones de\n",
      " en diciembre ya este funcionando el metro de guadalajara . a ver , alla atras \n",
      "o , asi estan inconclusos trenes del metro , el tren toluca , el tren jalisco ,\n",
      "i aumentaba el precio del boleto del metro o no , como consulte varias cosas . \n",
      "n el sistema de transporte colectivo metro , que depende del gobierno de la ciu\n",
      "n el sistema de transporte colectivo metro , tambien esta en la camara de diput\n",
      "ara supervisando la construccion del metro de guadalajara , porque queremos ter\n",
      " eso no se terminaba de construir el metro , que se habian causado muchas moles\n",
      "icen . ? que se acordo ? terminar el metro . pregunta : ? cuando ? presidente a\n",
      " 4 , tengo el compromiso tambien del metro de chalco . son de los dos compromis\n",
      "unidades . presentamos el boleto del metro , el billete de la loteria nacional \n",
      " se va a dar a conocer el boleto del metro , la imagen de un boleto de la loter\n",
      "emitieron 10 millones de boletos del metro en conmemoracion a emiliano zapata ,\n",
      " abril en las ventanillas del propio metro de la ciudad de mexico . y ademas en\n",
      "la ciudad de mexico . y ademas en el metro pino suarez se presenta una exposici\n",
      "on de la biografia de zapata y en el metro zapata tambien hay una exposicion fo\n",
      "None\n"
     ]
    }
   ],
   "source": [
    "text_nltk=nltk.Text(text_tweet)\n",
    "print(\"\\n------ Resultados para dengue --------\")\n",
    "print(text_nltk.concordance(\"dengue\"))\n",
    "print(\"\\n------ Resultados para contingencia --------\")\n",
    "print(text_nltk.concordance(\"contingencia\"))\n",
    "print(\"\\n------ Resultados para periodistas --------\")\n",
    "print(text_nltk.concordance(\"periodistas\"))\n",
    "print(\"\\n------ Resultados para hospitales --------\")\n",
    "print(text_nltk.concordance(\"hospitales\"))\n",
    "print(\"\\n------ Resultados para metro --------\")\n",
    "print(text_nltk.concordance(\"metro\"))"
   ]
  },
  {
   "cell_type": "markdown",
   "metadata": {},
   "source": [
    "+ 2) Elija una palabra que le parezca interesante y muestre palabras con uso similar. Muestre\n",
    "también los contextos comunes"
   ]
  },
  {
   "cell_type": "code",
   "execution_count": 8,
   "metadata": {},
   "outputs": [
    {
     "name": "stdout",
     "output_type": "stream",
     "text": [
      "salud vida seguridad que atencion corrupcion semana informacion\n",
      "violencia poblacion administracion vacunacion educacion investigacion\n",
      "familia vacuna manana justicia inversion produccion\n"
     ]
    }
   ],
   "source": [
    "text_nltk.similar(\"muerte\")"
   ]
  },
  {
   "cell_type": "markdown",
   "metadata": {},
   "source": [
    "+ 3) Generar un dispersion plot de las\n",
    "siguientes palabras: prian, corrupción, mafia, narco, gasolina, pipas, conacyt, ciencia,\n",
    "turismo, pandemia, coronavirus, covid, delta, omicron, vacuna, vacunacion. y otras\n",
    "tres palabras de su elección."
   ]
  },
  {
   "cell_type": "code",
   "execution_count": 9,
   "metadata": {},
   "outputs": [
    {
     "name": "stderr",
     "output_type": "stream",
     "text": [
      "/home/giovanni/.local/lib/python3.8/site-packages/nltk/draw/__init__.py:15: UserWarning: nltk.draw package not loaded (please install Tkinter library).\n",
      "  warnings.warn(\"nltk.draw package not loaded (please install Tkinter library).\")\n"
     ]
    },
    {
     "data": {
      "image/png": "[encoded data removed]",
      "text/plain": [
       "<Figure size 432x288 with 1 Axes>"
      ]
     },
     "metadata": {
      "needs_background": "light"
     },
     "output_type": "display_data"
    }
   ],
   "source": [
    "words = [\"prian\",\n",
    "         \"corrupción\",\n",
    "         \"mafia\",\n",
    "         \"narco\",\n",
    "         \"gasolina\",\n",
    "         \"pipas\",\n",
    "         \"conacyt\",\n",
    "         \"ciencia\",\n",
    "         \"turismo\",\n",
    "         \"pandemia\",\n",
    "         \"coronavirus\",\n",
    "         \"covid\",\n",
    "         \"delta\",\n",
    "         \"omicron\",\n",
    "         \"vacuna\",\n",
    "         \"vacunacion\",\n",
    "         \"hospital\",\n",
    "         \"metro\",\n",
    "         \"dengue\"]\n",
    "text_nltk.dispersion_plot(words)"
   ]
  },
  {
   "cell_type": "markdown",
   "metadata": {},
   "source": [
    "+ 4) Muestre 50 colocaciones de todo el corpus."
   ]
  },
  {
   "cell_type": "code",
   "execution_count": 10,
   "metadata": {},
   "outputs": [
    {
     "name": "stdout",
     "output_type": "stream",
     "text": [
      "lopez obrador; andres manuel; manuel lopez; presidente andres; estados\n",
      "unidos; por ciento; buenos dias; version estenografica; senor\n",
      "presidente; prensa matutina; todos los; nada mas; guardia nacional;\n",
      "muchas gracias; adultos mayores; desde luego; por eso; por ejemplo;\n",
      "marcelo ebrard; derechos humanos; tren maya; mil millones; sin\n",
      "embargo; todas las; muy importante; que que; baja california; matutina\n",
      "del; sobre todo; creo que; ebrard casaubon; muy bien; quintana roo;\n",
      "nuestro pais; tiene que; ver con; para que; sembrando vida; benito\n",
      "juarez; que nos; los trabajadores; comision federal; gobierno federal;\n",
      "hugo lopez-gatell; dos bocas; 5093 4900; documentosdocumentos\n",
      "gabinetegabinete; reserved developed; rights reserved; 01800 080 1127\n"
     ]
    }
   ],
   "source": [
    "text_nltk.collocations(num=50)"
   ]
  },
  {
   "cell_type": "markdown",
   "metadata": {},
   "source": [
    "+ 5) Muestre un histograma de longitud en caracteres de las palabras. Muestre en el his-\n",
    "tograma el top 5 de longitudes más largas."
   ]
  },
  {
   "cell_type": "code",
   "execution_count": 12,
   "metadata": {},
   "outputs": [
    {
     "data": {
      "text/plain": [
       "(array([3.3986e+04, 3.5405e+04, 8.8000e+02, 5.5000e+01, 1.6000e+01,\n",
       "        5.0000e+00, 1.0000e+00, 0.0000e+00, 8.0000e+00, 1.0000e+00]),\n",
       " array([ 1.,  9., 17., 25., 33., 41., 49., 57., 65., 73., 81.]),\n",
       " <BarContainer object of 10 artists>)"
      ]
     },
     "execution_count": 12,
     "metadata": {},
     "output_type": "execute_result"
    },
    {
     "data": {
      "image/png": "[encoded data removed]",
      "text/plain": [
       "<Figure size 432x288 with 1 Axes>"
      ]
     },
     "metadata": {
      "needs_background": "light"
     },
     "output_type": "display_data"
    }
   ],
   "source": [
    "word_len = obtain_len_of_all_words(set(text_nltk))\n",
    "plt.hist(word_len)"
   ]
  },
  {
   "cell_type": "markdown",
   "metadata": {},
   "source": [
    "+ 6) Muestre 50 palabras con longitud mayor a 8 caracteres y frecuencia mayor a 5 en todo\n",
    "el texto usando comprenhension list de python."
   ]
  },
  {
   "cell_type": "code",
   "execution_count": 37,
   "metadata": {},
   "outputs": [],
   "source": [
    "word_dist = FreqDist(text_nltk)\n",
    "words_select = list(set([word for word in text_nltk if len(word)>8 and word_dist[word]>5]))\n",
    "words_select[:50]"
   ]
  },
  {
   "cell_type": "markdown",
   "metadata": {},
   "source": [
    "+ 7) Ver https://www.nltk.org/book/ch02.html en la sección 1.5. Proponga una gráfica\n",
    "usando ConditionalFreqDist como la de la Sección 1.5 para estos datos. Usted elige las\n",
    "palabras."
   ]
  },
  {
   "cell_type": "markdown",
   "metadata": {},
   "source": [
    "+ 8) Use la lista de stopwords de nltk y obtenga la cantidad de palabras en los datos con y\n",
    "sin stopword."
   ]
  },
  {
   "cell_type": "markdown",
   "metadata": {},
   "source": [
    "+ 9) Muestre las 300 palabras más frecuentes en las conferencias, sin tomar en cuenta stop-\n",
    "words. Muéstrelas de la más frecuente a la menos frecuente."
   ]
  },
  {
   "cell_type": "code",
   "execution_count": null,
   "metadata": {},
   "outputs": [],
   "source": []
  }
 ],
 "metadata": {
  "kernelspec": {
   "display_name": "Python 3",
   "language": "python",
   "name": "python3"
  },
  "language_info": {
   "codemirror_mode": {
    "name": "ipython",
    "version": 3
   },
   "file_extension": ".py",
   "mimetype": "text/x-python",
   "name": "python",
   "nbconvert_exporter": "python",
   "pygments_lexer": "ipython3",
   "version": "3.8.10"
  },
  "latex_envs": {
   "LaTeX_envs_menu_present": true,
   "autoclose": false,
   "autocomplete": true,
   "bibliofile": "biblio.bib",
   "cite_by": "apalike",
   "current_citInitial": 1,
   "eqLabelWithNumbers": true,
   "eqNumInitial": 1,
   "hotkeys": {
    "equation": "Ctrl-E",
    "itemize": "Ctrl-I"
   },
   "labels_anchors": false,
   "latex_user_defs": false,
   "report_style_numbering": false,
   "user_envs_cfg": false
  }
 },
 "nbformat": 4,
 "nbformat_minor": 4
}
