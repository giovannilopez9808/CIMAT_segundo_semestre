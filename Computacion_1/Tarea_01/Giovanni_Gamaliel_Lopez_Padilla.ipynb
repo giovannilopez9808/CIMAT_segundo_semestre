{
 "cells": [
  {
   "cell_type": "markdown",
   "metadata": {},
   "source": [
    "Giovanni Gamaliel López Padilla - Tarea 01"
   ]
  },
  {
   "cell_type": "code",
   "execution_count": 1,
   "metadata": {},
   "outputs": [],
   "source": [
    "from nltk.tokenize import RegexpTokenizer\n",
    "from nltk.tokenize import TweetTokenizer\n",
    "from nltk.probability import FreqDist\n",
    "from nltk.corpus import stopwords\n",
    "import matplotlib.pyplot as plt\n",
    "import pandas as pd\n",
    "import unidecode\n",
    "import datetime\n",
    "import nltk\n",
    "import os\n",
    "\n",
    "\n",
    "def read_all_text(path: str) -> str:\n",
    "    \"\"\"\n",
    "    Realiza la lectura de todas las conferencias y las reune en un solo string\n",
    "    Input:\n",
    "        String: path -> Direccion donde se encuentran todos los archivos\n",
    "\n",
    "    Output:\n",
    "        String: Texto plano\n",
    "    \"\"\"\n",
    "    files = sorted(os.listdir(path))\n",
    "    text = \"\"\n",
    "    for file in files:\n",
    "        # Direccion y nombre del archivo\n",
    "        filename = \"{}{}\".format(path, file)\n",
    "        # Apertura del archivo\n",
    "        file_text = open(filename, \"r\", encoding=\"utf-8\")\n",
    "        # Concadenacion del texto\n",
    "        text += file_text.read()\n",
    "        # Cierre del texto\n",
    "        file_text.close()\n",
    "    return text\n",
    "\n",
    "\n",
    "def clean_text(text: str) -> str:\n",
    "    \"\"\"\n",
    "    Limpia un string de los caracteres \\n, \\t ,\\xa0 y espacios en blanco.\n",
    "    Input:\n",
    "     String -> Texto plano\n",
    "\n",
    "    Output:\n",
    "     Lista de palabras en el texto sin \\n, \\t, \\xa0 y espacios en blanco\n",
    "    \"\"\"\n",
    "    text_out = text.split()\n",
    "    return text_out\n",
    "\n",
    "\n",
    "def lexical_diversity(text: str) -> float:\n",
    "    \"\"\"\n",
    "    Mide la riqueza lexica de un documento\n",
    "    Input: \n",
    "        String -> Texto plano\n",
    "\n",
    "    Output:\n",
    "        Float -> riqueza lexica del documento\n",
    "    \"\"\"\n",
    "    return len(text) / len(set(text))\n",
    "\n",
    "\n",
    "def to_unidecode(text: str) -> str:\n",
    "    \"\"\"\n",
    "    Convierte el texto a unidecode\n",
    "    Input:\n",
    "        String -> Texto plano\n",
    "\n",
    "    Output:\n",
    "        String -> Texto unidecode\n",
    "    \"\"\"\n",
    "    return unidecode.unidecode(text)\n",
    "\n",
    "\n",
    "def to_lowercase(text: str, use_unidecode: bool = False) -> str:\n",
    "    \"\"\"\n",
    "    Convierte el texto a minusculas usando caracteres unidecode o no\n",
    "    Input:\n",
    "        String -> Texto plano\n",
    "        Bool -> Decision si hace uso de los caracteres unidecode\n",
    "\n",
    "    Output:\n",
    "        String -> Texto en minusculas del texto dado\n",
    "    \"\"\"\n",
    "    if use_unidecode:\n",
    "        return to_unidecode(text.lower())\n",
    "    else:\n",
    "        return text.lower()\n",
    "\n",
    "\n",
    "def exercise_2_point_1_2_3_4(text: str, clean: bool = True) -> None:\n",
    "    \"\"\"\n",
    "    Ejecuta los puntos 1, 2 ,3 y 4 del punto 2 de la tarea\n",
    "    \"\"\"\n",
    "    # Limpia el texto de caracteres \\n, \\t y \\xa0\n",
    "    if clean:\n",
    "        text_lines = clean_text(text)\n",
    "    else:\n",
    "        text_lines = text\n",
    "    print(\"La cantidad de palabras es de {}\".format(len(text_lines)))\n",
    "    # Obtiene las palabras unicas en el texto\n",
    "    text_set = set(text_lines)\n",
    "    print(\"La longitud del vocabulario es de {}\".format(len(text_set)))\n",
    "    # Obtiene la riqueza lexica de las conferencias\n",
    "    print(\"La riqueza lexica de las conferencias es de {}\".format(\n",
    "        lexical_diversity(text_lines)))\n",
    "\n",
    "\n",
    "def obtain_only_words_with_regex_nltk(text: str) -> list:\n",
    "    \"\"\"\n",
    "    Obtiene las palabras usando regexp de nltk de mayusculas y minusculas\n",
    "    Input:\n",
    "        String -> Texto plano\n",
    "\n",
    "    Output:\n",
    "        List of strings -> Lista de palabras\n",
    "    \"\"\"\n",
    "    # Definicion del tokenizador\n",
    "    tokenizer = RegexpTokenizer(\"[a-zA-Z]+\")\n",
    "    # Lista de palabras\n",
    "    return tokenizer.tokenize(text)\n",
    "\n",
    "\n",
    "def obtain_only_words_with_tweet_tokenizer(text: str) -> list:\n",
    "    \"\"\"\n",
    "    Obtiene las palabras usando TweetTokenizer de nltk de un texto minusculas\n",
    "    Input:\n",
    "        String -> Texto plano\n",
    "\n",
    "    Output:\n",
    "        List of strings -> Lista de palabras\n",
    "    \"\"\"\n",
    "    # Crea una referencia para la clase TweetTokenizer\n",
    "    tk = TweetTokenizer()\n",
    "    # Creacion de los tokens\n",
    "    return tk.tokenize(text)\n",
    "\n",
    "\n",
    "def obtain_len_of_all_words(text: list) -> list:\n",
    "    \"\"\"\n",
    "    Obtiene la longitud de cada palabra en una lista de palabras\n",
    "    Input: \n",
    "        List of strings: Lista de palabras\n",
    "\n",
    "    Output:\n",
    "        List of strings: Lista de la longitud de cada palabra\n",
    "    \"\"\"\n",
    "    return [len(word) for word in text]\n",
    "\n",
    "\n",
    "def print_concordance(text: nltk.Text, word: str) -> None:\n",
    "    print(\"\\n------ Resultados para {}--------\".format(word))\n",
    "    print(text.concordance(word))\n",
    "\n",
    "\n",
    "def str_date_to_date(date: str) -> datetime.date:\n",
    "    \"\"\"\n",
    "    Convierte una fecha con el formato yyyy-mm-dd a datetime\n",
    "    Input:\n",
    "        String: date -> fecha con formato yyyy-mm-dd\n",
    "        \n",
    "    Output:\n",
    "        datetime: fecha\n",
    "    \"\"\"\n",
    "    year, month, day = date.split(\"-\")\n",
    "    year = int(year)\n",
    "    month = int(month)\n",
    "    day = int(day)\n",
    "    date = datetime.date(year, month, day)\n",
    "    return date\n",
    "\n",
    "def read_text(path, file)-> nltk.Text:\n",
    "    \"\"\"\n",
    "    Abre un archivo, lee su texto y obtiene los tokens usando tweet tokenizer\n",
    "    Inputs:\n",
    "        String: path -> direccion del archivo\n",
    "        String: file -> nombre del archivo\n",
    "    \"\"\"\n",
    "    text = open(\"{}{}\".format(path, file)).read()\n",
    "    text = clean_text(text)\n",
    "    text = ' '.join(text)\n",
    "    words = obtain_only_words_with_tweet_tokenizer(to_lowercase(text, True))\n",
    "    return words\n",
    "\n",
    "def cfd_to_dataframe(cfd:nltk.probability.ConditionalFreqDist,target:str)->pd.DataFrame:\n",
    "    \"\"\"\n",
    "    Dado un ConditionalFreqDist obtiene los valores y los guarda en un dataframe\n",
    "    Inputs:\n",
    "        ConditionalFreqDist\n",
    "        String: Nombre del target\n",
    "    \n",
    "    Output:\n",
    "        Dataframe: Valores del ConditionalFreqDist\n",
    "    \"\"\"\n",
    "    dataframe = pd.DataFrame()\n",
    "    data = cfd[target]\n",
    "    dates = [key for key in data.keys()]\n",
    "    values = [data[key] for key in data.keys()]\n",
    "    dataframe[\"Dates\"] = dates\n",
    "    dataframe[target] = values\n",
    "    return dataframe"
   ]
  },
  {
   "cell_type": "markdown",
   "metadata": {},
   "source": [
    "### 2) Vistazo a los datos\n",
    "+ 1) Cargue todas las conferencias en un string y aplique la función split para generar tokens\n",
    "fácilmente."
   ]
  },
  {
   "cell_type": "code",
   "execution_count": 2,
   "metadata": {},
   "outputs": [],
   "source": [
    "path=\"dataset/\"\n",
    "# Lectura de los nombres de los archivos\n",
    "text = read_all_text(path)"
   ]
  },
  {
   "cell_type": "markdown",
   "metadata": {},
   "source": [
    "+ 2. Contar la cantidad de palabras en todas las conferencias.\n",
    "+ 3. Extraer el vocabulario y mostrar su longitud.\n",
    "+ 4. Mida la riqueza del vocabulario de alguna forma en todos los documentos."
   ]
  },
  {
   "cell_type": "code",
   "execution_count": 3,
   "metadata": {},
   "outputs": [
    {
     "name": "stdout",
     "output_type": "stream",
     "text": [
      "La cantidad de palabras es de 8039596\n",
      "La longitud del vocabulario es de 170688\n",
      "La riqueza lexica de las conferencias es de 47.10112017247844\n",
      "La cantidad de palabras es de 8039605\n",
      "La longitud del vocabulario es de 154406\n",
      "La riqueza lexica de las conferencias es de 52.06795720373561\n"
     ]
    }
   ],
   "source": [
    "exercise_2_point_1_2_3_4(text)\n",
    "text_unidecode_lower = to_lowercase(text, True)\n",
    "exercise_2_point_1_2_3_4(text_unidecode_lower)"
   ]
  },
  {
   "cell_type": "markdown",
   "metadata": {},
   "source": [
    "+ 5. Haga lo mismo que los 4 puntos anteriores pero con todo el texto en minúsculas. Vea\n",
    "las diferencias y comente brevemente."
   ]
  },
  {
   "cell_type": "code",
   "execution_count": 4,
   "metadata": {},
   "outputs": [
    {
     "name": "stdout",
     "output_type": "stream",
     "text": [
      "La cantidad de palabras es de 8039596\n",
      "La longitud del vocabulario es de 157166\n",
      "La riqueza lexica de las conferencias es de 51.15353193438784\n"
     ]
    }
   ],
   "source": [
    "text_lower = to_lowercase(text)\n",
    "exercise_2_point_1_2_3_4(text_lower)"
   ]
  },
  {
   "cell_type": "markdown",
   "metadata": {},
   "source": [
    "+ 7) Haga todo el texto minúsculas. Haga los mismo que los puntos 1, 2, y 3 usando el\n",
    "tokenizador TweetTokenizer. Haga el resto de esta tarea asumiendo haber hecho este\n",
    "punto."
   ]
  },
  {
   "cell_type": "code",
   "execution_count": 5,
   "metadata": {},
   "outputs": [
    {
     "name": "stdout",
     "output_type": "stream",
     "text": [
      "La cantidad de palabras es de 9283310\n",
      "La longitud del vocabulario es de 70357\n",
      "La riqueza lexica de las conferencias es de 131.94579075287461\n"
     ]
    }
   ],
   "source": [
    "# Convierte el texto en unidecode y en minusculas\n",
    "text_unidecode_lower = to_lowercase(text, True)\n",
    "text_tweet = obtain_only_words_with_tweet_tokenizer(text_unidecode_lower)\n",
    "exercise_2_point_1_2_3_4(text_tweet, False)"
   ]
  },
  {
   "cell_type": "markdown",
   "metadata": {},
   "source": [
    "+ 6. Haga lo mismo que los puntos 1, 2 y 3 usando el tokenizador RegExp de NLTK, con\n",
    "una expresión regular que trate de sacar solo tokens que pueden contener solo letras\n",
    "mayúsculas y minúsculas. Después cargue los tokens en un objeto Text de NLTK en\n",
    "lugar de una lista de Python."
   ]
  },
  {
   "cell_type": "code",
   "execution_count": 6,
   "metadata": {},
   "outputs": [
    {
     "name": "stdout",
     "output_type": "stream",
     "text": [
      "La cantidad de palabras es de 7944645\n",
      "La longitud del vocabulario es de 74555\n",
      "La riqueza lexica de las conferencias es de 106.56086110924821\n"
     ]
    }
   ],
   "source": [
    "# Convierte el texto en unidecode\n",
    "text_unidecode = to_unidecode(text)\n",
    "text_nltk = obtain_only_words_with_regex_nltk(text_unidecode)\n",
    "exercise_2_point_1_2_3_4(text_nltk, False)"
   ]
  },
  {
   "cell_type": "markdown",
   "metadata": {},
   "source": [
    "## Funciones NLTK\n",
    "+ 1) Use la función concordance para ver el contexto de 5 palabras que usted elija."
   ]
  },
  {
   "cell_type": "code",
   "execution_count": 7,
   "metadata": {},
   "outputs": [
    {
     "name": "stdout",
     "output_type": "stream",
     "text": [
      "\n",
      "------ Resultados para dengue--------\n",
      "Displaying 25 of 121 matches:\n",
      "lo nuestra preocupacion respecto al dengue o respecto a cualquier otro tipo de\n",
      "sus lo de la agenda PREGUNTA Lo del dengue por favor a groso modo los casos de\n",
      "por favor a groso modo los casos de dengue presidente PRESIDENTE ANDRES MANUEL\n",
      "do en mas de por ciento en casos de dengue y tambien se tiene un reporte de qu\n",
      "acion no tenemos ese dato de lo del dengue del incremento del dengue No Y lo d\n",
      "de lo del dengue del incremento del dengue No Y lo de las medicinas hay que te\n",
      "rar Y asi todo Entonces como que el dengue es porque no se compraron los insec\n",
      "e insecticidas haya una epidemia de dengue no lo he visto He estado en los hos\n",
      "olo en un hospital unos enfermos de dengue pero no es un asunto generalizado N\n",
      " vamos a tener informacion sobre el dengue Ayer me preguntaron de este tema se\n",
      "ue por eso crecio la influencia del dengue en el pais Se pidio informacion sob\n",
      "mosquito que es el que transmite el dengue Entonces tiene que ver mucho con lo\n",
      " todas y todos Les comento sobre el dengue y es una enorme oportunidad para la\n",
      "de la salud porque efectivamente el dengue es una enfermedad infecciosa que af\n",
      " comento un poco de antecedentes El dengue es una enfermedad infecciosa esta c\n",
      "bre y existen cuatro tipos de virus dengue llamados asi dengue uno dos tres y \n",
      " tipos de virus dengue llamados asi dengue uno dos tres y cuatro Ahorita voy a\n",
      " voy a retomar sobre eso Segundo El dengue se transmite por mosquitos mosquito\n",
      "a el mosquito o no se transmitia el dengue se va transmitiendo Por ejemplo en \n",
      "ansmitiendo Por ejemplo en no habia dengue en Guanajuato y luego empezo a habe\n",
      "n Guanajuato y luego empezo a haber dengue en Guanajuato y luego en Aguascalie\n",
      "mision Donde no hay mosquito no hay dengue entonces hay que cuidar que no haya\n",
      "as en particular La transmision del dengue ocurre principalmente en las vivien\n",
      "s y de ahi salga la transmision del dengue La campana tradicionalmente la camp\n",
      "s porque ahi es donde se acumula El dengue ocurre todos los anos todos los ano\n",
      "None\n",
      "\n",
      "------ Resultados para contingencia--------\n",
      "Displaying 25 of 176 matches:\n",
      "enerlo de reserva ante cualquier contingencia para no caer en deficit No tener\n",
      "atender el llamado de Pemex a la contingencia de encontrarse una perforacion d\n",
      " atencion de esta crisis de esta contingencia encabezado por los secretarios q\n",
      " equipos para poder mitigar esta contingencia Se hicieron todas las acciones q\n",
      "e solicito para poder atender la contingencia Gracias PREGUNTA inaudible GENER\n",
      "con el gobernador en cuanto a la contingencia que se enfrenta en ese estado re\n",
      " tuvo hace meses un ataque y una contingencia ahi de pagos y retenciones de la\n",
      "stamos preparados para cualquier contingencia INTERLOCUTOR Ok Y una ultima pre\n",
      "ido energetico Las pipas para la contingencia de abasto fueron compradas al ex\n",
      "anes para atender situaciones de contingencia se detecta que el Mecanismo tien\n",
      "an a ir acumulando por cualquier contingencia toco madera pero vale mas tener \n",
      " de Gobierno solo en un dia hubo contingencia ambiental Si hay una situacion m\n",
      " como lo hicieron ayer pese a la contingencia Senala Enrique Enriquez que la p\n",
      "l Valle de Mexico estamos en una contingencia pero tambien en otros lugares ha\n",
      "o en la parte centro del pais la contingencia ambiental quisiera yo saber cual\n",
      "ida extraordinaria debido a esta contingencia a este tema que estamos tratando\n",
      "de evacuar Si ustedes tienen una contingencia de este tipo y tratan de sacar c\n",
      "l tema y si existe algun plan de contingencia algo previo para enfrentar una p\n",
      "as finanzas publicas ante alguna contingencia es un fondo que se suscribio hac\n",
      "s a la semana para que en alguna contingencia ellos mismos puedan hacerse fren\n",
      "proteccion y el caso del plan de contingencia en Chihuahua donde en colaboraci\n",
      "eria de contaminacion tambien la contingencia Pero eso es una parte del proble\n",
      "Recursos Naturales frente a esta contingencia Mas informacion http bit ly dZwG\n",
      "nes del gobierno federal ante la contingencia mundial del coronavirus Mas info\n",
      "dado caso de que se presente una contingencia PRESIDENTE ANDRES MANUEL LOPEZ O\n",
      "None\n",
      "\n",
      "------ Resultados para periodistas--------\n",
      "Displaying 25 of 919 matches:\n",
      " dias Mire en esta semana van dos periodistas asesinados yo le quiero preguntar\n",
      "odos los ciudadanos y a todos los periodistas Y van a continuarse las investiga\n",
      "ticia y proteccion para todos los periodistas Este es un asunto que esta viendo\n",
      "I solo para comentar que para los periodistas si ha servido mucho y muchas inve\n",
      "nion la sociedad civil reporteros periodistas estan preocupados por su segurida\n",
      "teccion a ciudadanos o el caso de periodistas amenazados que tenemos nosotros l\n",
      "s a recibir PREGUNTA inaudible de periodistas y luchadores de derechos humanos \n",
      "completa a todos los ciudadanos a periodistas Por eso esta ahi Alejandro Encina\n",
      "intervencion dedico esa medalla a periodistas que han perdido la vida en el eje\n",
      "ervidores publicos ni tampoco con periodistas A nadie le he dicho Oye escribe d\n",
      "rabajo de los informadores de los periodistas de los medios Ellos tienen que in\n",
      "s no son aplaudidores ustedes son periodistas pero se esta comprando la mayor p\n",
      "estas Les agradecemos mucho a los periodistas a los medios de informacion que n\n",
      "que tambien tenemos nosotros como periodistas referencias de lo que les pagan p\n",
      "razon Libertad y proteccion a los periodistas de los medios de comunicacion Pos\n",
      "Se ha dado a conocer una lista de periodistas comunicadores que recibian dinero\n",
      "gunas paginas de Internet a estos periodistas se les va a investigar o simpleme\n",
      " se acaba el soborno a medios y a periodistas Vamos a transparentar lo que tien\n",
      " en consideracion En cuanto a los periodistas nosotros vamos a procurar que no \n",
      "os paises mas mortiferos para los periodistas es el tercero si no mal recuerdo \n",
      " preparado de proteccion para los periodistas Y la ultima es Ahora con el anunc\n",
      "ra con el anuncio de personajes y periodistas criticos de anteriores gobiernos \n",
      "uizote de los Flores Magon de los periodistas opositores Nosotros venimos de es\n",
      "eso es muy doloroso sobre todo en periodistas de los estados porque como decia \n",
      "cuando hay amenazas es el caso de periodistas Ahi tenemos que mantener la prote\n",
      "None\n",
      "\n",
      "------ Resultados para hospitales--------\n",
      "Displaying 25 of 2325 matches:\n",
      "de hay centros de salud donde hay hospitales estan saturados no tienen equipos\n",
      "ay especialistas Hay alrededor de hospitales abandonados es una situacion grav\n",
      " las unidades medicas rurales los hospitales de segundo nivel van a pasar a fo\n",
      "ue no pagaba cuota iba a ir a los hospitales del Seguro No va a ser asi Van a \n",
      "ro No va a ser asi Van a ir a los hospitales del Seguro porque es una obligaci\n",
      "o de salud sobre las consultas en hospitales militares Sencillamente no he est\n",
      "ral tiene a su cargo cuando mucho hospitales en los estados No dependen de la \n",
      "urales Los centros de salud y los hospitales dependen de los gobiernos estatal\n",
      "as en los centros de salud en los hospitales Es todo un programa de apoyo a la\n",
      "ay en los centros de salud en los hospitales Todo eso es parte del plan de des\n",
      "n de escuelas de centros de salud hospitales Todo esto tambien apoyado en la d\n",
      "onstruyen carreteras y construyen hospitales y construyen escuelas Siempre Su \n",
      "centros de salud no funcionan los hospitales no hay medicos en los centros de \n",
      "os en los centros de salud en los hospitales no hay medicinas Un desastre desi\n",
      " como un cascaron tiene solo ocho hospitales la Secretaria de Salud federal en\n",
      " de Salud federal en el pais ocho hospitales Se trasladaron se pasaron se tran\n",
      "especial Hay centros de salud hay hospitales inconclusos porque les importaba \n",
      "jar en proceso la obra Hay muchos hospitales abandonados hay hospitales termin\n",
      "muchos hospitales abandonados hay hospitales terminados sin equipamiento sin p\n",
      "increible bajo su responsabilidad hospitales en todo el pais y esos hospitales\n",
      "hospitales en todo el pais y esos hospitales la mitad un poco mas son los inst\n",
      "n hospitalaria de calidad y luego hospitales de especialidades Pero que sucede\n",
      "y que terminar centros de salud y hospitales inconclusos hay que contratar per\n",
      " los que visitan las carceles los hospitales los centros de detencion a los di\n",
      " hay centros de salud abandonados hospitales abandonados centros de salud y ho\n",
      "None\n",
      "\n",
      "------ Resultados para metro--------\n",
      "Displaying 25 of 216 matches:\n",
      "ador en la compra de vagones para el metro Ya se estan destinando millones de p\n",
      "ntentos de secuestro a mujeres en el Metro de la Ciudad de Mexico y el Estado d\n",
      "litos cometidos contra mujeres en el Metro PRESIDENTE ANDRES MANUEL LOPEZ OBRAD\n",
      " inseguridad que esta viviendo en el Metro Sobre todo el acoso a las mujeres ya\n",
      "tes para los vagones de la linea del Metro que esta practicamente detenido aunq\n",
      " de tu pregunta sobre los trenes del Metro sobre el agua para Monterrey Hemos h\n",
      " problemas de jovenes atacadas en el metro Es necesario una limpia Que le podri\n",
      "L LOPEZ OBRADOR Miren en el caso del Metro de Guadalajara les tengo a los ciuda\n",
      "noticia Vamos a terminar este ano el Metro Por que es buena noticia Porque se d\n",
      "obierno anterior que se terminaba el Metro con una inversion de mil millones de\n",
      " en diciembre ya este funcionando el Metro de Guadalajara A ver alla atras Uste\n",
      "ego asi estan inconclusos trenes del metro el tren Toluca el tren Jalisco asi h\n",
      "i aumentaba el precio del boleto del Metro o no como consulte varias cosas Ahor\n",
      "n el Sistema de Transporte Colectivo Metro que depende del gobierno de la Ciuda\n",
      "n el Sistema de Transporte Colectivo Metro tambien esta en la Camara de Diputad\n",
      "ara supervisando la construccion del Metro de Guadalajara porque queremos termi\n",
      " eso no se terminaba de construir el metro que se habian causado muchas molesti\n",
      "n me dicen Que se acordo Terminar el metro PREGUNTA Cuando PRESIDENTE ANDRES MA\n",
      "inea tengo el compromiso tambien del Metro de Chalco Son de los dos compromisos\n",
      "omunidades Presentamos el boleto del Metro el billete de la Loteria Nacional y \n",
      " se va a dar a conocer el boleto del Metro la imagen de un boleto de la Loteria\n",
      "se emitieron millones de boletos del Metro en conmemoracion a Emiliano Zapata e\n",
      " abril en las ventanillas del propio Metro de la Ciudad de Mexico Y ademas en e\n",
      "e la Ciudad de Mexico Y ademas en el metro Pino Suarez se presenta una exposici\n",
      "on de la biografia de Zapata y en el metro Zapata tambien hay una exposicion fo\n",
      "None\n"
     ]
    }
   ],
   "source": [
    "text_nltk = nltk.Text(text_nltk)\n",
    "print_concordance(text_nltk, \"dengue\")\n",
    "print_concordance(text_nltk, \"contingencia\")\n",
    "print_concordance(text_nltk, \"periodistas\")\n",
    "print_concordance(text_nltk, \"hospitales\")\n",
    "print_concordance(text_nltk, \"metro\")"
   ]
  },
  {
   "cell_type": "markdown",
   "metadata": {},
   "source": [
    "+ 2) Elija una palabra que le parezca interesante y muestre palabras con uso similar. Muestre\n",
    "también los contextos comunes"
   ]
  },
  {
   "cell_type": "code",
   "execution_count": 8,
   "metadata": {},
   "outputs": [
    {
     "name": "stdout",
     "output_type": "stream",
     "text": [
      "salud vida seguridad que atencion corrupcion semana informacion\n",
      "violencia poblacion administracion vacunacion educacion investigacion\n",
      "familia vacuna justicia inversion produccion manana\n"
     ]
    }
   ],
   "source": [
    "text_nltk.similar(\"muerte\")"
   ]
  },
  {
   "cell_type": "markdown",
   "metadata": {},
   "source": [
    "+ 3) Generar un dispersion plot de las\n",
    "siguientes palabras: prian, corrupción, mafia, narco, gasolina, pipas, conacyt, ciencia,\n",
    "turismo, pandemia, coronavirus, covid, delta, omicron, vacuna, vacunacion. y otras\n",
    "tres palabras de su elección."
   ]
  },
  {
   "cell_type": "code",
   "execution_count": 9,
   "metadata": {},
   "outputs": [
    {
     "name": "stderr",
     "output_type": "stream",
     "text": [
      "/home/giovanni/.local/lib/python3.8/site-packages/nltk/draw/__init__.py:15: UserWarning: nltk.draw package not loaded (please install Tkinter library).\n",
      "  warnings.warn(\"nltk.draw package not loaded (please install Tkinter library).\")\n"
     ]
    },
    {
     "data": {
      "image/png": "[encoded data removed]",
      "text/plain": [
       "<Figure size 432x288 with 1 Axes>"
      ]
     },
     "metadata": {
      "needs_background": "light"
     },
     "output_type": "display_data"
    }
   ],
   "source": [
    "words = [\"prian\",\n",
    "         \"corrupción\",\n",
    "         \"mafia\",\n",
    "         \"narco\",\n",
    "         \"gasolina\",\n",
    "         \"pipas\",\n",
    "         \"conacyt\",\n",
    "         \"ciencia\",\n",
    "         \"turismo\",\n",
    "         \"pandemia\",\n",
    "         \"coronavirus\",\n",
    "         \"covid\",\n",
    "         \"delta\",\n",
    "         \"omicron\",\n",
    "         \"vacuna\",\n",
    "         \"vacunacion\",\n",
    "         \"hospital\",\n",
    "         \"metro\",\n",
    "         \"dengue\"]\n",
    "text_nltk.dispersion_plot(words)"
   ]
  },
  {
   "cell_type": "markdown",
   "metadata": {},
   "source": [
    "+ 4) Muestre 50 colocaciones de todo el corpus."
   ]
  },
  {
   "cell_type": "code",
   "execution_count": 10,
   "metadata": {},
   "outputs": [
    {
     "name": "stdout",
     "output_type": "stream",
     "text": [
      "ANDRES MANUEL; PRESIDENTE ANDRES; LOPEZ OBRADOR; MANUEL LOPEZ; Estados\n",
      "Unidos; por ciento; Lopez Obrador; Andres Manuel; Manuel Lopez; senor\n",
      "presidente; prensa matutina; todos los; Buenos dias; Version\n",
      "estenografica; Muchas gracias; Guardia Nacional; mil millones; nada\n",
      "mas; presidente Andres; Tren Maya; desde luego; buenos dias; Baja\n",
      "California; que que; adultos mayores; muy importante; todas las;\n",
      "Sembrando Vida; EBRARD CASAUBON; MARCELO EBRARD; matutina del; sobre\n",
      "todo; Dos Bocas; Comision Federal; derechos humanos; Poder Judicial;\n",
      "por ejemplo; Jovenes Construyendo; gobierno federal; Quintana Roo;\n",
      "nuestro pais; Por eso; creo que; del presidente; ver con; PREGUNTA\n",
      "Buenos; Benito Juarez; tiene que; por eso; Fiscalia General\n"
     ]
    }
   ],
   "source": [
    "text_nltk.collocations(num=50)"
   ]
  },
  {
   "cell_type": "markdown",
   "metadata": {},
   "source": [
    "+ 5) Muestre un histograma de longitud en caracteres de las palabras. Muestre en el his-\n",
    "tograma el top 5 de longitudes más largas."
   ]
  },
  {
   "cell_type": "code",
   "execution_count": 11,
   "metadata": {},
   "outputs": [
    {
     "data": {
      "text/plain": [
       "(array([8.5780e+03, 4.7815e+04, 1.7382e+04, 7.3100e+02, 4.4000e+01,\n",
       "        3.0000e+00, 0.0000e+00, 0.0000e+00, 1.0000e+00, 1.0000e+00]),\n",
       " array([ 1. ,  5.7, 10.4, 15.1, 19.8, 24.5, 29.2, 33.9, 38.6, 43.3, 48. ]),\n",
       " <BarContainer object of 10 artists>)"
      ]
     },
     "execution_count": 11,
     "metadata": {},
     "output_type": "execute_result"
    },
    {
     "data": {
      "image/png": "[encoded data removed]",
      "text/plain": [
       "<Figure size 432x288 with 1 Axes>"
      ]
     },
     "metadata": {
      "needs_background": "light"
     },
     "output_type": "display_data"
    }
   ],
   "source": [
    "word_len = obtain_len_of_all_words(set(text_nltk))\n",
    "plt.hist(word_len)"
   ]
  },
  {
   "cell_type": "markdown",
   "metadata": {},
   "source": [
    "+ 6) Muestre 50 palabras con longitud mayor a 8 caracteres y frecuencia mayor a 5 en todo\n",
    "el texto usando comprenhension list de python."
   ]
  },
  {
   "cell_type": "code",
   "execution_count": 12,
   "metadata": {},
   "outputs": [
    {
     "data": {
      "text/plain": [
       "['nutritivo',\n",
       " 'informada',\n",
       " 'protagonistas',\n",
       " 'caminemos',\n",
       " 'negligencia',\n",
       " 'desistimiento',\n",
       " 'concentracion',\n",
       " 'presentaremos',\n",
       " 'progresando',\n",
       " 'golpeados',\n",
       " 'reconociendo',\n",
       " 'secundarias',\n",
       " 'recurrimos',\n",
       " 'imposicion',\n",
       " 'candidato',\n",
       " 'apreciando',\n",
       " 'desplazados',\n",
       " 'cambiaria',\n",
       " 'trabajadora',\n",
       " 'corregirlo',\n",
       " 'interactuan',\n",
       " 'seleccionado',\n",
       " 'trasladarlos',\n",
       " 'inscribir',\n",
       " 'paramilitar',\n",
       " 'nacionalidades',\n",
       " 'bellisimo',\n",
       " 'manipulan',\n",
       " 'consiguen',\n",
       " 'suministrar',\n",
       " 'ocasionadas',\n",
       " 'cuestionar',\n",
       " 'quisieran',\n",
       " 'marihuana',\n",
       " 'organizaciones',\n",
       " 'firmantes',\n",
       " 'itinerante',\n",
       " 'autoricen',\n",
       " 'kilogramo',\n",
       " 'debilitamiento',\n",
       " 'ordinario',\n",
       " 'garantice',\n",
       " 'menesteres',\n",
       " 'ordenaban',\n",
       " 'extraditado',\n",
       " 'complementario',\n",
       " 'encomendo',\n",
       " 'franquiciatarios',\n",
       " 'interpuso',\n",
       " 'deslindar']"
      ]
     },
     "execution_count": 12,
     "metadata": {},
     "output_type": "execute_result"
    }
   ],
   "source": [
    "word_dist = FreqDist(text_nltk)\n",
    "words_select = list(\n",
    "    set([word for word in text_nltk if len(word) > 8 and word_dist[word] > 5]))\n",
    "words_select[:50]"
   ]
  },
  {
   "cell_type": "markdown",
   "metadata": {},
   "source": [
    "+ 8) Use la lista de stopwords de nltk y obtenga la cantidad de palabras en los datos con y\n",
    "sin stopword."
   ]
  },
  {
   "cell_type": "code",
   "execution_count": 13,
   "metadata": {},
   "outputs": [],
   "source": [
    "stopwords = stopwords.words('spanish')\n",
    "text_without_stopwords = [word for word in text_nltk if not word in stopwords]"
   ]
  },
  {
   "cell_type": "code",
   "execution_count": 14,
   "metadata": {},
   "outputs": [
    {
     "name": "stdout",
     "output_type": "stream",
     "text": [
      "Esta es la cantidad de palabras sin filtrar las stopwords 7944645\n",
      "Esta es la cantidad de palabras filtrando las stopwords 4185453\n"
     ]
    }
   ],
   "source": [
    "print(\"Esta es la cantidad de palabras sin filtrar las stopwords {}\".format(len(text_nltk)))\n",
    "print(\"Esta es la cantidad de palabras filtrando las stopwords {}\".format(\n",
    "    len(text_without_stopwords)))"
   ]
  },
  {
   "cell_type": "markdown",
   "metadata": {},
   "source": [
    "+ 9) Muestre las 300 palabras más frecuentes en las conferencias, sin tomar en cuenta stop-\n",
    "words. Muéstrelas de la más frecuente a la menos frecuente."
   ]
  },
  {
   "cell_type": "code",
   "execution_count": 15,
   "metadata": {},
   "outputs": [
    {
     "name": "stdout",
     "output_type": "stream",
     "text": [
      "Palabra   1:             mas\tFrecuencia: 37106\n",
      "Palabra   2:              si\tFrecuencia: 35881\n",
      "Palabra   3:               Y\tFrecuencia: 28405\n",
      "Palabra   4:         tambien\tFrecuencia: 27835\n",
      "Palabra   5:      presidente\tFrecuencia: 27087\n",
      "Palabra   6:              va\tFrecuencia: 24278\n",
      "Palabra   7:          Mexico\tFrecuencia: 24050\n",
      "Palabra   8:           LOPEZ\tFrecuencia: 23255\n",
      "Palabra   9:          MANUEL\tFrecuencia: 22780\n",
      "Palabra  10:          ANDRES\tFrecuencia: 22647\n",
      "Palabra  11:         OBRADOR\tFrecuencia: 22640\n",
      "Palabra  12:      PRESIDENTE\tFrecuencia: 22537\n",
      "Palabra  13:           vamos\tFrecuencia: 21229\n",
      "Palabra  14:             mil\tFrecuencia: 20984\n",
      "Palabra  15:        Entonces\tFrecuencia: 19735\n",
      "Palabra  16:           estan\tFrecuencia: 18060\n",
      "Palabra  17:        gobierno\tFrecuencia: 15207\n",
      "Palabra  18:              En\tFrecuencia: 14270\n",
      "Palabra  19:              No\tFrecuencia: 13259\n",
      "Palabra  20:            aqui\tFrecuencia: 12620\n",
      "Palabra  21:             ver\tFrecuencia: 12341\n",
      "Palabra  22:              Si\tFrecuencia: 12162\n",
      "Palabra  23:              El\tFrecuencia: 12065\n",
      "Palabra  24:            caso\tFrecuencia: 11518\n",
      "Palabra  25:             dos\tFrecuencia: 11397\n",
      "Palabra  26:            dias\tFrecuencia: 11201\n",
      "Palabra  27:            pais\tFrecuencia: 11083\n",
      "Palabra  28:        millones\tFrecuencia: 10887\n",
      "Palabra  29:             ser\tFrecuencia: 10194\n",
      "Palabra  30:             van\tFrecuencia: 10168\n",
      "Palabra  31:           hacer\tFrecuencia: 10114\n",
      "Palabra  32:              La\tFrecuencia: 10106\n",
      "Palabra  33:           ahora\tFrecuencia: 9881\n",
      "Palabra  34:        Nacional\tFrecuencia: 9306\n",
      "Palabra  35:             ahi\tFrecuencia: 9296\n",
      "Palabra  36:           gente\tFrecuencia: 9239\n",
      "Palabra  37:           pesos\tFrecuencia: 9147\n",
      "Palabra  38:           usted\tFrecuencia: 9067\n",
      "Palabra  39:           senor\tFrecuencia: 8822\n",
      "Palabra  40:            tema\tFrecuencia: 8788\n",
      "Palabra  41:          ciento\tFrecuencia: 8453\n",
      "Palabra  42:             asi\tFrecuencia: 8300\n",
      "Palabra  43:           decir\tFrecuencia: 8203\n",
      "Palabra  44:      importante\tFrecuencia: 8190\n",
      "Palabra  45:           tener\tFrecuencia: 8143\n",
      "Palabra  46:          pueblo\tFrecuencia: 8117\n",
      "Palabra  47:            bien\tFrecuencia: 8090\n",
      "Palabra  48:          manera\tFrecuencia: 8024\n",
      "Palabra  49:              Es\tFrecuencia: 7968\n",
      "Palabra  50:           puede\tFrecuencia: 7701\n",
      "Palabra  51:           parte\tFrecuencia: 7677\n",
      "Palabra  52:           mismo\tFrecuencia: 7668\n",
      "Palabra  53:             dia\tFrecuencia: 7561\n",
      "Palabra  54:            Pero\tFrecuencia: 7552\n",
      "Palabra  55:             ano\tFrecuencia: 7528\n",
      "Palabra  56:            anos\tFrecuencia: 7514\n",
      "Palabra  57:            tres\tFrecuencia: 7450\n",
      "Palabra  58:            pues\tFrecuencia: 7418\n",
      "Palabra  59:    INTERLOCUTOR\tFrecuencia: 7343\n",
      "Palabra  60:        PREGUNTA\tFrecuencia: 7260\n",
      "Palabra  61:          tiempo\tFrecuencia: 7226\n",
      "Palabra  62:        personas\tFrecuencia: 7219\n",
      "Palabra  63:             Por\tFrecuencia: 7014\n",
      "Palabra  64:     informacion\tFrecuencia: 6919\n",
      "Palabra  65:   INTERLOCUTORA\tFrecuencia: 6817\n",
      "Palabra  66:            hace\tFrecuencia: 6688\n",
      "Palabra  67:          prensa\tFrecuencia: 6632\n",
      "Palabra  68:      corrupcion\tFrecuencia: 6590\n",
      "Palabra  69:           todas\tFrecuencia: 6474\n",
      "Palabra  70:            solo\tFrecuencia: 6465\n",
      "Palabra  71:         Estados\tFrecuencia: 6465\n",
      "Palabra  72:          Unidos\tFrecuencia: 6447\n",
      "Palabra  73:              Se\tFrecuencia: 6422\n",
      "Palabra  74:             hoy\tFrecuencia: 6341\n",
      "Palabra  75:           habia\tFrecuencia: 6211\n",
      "Palabra  76:           Lopez\tFrecuencia: 6055\n",
      "Palabra  77:           luego\tFrecuencia: 6028\n",
      "Palabra  78:      Secretaria\tFrecuencia: 5999\n",
      "Palabra  79:        entonces\tFrecuencia: 5918\n",
      "Palabra  80:         acuerdo\tFrecuencia: 5912\n",
      "Palabra  81:             Que\tFrecuencia: 5816\n",
      "Palabra  82:        haciendo\tFrecuencia: 5682\n",
      "Palabra  83:           salud\tFrecuencia: 5418\n",
      "Palabra  84:               A\tFrecuencia: 5386\n",
      "Palabra  85:             voy\tFrecuencia: 5351\n",
      "Palabra  86:       seguridad\tFrecuencia: 5344\n",
      "Palabra  87:              Yo\tFrecuencia: 5322\n",
      "Palabra  88:              Ya\tFrecuencia: 5183\n",
      "Palabra  89:         ustedes\tFrecuencia: 5167\n",
      "Palabra  90:           Bueno\tFrecuencia: 5142\n",
      "Palabra  91:          Manuel\tFrecuencia: 5137\n",
      "Palabra  92:         general\tFrecuencia: 5109\n",
      "Palabra  93:           COVID\tFrecuencia: 5029\n",
      "Palabra  94:        empresas\tFrecuencia: 5001\n",
      "Palabra  95:        pregunta\tFrecuencia: 4976\n",
      "Palabra  96:         Obrador\tFrecuencia: 4958\n",
      "Palabra  97:         Gracias\tFrecuencia: 4949\n",
      "Palabra  98:         ejemplo\tFrecuencia: 4899\n",
      "Palabra  99:          semana\tFrecuencia: 4878\n",
      "Palabra 100:           bueno\tFrecuencia: 4833\n",
      "Palabra 101:         trabajo\tFrecuencia: 4819\n",
      "Palabra 102:            ayer\tFrecuencia: 4807\n",
      "Palabra 103:           poder\tFrecuencia: 4766\n",
      "Palabra 104:          Andres\tFrecuencia: 4762\n",
      "Palabra 105:           haber\tFrecuencia: 4744\n",
      "Palabra 106:             dar\tFrecuencia: 4712\n",
      "Palabra 107:            cada\tFrecuencia: 4677\n",
      "Palabra 108:        programa\tFrecuencia: 4670\n",
      "Palabra 109:            toda\tFrecuencia: 4634\n",
      "Palabra 110:              Lo\tFrecuencia: 4627\n",
      "Palabra 111:         gracias\tFrecuencia: 4553\n",
      "Palabra 112:           casos\tFrecuencia: 4509\n",
      "Palabra 113:            creo\tFrecuencia: 4438\n",
      "Palabra 114:           apoyo\tFrecuencia: 4392\n",
      "Palabra 115:          ademas\tFrecuencia: 4375\n",
      "Palabra 116:         siempre\tFrecuencia: 4374\n",
      "Palabra 117:         momento\tFrecuencia: 4372\n",
      "Palabra 118:    trabajadores\tFrecuencia: 4354\n",
      "Palabra 119:            cabo\tFrecuencia: 4326\n",
      "Palabra 120:      Presidente\tFrecuencia: 4206\n",
      "Palabra 121:          Ciudad\tFrecuencia: 4191\n",
      "Palabra 122:        politica\tFrecuencia: 4185\n",
      "Palabra 123:           menos\tFrecuencia: 4164\n",
      "Palabra 124:          dinero\tFrecuencia: 4159\n",
      "Palabra 125:           mejor\tFrecuencia: 4072\n",
      "Palabra 126:          asunto\tFrecuencia: 4057\n",
      "Palabra 127:            Esto\tFrecuencia: 4026\n",
      "Palabra 128:        matutina\tFrecuencia: 3989\n",
      "Palabra 129:     conferencia\tFrecuencia: 3986\n",
      "Palabra 130:             vez\tFrecuencia: 3986\n",
      "Palabra 131:           cosas\tFrecuencia: 3983\n",
      "Palabra 132:           hecho\tFrecuencia: 3973\n",
      "Palabra 133:            Como\tFrecuencia: 3956\n",
      "Palabra 134:              ir\tFrecuencia: 3949\n",
      "Palabra 135:           Pemex\tFrecuencia: 3938\n",
      "Palabra 136:            sino\tFrecuencia: 3918\n",
      "Palabra 137:      secretario\tFrecuencia: 3891\n",
      "Palabra 138:         Version\tFrecuencia: 3836\n",
      "Palabra 139:          Estado\tFrecuencia: 3834\n",
      "Palabra 140:          Buenos\tFrecuencia: 3828\n",
      "Palabra 141:          seguir\tFrecuencia: 3825\n",
      "Palabra 142:           Vamos\tFrecuencia: 3798\n",
      "Palabra 143:         proceso\tFrecuencia: 3787\n",
      "Palabra 144:             Hay\tFrecuencia: 3779\n",
      "Palabra 145:        recursos\tFrecuencia: 3735\n",
      "Palabra 146:             Eso\tFrecuencia: 3733\n",
      "Palabra 147:       situacion\tFrecuencia: 3732\n",
      "Palabra 148:         publica\tFrecuencia: 3671\n",
      "Palabra 149:            sido\tFrecuencia: 3619\n",
      "Palabra 150:          cuatro\tFrecuencia: 3619\n",
      "Palabra 151:          manana\tFrecuencia: 3601\n",
      "Palabra 152:        problema\tFrecuencia: 3596\n",
      "Palabra 153:         derecho\tFrecuencia: 3579\n",
      "Palabra 154:     presupuesto\tFrecuencia: 3556\n",
      "Palabra 155:         incluso\tFrecuencia: 3554\n",
      "Palabra 156:          pueden\tFrecuencia: 3539\n",
      "Palabra 157:        atencion\tFrecuencia: 3527\n",
      "Palabra 158:        centavos\tFrecuencia: 3518\n",
      "Palabra 159:       mexicanos\tFrecuencia: 3507\n",
      "Palabra 160:          cuanto\tFrecuencia: 3494\n",
      "Palabra 161:          buenos\tFrecuencia: 3479\n",
      "Palabra 162:           mundo\tFrecuencia: 3454\n",
      "Palabra 163:              DE\tFrecuencia: 3442\n",
      "Palabra 164:         todavia\tFrecuencia: 3430\n",
      "Palabra 165:         Guardia\tFrecuencia: 3392\n",
      "Palabra 166:           cinco\tFrecuencia: 3336\n",
      "Palabra 167:           hacia\tFrecuencia: 3327\n",
      "Palabra 168:         podemos\tFrecuencia: 3325\n",
      "Palabra 169:           mayor\tFrecuencia: 3300\n",
      "Palabra 170:         primera\tFrecuencia: 3291\n",
      "Palabra 171:            vida\tFrecuencia: 3231\n",
      "Palabra 172:          paises\tFrecuencia: 3213\n",
      "Palabra 173:         conocer\tFrecuencia: 3207\n",
      "Palabra 174:          muchas\tFrecuencia: 3176\n",
      "Palabra 175:          pasado\tFrecuencia: 3165\n",
      "Palabra 176:           Salud\tFrecuencia: 3152\n",
      "Palabra 177:              De\tFrecuencia: 3150\n",
      "Palabra 178:            plan\tFrecuencia: 3145\n",
      "Palabra 179:          precio\tFrecuencia: 3145\n",
      "Palabra 180:             Los\tFrecuencia: 3130\n",
      "Palabra 181:          quiero\tFrecuencia: 3121\n",
      "Palabra 182:         publico\tFrecuencia: 3115\n",
      "Palabra 183:      trabajando\tFrecuencia: 3104\n",
      "Palabra 184:       elementos\tFrecuencia: 3097\n",
      "Palabra 185:          vacuna\tFrecuencia: 3082\n",
      "Palabra 186:   estenografica\tFrecuencia: 3078\n",
      "Palabra 187:         empresa\tFrecuencia: 3048\n",
      "Palabra 188:          Muchas\tFrecuencia: 3009\n",
      "Palabra 189:            dice\tFrecuencia: 2997\n",
      "Palabra 190:         mujeres\tFrecuencia: 2988\n",
      "Palabra 191:        nacional\tFrecuencia: 2980\n",
      "Palabra 192:            hizo\tFrecuencia: 2971\n",
      "Palabra 193:           seria\tFrecuencia: 2957\n",
      "Palabra 194:         federal\tFrecuencia: 2947\n",
      "Palabra 195:           Ahora\tFrecuencia: 2929\n",
      "Palabra 196:       violencia\tFrecuencia: 2929\n",
      "Palabra 197:        informar\tFrecuencia: 2927\n",
      "Palabra 198:         vacunas\tFrecuencia: 2926\n",
      "Palabra 199:            gran\tFrecuencia: 2918\n",
      "Palabra 200:          medios\tFrecuencia: 2906\n",
      "Palabra 201:        queremos\tFrecuencia: 2906\n",
      "Palabra 202:              da\tFrecuencia: 2903\n",
      "Palabra 203:         despues\tFrecuencia: 2886\n",
      "Palabra 204:       poblacion\tFrecuencia: 2864\n",
      "Palabra 205:            Pues\tFrecuencia: 2839\n",
      "Palabra 206:            Aqui\tFrecuencia: 2837\n",
      "Palabra 207:       Republica\tFrecuencia: 2834\n",
      "Palabra 208:   investigacion\tFrecuencia: 2812\n",
      "Palabra 209:        respecto\tFrecuencia: 2803\n",
      "Palabra 210:          numero\tFrecuencia: 2777\n",
      "Palabra 211:            debe\tFrecuencia: 2772\n",
      "Palabra 212:        personal\tFrecuencia: 2756\n",
      "Palabra 213:            tipo\tFrecuencia: 2753\n",
      "Palabra 214:         informe\tFrecuencia: 2743\n",
      "Palabra 215:        pandemia\tFrecuencia: 2741\n",
      "Palabra 216:        hablando\tFrecuencia: 2734\n",
      "Palabra 217:         atender\tFrecuencia: 2734\n",
      "Palabra 218:          sector\tFrecuencia: 2729\n",
      "Palabra 219:          cuenta\tFrecuencia: 2726\n",
      "Palabra 220:           veces\tFrecuencia: 2706\n",
      "Palabra 221:            seis\tFrecuencia: 2695\n",
      "Palabra 222:             ley\tFrecuencia: 2679\n",
      "Palabra 223:         jovenes\tFrecuencia: 2608\n",
      "Palabra 224:          cambio\tFrecuencia: 2579\n",
      "Palabra 225:             mes\tFrecuencia: 2569\n",
      "Palabra 226:           favor\tFrecuencia: 2557\n",
      "Palabra 227:         Tambien\tFrecuencia: 2530\n",
      "Palabra 228:           forma\tFrecuencia: 2525\n",
      "Palabra 229:    construccion\tFrecuencia: 2513\n",
      "Palabra 230:             Con\tFrecuencia: 2510\n",
      "Palabra 231:            agua\tFrecuencia: 2441\n",
      "Palabra 232:           mucha\tFrecuencia: 2436\n",
      "Palabra 233:           dicho\tFrecuencia: 2434\n",
      "Palabra 234:       Bienestar\tFrecuencia: 2433\n",
      "Palabra 235:          social\tFrecuencia: 2433\n",
      "Palabra 236:      municipios\tFrecuencia: 2429\n",
      "Palabra 237:        Veracruz\tFrecuencia: 2424\n",
      "Palabra 238:           falta\tFrecuencia: 2418\n",
      "Palabra 239:          primer\tFrecuencia: 2418\n",
      "Palabra 240:            Esta\tFrecuencia: 2404\n",
      "Palabra 241:         primero\tFrecuencia: 2381\n",
      "Palabra 242:           nadie\tFrecuencia: 2377\n",
      "Palabra 243:           lugar\tFrecuencia: 2375\n",
      "Palabra 244:           decia\tFrecuencia: 2373\n",
      "Palabra 245:         sistema\tFrecuencia: 2370\n",
      "Palabra 246:      gobernador\tFrecuencia: 2352\n",
      "Palabra 247:      desarrollo\tFrecuencia: 2350\n",
      "Palabra 248:           nivel\tFrecuencia: 2346\n",
      "Palabra 249:             Muy\tFrecuencia: 2342\n",
      "Palabra 250:      compromiso\tFrecuencia: 2320\n",
      "Palabra 251:         mayores\tFrecuencia: 2320\n",
      "Palabra 252:    precisamente\tFrecuencia: 2313\n",
      "Palabra 253:        Comision\tFrecuencia: 2310\n",
      "Palabra 254:          Sonora\tFrecuencia: 2306\n",
      "Palabra 255:           vemos\tFrecuencia: 2303\n",
      "Palabra 256:        derechos\tFrecuencia: 2300\n",
      "Palabra 257:           ninos\tFrecuencia: 2296\n",
      "Palabra 258:         reforma\tFrecuencia: 2283\n",
      "Palabra 259:           meses\tFrecuencia: 2273\n",
      "Palabra 260:           nuevo\tFrecuencia: 2261\n",
      "Palabra 261:      hospitales\tFrecuencia: 2260\n",
      "Palabra 262:             gas\tFrecuencia: 2254\n",
      "Palabra 263:            alla\tFrecuencia: 2253\n",
      "Palabra 264:         respeto\tFrecuencia: 2247\n",
      "Palabra 265:            casa\tFrecuencia: 2238\n",
      "Palabra 266:          traves\tFrecuencia: 2230\n",
      "Palabra 267:         Federal\tFrecuencia: 2226\n",
      "Palabra 268:    Constitucion\tFrecuencia: 2226\n",
      "Palabra 269:      secretaria\tFrecuencia: 2224\n",
      "Palabra 270:           buena\tFrecuencia: 2224\n",
      "Palabra 271:          partir\tFrecuencia: 2223\n",
      "Palabra 272:           nunca\tFrecuencia: 2190\n",
      "Palabra 273:       Instituto\tFrecuencia: 2185\n",
      "Palabra 274:           puedo\tFrecuencia: 2185\n",
      "Palabra 275:          llevar\tFrecuencia: 2182\n",
      "Palabra 276:             iba\tFrecuencia: 2179\n",
      "Palabra 277:          llegar\tFrecuencia: 2179\n",
      "Palabra 278:       proposito\tFrecuencia: 2174\n",
      "Palabra 279:          ningun\tFrecuencia: 2163\n",
      "Palabra 280:           total\tFrecuencia: 2159\n",
      "Palabra 281:        justicia\tFrecuencia: 2157\n",
      "Palabra 282:        relacion\tFrecuencia: 2156\n",
      "Palabra 283:         periodo\tFrecuencia: 2154\n",
      "Palabra 284:           pueda\tFrecuencia: 2125\n",
      "Palabra 285:      ciudadanos\tFrecuencia: 2122\n",
      "Palabra 286:         dolares\tFrecuencia: 2120\n",
      "Palabra 287:           punto\tFrecuencia: 2119\n",
      "Palabra 288:        Nosotros\tFrecuencia: 2116\n",
      "Palabra 289:          Marina\tFrecuencia: 2114\n",
      "Palabra 290:     autoridades\tFrecuencia: 2108\n",
      "Palabra 291:        Gobierno\tFrecuencia: 2107\n",
      "Palabra 292:            Este\tFrecuencia: 2097\n",
      "Palabra 293:        economia\tFrecuencia: 2092\n",
      "Palabra 294:         medicos\tFrecuencia: 2086\n",
      "Palabra 295:         Estamos\tFrecuencia: 2085\n",
      "Palabra 296:          alguna\tFrecuencia: 2076\n",
      "Palabra 297:       gobiernos\tFrecuencia: 2068\n",
      "Palabra 298:           saber\tFrecuencia: 2066\n",
      "Palabra 299:             tan\tFrecuencia: 2061\n",
      "Palabra 300:           algun\tFrecuencia: 2060\n"
     ]
    }
   ],
   "source": [
    "word_dist = FreqDist(text_without_stopwords)\n",
    "i = 0\n",
    "for word in word_dist:\n",
    "    print(\"Palabra {: >3}: {: >15}\\tFrecuencia: {}\".format(\n",
    "        i+1, word, word_dist[word]))\n",
    "    i += 1\n",
    "    if i == 300:\n",
    "        break"
   ]
  },
  {
   "cell_type": "markdown",
   "metadata": {},
   "source": [
    "+ 7) Ver https://www.nltk.org/book/ch02.html en la sección 1.5. Proponga una gráfica\n",
    "usando ConditionalFreqDist como la de la Sección 1.5 para estos datos. Usted elige las\n",
    "palabras."
   ]
  },
  {
   "cell_type": "code",
   "execution_count": 16,
   "metadata": {},
   "outputs": [
    {
     "data": {
      "image/png": "[encoded data removed]",
      "text/plain": [
       "<Figure size 576x288 with 1 Axes>"
      ]
     },
     "metadata": {
      "needs_background": "light"
     },
     "output_type": "display_data"
    }
   ],
   "source": [
    "targets = [\"hospital\", \"periodi\"]\n",
    "colors = {\"hospital\": \"#9d0208\",\n",
    "          \"periodi\": \"#03071e\"}\n",
    "files = sorted(os.listdir(path))\n",
    "cfd = nltk.ConditionalFreqDist((target, str_date_to_date(file[:10]))\n",
    "                               for file in files\n",
    "                               for word in read_text(path, file)\n",
    "                               for target in [\"hospital\", \"periodi\"]\n",
    "                               if word.startswith(target))\n",
    "dataframe_hospital = cfd_to_dataframe(cfd,targets[0])\n",
    "dataframe_periodi = cfd_to_dataframe(cfd, targets[1])\n",
    "plt.subplots(figsize=(8, 4))\n",
    "plt.plot(dataframe_hospital[\"Dates\"],\n",
    "             dataframe_hospital[targets[0]],\n",
    "             color=colors[targets[0]],\n",
    "             label=targets[0],\n",
    "             alpha=0.5)\n",
    "plt.plot(dataframe_periodi[\"Dates\"],\n",
    "             dataframe_periodi[targets[1]],\n",
    "             color=colors[targets[1]],\n",
    "             label=targets[1],\n",
    "             alpha=0.5)\n",
    "plt.ylim(0, 120)\n",
    "plt.legend(frameon=False)\n",
    "plt.tight_layout()\n",
    "plt.show()"
   ]
  },
  {
   "cell_type": "markdown",
   "metadata": {},
   "source": [
    "## Otras librerı́as en Python\n",
    "+ 1) Mencione dos librerı́as en Python además de NLTK para NLP. Ponga una desventaja\n",
    "y ventaja de cada una."
   ]
  },
  {
   "cell_type": "markdown",
   "metadata": {},
   "source": [
    "| Libreria     |                                   Ventaja                                  |                           Desventaja                           |\n",
    "|--------------|:--------------------------------------------------------------------------:|:--------------------------------------------------------------:|\n",
    "| Spacy        | Se encuentra optimizada<br>para cada tarea                                 | No es tan flexible                                             |\n",
    "| scikit-learn | Provee un conjunto de algoritmos<br>para crear modelos de machine learning | No usa redes neuronales para<br>el preprocesamiento de textos  |"
   ]
  },
  {
   "cell_type": "markdown",
   "metadata": {},
   "source": [
    "+ 2) Mencione tres alternativas para Text Processing en NLP qué existen en otros lenguajes. De una ventaja y desventaja de cada una."
   ]
  },
  {
   "cell_type": "markdown",
   "metadata": {},
   "source": [
    "| Libreria                        | Ventaja                                                                                                            | Desventaja                                                                    |\n",
    "|---------------------------------|--------------------------------------------------------------------------------------------------------------------|-------------------------------------------------------------------------------|\n",
    "| Google AutoML: lenguaje natural | Ofrece una gran documentación y <br>variedad de modelos para realizar <br>diversos análisis de aspectos del texto  | A partir de la cantidad de peticiones<br>tiene un precio por la API           |\n",
    "| TextRazor                       | Implementación para PHP para un<br>análisis de texto en navegadores web                                            | Puede tener una latencia grande,<br>ya que la misma documentación lo advierte |\n",
    "| Text Summarization              | Ofrece resumenes de forma sencilla<br>realizandon peticiones https                                                 | Realiza una única funcion.<br>Crear resumenes del texto                       |"
   ]
  },
  {
   "cell_type": "markdown",
   "metadata": {},
   "source": [
    "### Dataset download\n",
    "\n",
    "https://drive.google.com/drive/folders/1dB7ZWN9sejp-06ObaV5apFsIhz5DoFzb?usp=sharing"
   ]
  }
 ],
 "metadata": {
  "kernelspec": {
   "display_name": "Python 3",
   "language": "python",
   "name": "python3"
  },
  "language_info": {
   "codemirror_mode": {
    "name": "ipython",
    "version": 3
   },
   "file_extension": ".py",
   "mimetype": "text/x-python",
   "name": "python",
   "nbconvert_exporter": "python",
   "pygments_lexer": "ipython3",
   "version": "3.8.10"
  },
  "latex_envs": {
   "LaTeX_envs_menu_present": true,
   "autoclose": false,
   "autocomplete": true,
   "bibliofile": "biblio.bib",
   "cite_by": "apalike",
   "current_citInitial": 1,
   "eqLabelWithNumbers": true,
   "eqNumInitial": 1,
   "hotkeys": {
    "equation": "Ctrl-E",
    "itemize": "Ctrl-I"
   },
   "labels_anchors": false,
   "latex_user_defs": false,
   "report_style_numbering": false,
   "user_envs_cfg": false
  }
 },
 "nbformat": 4,
 "nbformat_minor": 4
}
