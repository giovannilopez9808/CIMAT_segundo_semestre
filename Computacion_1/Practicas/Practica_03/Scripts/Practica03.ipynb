{
 "cells": [
  {
   "cell_type": "markdown",
   "metadata": {},
   "source": [
    "### Giovanni Gamaliel López Padilla\n",
    "### Procesamiento de lenguaje natural\n",
    "### Practica 3: Bolsas de términos y esquemas de pesado"
   ]
  },
  {
   "cell_type": "code",
   "execution_count": 1,
   "metadata": {},
   "outputs": [],
   "source": [
    "import os\n",
    "import re\n",
    "from keras.preprocessing.text import Tokenizer\n",
    "\n",
    "\n",
    "def get_texts_from_file(path_corpus: str, path_truth: str):\n",
    "    tr_txt = []\n",
    "    tr_y = []\n",
    "    with open(path_corpus, \"r\") as f_corpus, open(path_truth, \"r\") as f_truth:\n",
    "        for twitt in f_corpus:\n",
    "            tr_txt += [twitt]\n",
    "        for label in f_truth:\n",
    "            tr_y += [label]\n",
    "    return tr_txt, tr_y"
   ]
  },
  {
   "cell_type": "code",
   "execution_count": 2,
   "metadata": {},
   "outputs": [],
   "source": [
    "parameters = {\"path data\": \"../Data/\",\n",
    "              \"text file train\": \"mex_train.txt\",\n",
    "              \"text file labels\": \"mex_train_labels.txt\",\n",
    "              \"text file validation\": \"mex_val.txt\",\n",
    "              \"text file validation labels\": \"mex_val_labels.txt\"}\n",
    "path_corpus = \"{}{}\".format(parameters[\"path data\"],\n",
    "                            parameters[\"text file train\"])\n",
    "path_truth = \"{}{}\".format(parameters[\"path data\"],\n",
    "                           parameters[\"text file labels\"])\n",
    "tr_txt, tr_y = get_texts_from_file(path_corpus,\n",
    "                                   path_truth)\n",
    "tr_y = list(map(int, tr_y))"
   ]
  },
  {
   "cell_type": "markdown",
   "metadata": {},
   "source": [
    "#### Estadisticas simples"
   ]
  },
  {
   "cell_type": "code",
   "execution_count": 3,
   "metadata": {},
   "outputs": [
    {
     "name": "stdout",
     "output_type": "stream",
     "text": [
      "Counter({0: 3563, 1: 1981})\n"
     ]
    },
    {
     "data": {
      "text/plain": [
       "Text(0.5, 0, 'Class')"
      ]
     },
     "execution_count": 3,
     "metadata": {},
     "output_type": "execute_result"
    },
    {
     "data": {
      "image/png": "[encoded data removed]",
      "text/plain": [
       "<Figure size 432x288 with 1 Axes>"
      ]
     },
     "metadata": {
      "needs_background": "light"
     },
     "output_type": "display_data"
    }
   ],
   "source": [
    "from collections import Counter\n",
    "import matplotlib.pyplot as plt\n",
    "%matplotlib inline\n",
    "print(Counter(tr_y))\n",
    "plt.hist(tr_y, bins=len(set(tr_y)))\n",
    "plt.ylabel(\"Users\")\n",
    "plt.xlabel(\"Class\")"
   ]
  },
  {
   "cell_type": "markdown",
   "metadata": {},
   "source": [
    "### Un ojo a los datos"
   ]
  },
  {
   "cell_type": "code",
   "execution_count": 4,
   "metadata": {},
   "outputs": [
    {
     "data": {
      "text/plain": [
       "['lo peor de todo es que no me dan por un tiempo y luego vuelven estoy hasta la verga de estl\\n',\n",
       " 'a la vga no seas mamón 45 putos minutos después me dices que apenas sales no me querías avisar en 3 horas? 😑\\n',\n",
       " 'considero que lo más conveniente seria que lo retes a unos vergazos mi jelipe! rómpele la madre a ese pinchi joto!\\n',\n",
       " 'el marica de mi ex me tiene bloqueada de todo así  uno no puede admirar la \"belleza\" de su garnacha 😂\\n',\n",
       " 'mujer despechadaya pinche amlo hazle esta que se pela la loca #reynosafollow #reynosa\\n',\n",
       " 'putos. no tienen madre. ambriados mantenidos. ojetes. como es posible. mejor matarlos\\n',\n",
       " 'ustedes si puden andar de chanceros pero cuidadito y seamos nosotras porque luego luego empiezan a mamar hijos de la chingada.\\n',\n",
       " '@usuario jajjaja te digo esa madre si está buena ajjaja\\n',\n",
       " 'odio los putos trámites de titulación 😡😡😡😡😡😡😡😡😡😡😡 pero me urge la precedula.\\n',\n",
       " '@usuario no te equivocabas mi madre y tu tenían muchísima razón siempre es mejor lo que viene 💚\\n',\n",
       " '\"no me importa lo que digan esos putos periodistas la puta que los pario oh oh oh hay que alentar a la selección\"\\n',\n",
       " 'ok ok está bien ya me pasé de verga.  *se baja del tren del mame*\\n',\n",
       " 'hermosas nalguitas 😘😘 con ganas de mamar ese culito hermoso\\n',\n",
       " 'matías romero oaxaca. de pie y con ganas de salir adelante. ¡qué orgullo! por esto te amo mi méxico por tu gente… <url>\\n',\n",
       " 'me caga lo doble moral y mustia que es la gente sí todos somos mierdas putas cabrones culeros...¿y?\\n',\n",
       " 'pinche #tritdn tan pendejo!!!! ya sabian que estos putos son mañosos!! y no aprenden!!!! pendejos!!! así otros 2 si no mejoran!!\\n',\n",
       " '@usuario @usuario y si este #hermano #hdp @usuario tuyo ;se queda en #panamá ? el  🐷 d #javidu sonreía en #guatemala  estaría mejor allá\\n',\n",
       " 'porque lo primero que busco en una cuenta es verificar si son domadores de putas.\\n',\n",
       " 'se llevó mi chamarra mi pantalón y mis tenis basta que cabrona es me tiene hasta la verga ya que se compre sus putas cosas heeelp\\n',\n",
       " 'puta madre quiero suicidarme por la hdp de la gastritis\\n',\n",
       " 'no hay como las milanesas de mi madre que cosa ricaaaaa\\n',\n",
       " 'imposible dejar de mirarte y de contemplarte mi loca pasión...\\n',\n",
       " 'ay amigxs la tristeza invade nuestros corazones es el cinco pero de octubre a la puta verga.😞😞😞💔 (jajajajaja que pendeja la dvd)\\n',\n",
       " 'para cada loco siempre hay una loca que muerde la boca de esas que se alocan.\\n',\n",
       " 'me caga ser tan celosa y querer matar a cualquier niña que ve o le habla a mi novio🙃muéranse putas es sólo mío\\n',\n",
       " '@usuario son putos y les da miedo... total ya todos saben que les gusta por atrás... al menos a uno mas que al otro...\\n',\n",
       " 'estoy hasta la verga de sus putos tweets de \"open for a surprise\" ✊🏻\\n',\n",
       " '@usuario @usuario @usuario a ti t da pena mostrar tu foto por tu cara de estupido y maricon que tienes ve con el america a chingar a su madre\\n',\n",
       " '@usuario luchona buchona mamona y sangrona y copiona\\n',\n",
       " 'el hijo de la jefa de mi mamá está bien guapo. pero tiene 16 :( y una novia. porqué me haces esto diosito\\n',\n",
       " '@usuario @usuario yo le decía a marquitos pero pues te pones el saco marica\\n',\n",
       " 'awebo putos el señor zhang ya me dio regalo en clase de asia\\n',\n",
       " 'y tal vez si no estuvieras tan violado por maricon no criticaras como vieja chismosa no crees sapo?\\n',\n",
       " 'yo nunca uso la palabra \"verga\" y eso no significa que no sea una pinche lépera.\\n',\n",
       " 'lo que buscamos en una mujer principalmente es que no nos esté chingando la existencia si es guapa o no al final vale verga.\\n',\n",
       " 'pendejos pero q tal si huviera perdido el puto dl puebla pinchi equipo mediocre\\n',\n",
       " '@usuario que nuestro señor jesus lo cuide y proteja y nuestra madre maria lo guíe  y lo mantenga bajo su manto sagrado su santidad. buen vieje\\n',\n",
       " 'jajaja “acaba la prepa” “buchón” jajajaja conozco niñitas que se defienden mejor que tú. llégale a la verga pinche puñetas.\\n',\n",
       " 'solo espero que hoy no me toque el mismo #traficogt ee todas las putas mañanas\\n',\n",
       " 'pinche mono maricon muy chingon haciendo llorar a una señora mayor no has de tener madre ojete!!!\\n',\n",
       " 'putos simios ojalá no lleguen al mundial malditos hondureños miserables.\\n',\n",
       " 'che si el relator es de allboys ponganlo a relatar a los putos de floresta! tremendo culo ardido el hijo de puta.\\n',\n",
       " 'por qué putas ponen a benedetto de inicio después del papelón que hizo con perú?\\n',\n",
       " '@usuario igual que todos lo políticos hdp (hijos de puta. para que no quede duda) de lo que se roban así como tu. no te mordiste la lengua?\\n',\n",
       " '@usuario lo dudó son sus amigos del marica @usuario. y los que dieron domicilio falso los van a buscar en la sección amarilla? 🤔🤔🤔\\n',\n",
       " 'desde que @usuario @usuario @usuario @usuario ya no tuitean esta red social vale verga\\n',\n",
       " 'pague infracciones del bmw... y lo lleve a verificar 😐 esta vida loca! 😢😢\\n',\n",
       " 'regresé perritos y ando muy cachonda asi que quiero verga\\n',\n",
       " 'y me fue súper verga en mi trabajo yeeeei los días buenos come back 😎\\n',\n",
       " 'la semana de exámenes y proyectos me está dando en la madre 🙄\\n',\n",
       " 'como serás pendejo maldito homosexual de cagada ojalá putin llegue a tener el control del nuevo…\\n',\n",
       " 'si la vida me da la oportunidad de ser madre me asegúrare de que el o ella ame a los seres vivos tanto como yo 😿\\n',\n",
       " 'de verdad no estoy loca solo soy el producto de algunas drogas.\\n',\n",
       " 'les urge la verga pero andan de mamonas así como ps\\n',\n",
       " 'que putos pues si no quisiera ir pues no iba pero no vaya a faltar un maestro porque uy súper necesario\\n',\n",
       " 'twitter siempre saca mi lado filosófico aunque está de la verga pero lo saca 😁 #martesdeganarseguidores\\n',\n",
       " 'si ya sabes que me enojo rapido para que le chingas\\n',\n",
       " '@usuario @usuario daño es irle al america seguro eres una machorra frustrada jajaja\\n',\n",
       " 'a las 10 pm de ayer sábado ya estaba durmiendo. me encanta mi vida loca.\\n',\n",
       " 'soy aranza y ando como loca con las teóricas viste jsjs\\n',\n",
       " '@usuario chinga tu madre estoy cenando culero 🙄\\n',\n",
       " 'gracias chiquita te quiero machín ary y no soy joto\\n',\n",
       " 'desde acá arriba se puede ver lo mucho que te valgo verga.\\n',\n",
       " 'creo seriamente que se ven bien pendejos justin y selena gomez  no mamar neta\\n',\n",
       " 'muy bonita tu novia la machorra me pregunto quien le dará a quien? 🤔\\n',\n",
       " 'mis manos sudaban al entrar al auditorio y we las limpiaba como loca. monsta x comeback in november\\n',\n",
       " 'si mi verga fuera pluma y mis huevos tinteron con mi semen te escribiría un te quiero #diadelalbanil 😂😂\\n',\n",
       " 'que buen vergazo te pusieron marica. jajajajajajjaa\\n',\n",
       " 'dulce madre no te alejes y solos nunca nos dejes !!\\n',\n",
       " 'hace 1 año me robaron mi celular en mi depa y este año me robaron una computadora en mi casa por que no me roban la vida mejor pinches putos\\n',\n",
       " 'gracias facebook pero no son personas que “quizá conozca” son personas que conozco pero que me valen madre y no las quiero agregar.\\n',\n",
       " 'con la eliminación de mis @usuario  ya solo me queda esperar que pierdan los putos yankees.\\n',\n",
       " 'yo si quiero que argentina se quede fuera.. lonsiento por leo.. pero esos putos nos han meado en mundiales!!\\n',\n",
       " 'pinche arbitro vete alv pendejo chinga tu madre.\\n',\n",
       " 'yo ahorita que me enfrente a the end en metal gear solid 3. hijo de la verga como me hizo sufrir de morro.\\n',\n",
       " 'a toda madre 4 días y no termino 🤧\\n',\n",
       " '@usuario y @usuario sin tantita calidad humana robarse el dinero de los más pobres es no tener nada de madre. #laestafamaestra\\n',\n",
       " 'ya podría ser actor porno con toda esta verga que te valgo :(\\n',\n",
       " 'o al menos procurar que no salgan más putos barros alv.\\n',\n",
       " 'el mundo sería más fácil si se clasificara entre pendejos y putas.  me tardaría menos en emitir mis juicios.\\n',\n",
       " 'hijos de sus putas madres a layún no me lo toquen😤😤😤\\n',\n",
       " 'putas encuestas de instagram sólo vinieron a reforzar el alcoholismo!\\n',\n",
       " 'jajajaja a los únicos seres que no se le niega la invitación es: a las mujeres no seas marica y portate como un hombrecito. #puto\\n',\n",
       " 'maldita sea me estoy volviendo loca por descubrir el nombre del nuevo sencillo @usuario  #urband5ahorcado\\n',\n",
       " 'mis putas letras p y ñ no sirven te juro que esa mamada es una bendición\\n',\n",
       " 'y pinche putos @usuario bien que me cobran el mes...¿qué me vas a cobrar? bola de pendejos\\n',\n",
       " '@usuario en la madre!\\n',\n",
       " 'tengo muchas ganas de un tatuaje pero soy bien marica en esas cosas\\n',\n",
       " 'recuerdo que el profe tama (casi desconocido en acapulco) que también es su mejor amigo me abrazó y como pinches putos nos pusimos a llorar.\\n',\n",
       " 'mentira que por \"putas\" las asesinan también a las que son  \"esposas y madres perfectas\". no hay espacios seguros para las mujeres.\\n',\n",
       " 'todas las rolas de sam smith son iguales. igual me sigue mamando.\\n',\n",
       " 'los diseñadores del trabajo no valen verga pinches diseños feos.\\n',\n",
       " 'guiller perales pinche joto te ves con tu cafecito jajaja — me siento soñoliento en banco estatal de sangre\\n',\n",
       " 'lo dice alguien que sin duda le va a un equipo marica... espero no seas amer…\\n',\n",
       " 'neta que pinche mal momento para enfermarme por qué no me he muerto a la verga\\n',\n",
       " 'así es pero su gente idiota no sabe el fairplay putos ignorantes\\n',\n",
       " 'ya nos cargó la calaca 😂💀🌼 nos vemos mañana en este día por tvt☀️\\n',\n",
       " 'estoy a una tecla de mandar a la 💩 mi hermosa exposición de aditivos alimentarios.\\n',\n",
       " \"oye @usuario de que es la 'j' eres juan balvin? josé? judas? joto?\\n\",\n",
       " '@usuario @usuario la neta pinche viejo nefasto no somos los unicos @usuario que nos caga el puto @usuario de maricon. mi @usuario  sapbeeeeeeeeeeee\\n']"
      ]
     },
     "execution_count": 4,
     "metadata": {},
     "output_type": "execute_result"
    }
   ],
   "source": [
    "tr_txt[:100]"
   ]
  },
  {
   "cell_type": "markdown",
   "metadata": {},
   "source": [
    "## Construcción simple del vocabulario"
   ]
  },
  {
   "cell_type": "code",
   "execution_count": 5,
   "metadata": {},
   "outputs": [],
   "source": [
    "from nltk.tokenize import TweetTokenizer\n",
    "tokenizer = TweetTokenizer()"
   ]
  },
  {
   "cell_type": "code",
   "execution_count": 6,
   "metadata": {},
   "outputs": [],
   "source": [
    "import nltk\n",
    "corpus_palabras = []\n",
    "for doc in tr_txt:\n",
    "    corpus_palabras += tokenizer.tokenize(doc)\n",
    "fdist = nltk.FreqDist(corpus_palabras)"
   ]
  },
  {
   "cell_type": "code",
   "execution_count": 7,
   "metadata": {},
   "outputs": [
    {
     "data": {
      "text/plain": [
       "FreqDist({'que': 3383, 'de': 3357, '.': 2774, 'a': 2629, 'la': 2433, 'y': 2266, 'no': 1824, 'me': 1613, '!': 1505, 'el': 1303, ...})"
      ]
     },
     "execution_count": 7,
     "metadata": {},
     "output_type": "execute_result"
    }
   ],
   "source": [
    "fdist"
   ]
  },
  {
   "cell_type": "code",
   "execution_count": 8,
   "metadata": {},
   "outputs": [
    {
     "data": {
      "text/plain": [
       "13581"
      ]
     },
     "execution_count": 8,
     "metadata": {},
     "output_type": "execute_result"
    }
   ],
   "source": [
    "len(fdist)"
   ]
  },
  {
   "cell_type": "code",
   "execution_count": 9,
   "metadata": {},
   "outputs": [],
   "source": [
    "def sort_freqdist(fdist: nltk.FreqDist):\n",
    "    aux = [(fdist[key], key) for key in fdist]\n",
    "    aux.sort()\n",
    "    aux.reverse()\n",
    "    return aux"
   ]
  },
  {
   "cell_type": "code",
   "execution_count": 10,
   "metadata": {},
   "outputs": [],
   "source": [
    "v = sort_freqdist(fdist)"
   ]
  },
  {
   "cell_type": "code",
   "execution_count": 11,
   "metadata": {},
   "outputs": [],
   "source": [
    "v = v[:5000]"
   ]
  },
  {
   "cell_type": "code",
   "execution_count": 12,
   "metadata": {},
   "outputs": [],
   "source": [
    "dict_indices = dict()\n",
    "cont = 0\n",
    "for weight, word in v:\n",
    "    dict_indices[word] = cont\n",
    "    cont += 1"
   ]
  },
  {
   "cell_type": "markdown",
   "metadata": {},
   "source": [
    "#### Bolsa de palabras"
   ]
  },
  {
   "cell_type": "code",
   "execution_count": 13,
   "metadata": {},
   "outputs": [],
   "source": [
    "import numpy as np\n",
    "\n",
    "\n",
    "def build_bow(tr_txt: list, v: list, dict_indices: dict):\n",
    "    bow = np.zeros((len(tr_txt), len(v)), dtype=int)\n",
    "    cont_doct = 0\n",
    "    for tr in tr_txt:\n",
    "        fdist_doc = nltk.FreqDist(tokenizer.tokenize(tr))\n",
    "        for word in fdist_doc:\n",
    "            if word in dict_indices.keys():\n",
    "                bow[cont_doct, dict_indices[word]] = 1\n",
    "        cont_doct += 1\n",
    "    return bow"
   ]
  },
  {
   "cell_type": "code",
   "execution_count": 14,
   "metadata": {},
   "outputs": [],
   "source": [
    "bow_tr = build_bow(tr_txt,\n",
    "                   v,\n",
    "                   dict_indices)"
   ]
  },
  {
   "cell_type": "code",
   "execution_count": 15,
   "metadata": {},
   "outputs": [
    {
     "data": {
      "text/plain": [
       "(5544, 5000)"
      ]
     },
     "execution_count": 15,
     "metadata": {},
     "output_type": "execute_result"
    }
   ],
   "source": [
    "bow_tr.shape"
   ]
  },
  {
   "cell_type": "markdown",
   "metadata": {},
   "source": [
    "### Bolsa de terminos de validacion"
   ]
  },
  {
   "cell_type": "code",
   "execution_count": 17,
   "metadata": {},
   "outputs": [
    {
     "name": "stdout",
     "output_type": "stream",
     "text": [
      "Counter({0: 397, 1: 219})\n"
     ]
    },
    {
     "data": {
      "text/plain": [
       "Text(0.5, 0, 'Class')"
      ]
     },
     "execution_count": 17,
     "metadata": {},
     "output_type": "execute_result"
    },
    {
     "data": {
      "image/png": "[encoded data removed]",
      "text/plain": [
       "<Figure size 432x288 with 1 Axes>"
      ]
     },
     "metadata": {
      "needs_background": "light"
     },
     "output_type": "display_data"
    }
   ],
   "source": [
    "path_validation = \"{}{}\".format(parameters[\"path data\"],\n",
    "                                parameters[\"text file validation\"])\n",
    "path_validation_truth = \"{}{}\".format(parameters[\"path data\"],\n",
    "                                      parameters[\"text file validation labels\"])\n",
    "val_txt, val_y = get_texts_from_file(path_validation,\n",
    "                                     path_validation_truth)\n",
    "val_y = list(map(int, val_y))\n",
    "print(Counter(val_y))\n",
    "%matplotlib inline\n",
    "plt.hist(val_y, bins=len(set(val_y)))\n",
    "plt.ylabel(\"Users\")\n",
    "plt.xlabel(\"Class\")"
   ]
  },
  {
   "cell_type": "code",
   "execution_count": 23,
   "metadata": {},
   "outputs": [],
   "source": [
    "bow_val = build_bow(val_txt,\n",
    "                   v,\n",
    "                   dict_indices)"
   ]
  },
  {
   "cell_type": "markdown",
   "metadata": {},
   "source": [
    "### Clasificacion"
   ]
  },
  {
   "cell_type": "code",
   "execution_count": 26,
   "metadata": {},
   "outputs": [],
   "source": [
    "from sklearn import svm\n",
    "from sklearn.model_selection import GridSearchCV\n",
    "from sklearn import metrics\n",
    "from sklearn.metrics import accuracy_score, confusion_matrix, f1_score, precision_recall_fscore_support, roc_auc_score\n",
    "parameters_model = {\"C\": [0.05, 0.12, 0.25, 0.5, 1, 2, 4]}\n",
    "svr = svm.LinearSVC(class_weight=\"balanced\")\n",
    "grid = GridSearchCV(estimator=svr,\n",
    "                    param_grid=parameters_model,\n",
    "                    n_jobs=8,\n",
    "                    scoring=\"f1_macro\",\n",
    "                    cv=5)\n",
    "grid.fit(bow_tr, tr_y)\n",
    "y_pred = grid.predict(bow_val)"
   ]
  },
  {
   "cell_type": "code",
   "execution_count": 27,
   "metadata": {},
   "outputs": [
    {
     "name": "stdout",
     "output_type": "stream",
     "text": [
      "[[329  68]\n",
      " [ 47 172]]\n",
      "              precision    recall  f1-score   support\n",
      "\n",
      "           0       0.88      0.83      0.85       397\n",
      "           1       0.72      0.79      0.75       219\n",
      "\n",
      "    accuracy                           0.81       616\n",
      "   macro avg       0.80      0.81      0.80       616\n",
      "weighted avg       0.82      0.81      0.82       616\n",
      "\n"
     ]
    }
   ],
   "source": [
    "p, r, f ,_= precision_recall_fscore_support(val_y,\n",
    "                                          y_pred,\n",
    "                                          average=\"macro\",\n",
    "                                          pos_label=1)\n",
    "print(confusion_matrix(val_y,y_pred))\n",
    "print(metrics.classification_report(val_y,y_pred))"
   ]
  },
  {
   "cell_type": "code",
   "execution_count": 28,
   "metadata": {},
   "outputs": [],
   "source": [
    "incorrect = [] \n",
    "for e in zip(val_y,y_pred,range(len(val_y))):\n",
    "    if e[0] !=e[1]:\n",
    "        incorrect += [e[2]]"
   ]
  },
  {
   "cell_type": "code",
   "execution_count": 29,
   "metadata": {},
   "outputs": [
    {
     "name": "stdout",
     "output_type": "stream",
     "text": [
      "Texto: cada día me siento como un perro ovejero tratando de cuidar sus ovejas vale madre pinches rateros póngase a trabajar.😤\n",
      "Truth: 1\n",
      "Pred: 0\n",
      "Texto: ya a cualquier prieto le dicen licenciado peludito tengan madre\n",
      "Truth: 1\n",
      "Pred: 0\n",
      "Texto: ahora si a chingar a su madre la fecha fifa y ahora si a disfrutar de nuestra gloriosa liga mx.\n",
      "Truth: 0\n",
      "Pred: 1\n",
      "Texto: la neta... si yo fuera messi les dijera \"chinguen a su madre putos yo hice todo\".\n",
      "Truth: 0\n",
      "Pred: 1\n",
      "Texto: no quería mentarte la madre tan temprano pinche maricón il \"buasap\" pinche millenial cacha moscas\n",
      "Truth: 1\n",
      "Pred: 0\n",
      "Texto: los putos a chin.... a su madre! ya me harté de seguir todo el mundo seguiré lo que yo quiera.\n",
      "Truth: 1\n",
      "Pred: 0\n",
      "Texto: @usuario no tienen abuela madre vergüenza....\n",
      "Truth: 1\n",
      "Pred: 0\n",
      "Texto: chingas a tu madre sí no cumples la promesa que me hiciste hace tiempo.\n",
      "Truth: 1\n",
      "Pred: 0\n",
      "Texto: dicen que el amor es de putos! y pues q puto resulte  jajaja valí madre desde que la conocí!\n",
      "Truth: 0\n",
      "Pred: 1\n",
      "Texto: prácticamente lauren dijo \"me la pelan todos vayanse a chingar a su madre putos\" pero con estilo i lov mi reina\n",
      "Truth: 0\n",
      "Pred: 1\n",
      "Texto: qué putas madres tienen en la cabeza para que se les antoje un cigarro antes de las 8:00 am??\n",
      "Truth: 0\n",
      "Pred: 1\n",
      "Texto: ya chingo a su madre la güera loca de trump como lider munfial ya nadie confia en el ni en los gringos...juar...juar...juar...!!!\n",
      "Truth: 1\n",
      "Pred: 0\n",
      "Texto: esto si es no tener madre no tener respeto por absolutamente nada. una cosa es ejecutar al enemigo pero matar con saña a civiles indigna. <url>\n",
      "Truth: 1\n",
      "Pred: 0\n",
      "Texto: ah qué poca madre aretes y pestañas al perro que las usen sus pinches dueñas pars ver si se les quita lo ignorante. <url>\n",
      "Truth: 0\n",
      "Pred: 1\n"
     ]
    }
   ],
   "source": [
    "for case in incorrect:\n",
    "    if \"madre\" in val_txt[case].strip():\n",
    "        print(\"Texto: {}\\nTruth: {}\\nPred: {}\".format(val_txt[case].strip(),\n",
    "                                                     val_y[case],\n",
    "                                                     y_pred[case]))\n",
    "    "
   ]
  },
  {
   "cell_type": "code",
   "execution_count": null,
   "metadata": {},
   "outputs": [],
   "source": []
  }
 ],
 "metadata": {
  "kernelspec": {
   "display_name": "Python 3",
   "language": "python",
   "name": "python3"
  },
  "language_info": {
   "codemirror_mode": {
    "name": "ipython",
    "version": 3
   },
   "file_extension": ".py",
   "mimetype": "text/x-python",
   "name": "python",
   "nbconvert_exporter": "python",
   "pygments_lexer": "ipython3",
   "version": "3.8.10"
  },
  "latex_envs": {
   "LaTeX_envs_menu_present": true,
   "autoclose": false,
   "autocomplete": true,
   "bibliofile": "biblio.bib",
   "cite_by": "apalike",
   "current_citInitial": 1,
   "eqLabelWithNumbers": true,
   "eqNumInitial": 1,
   "hotkeys": {
    "equation": "Ctrl-E",
    "itemize": "Ctrl-I"
   },
   "labels_anchors": false,
   "latex_user_defs": false,
   "report_style_numbering": false,
   "user_envs_cfg": false
  }
 },
 "nbformat": 4,
 "nbformat_minor": 4
}
