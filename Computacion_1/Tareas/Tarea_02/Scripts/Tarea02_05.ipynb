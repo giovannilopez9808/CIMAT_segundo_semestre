{
 "cells": [
  {
   "cell_type": "markdown",
   "metadata": {
    "id": "RKb4pBh7OKj4"
   },
   "source": [
    "#### Giovanni Gamaliel López Padilla\n",
    "#### Procesamiento de lenguaje natural\n",
    "#### Tarea 02 - parte 5"
   ]
  },
  {
   "cell_type": "code",
   "execution_count": 1,
   "metadata": {
    "id": "DipB1FXEOKj8"
   },
   "outputs": [],
   "source": [
    "from functions import *\n",
    "# Obtiene las rutas y nombres de los archivos\n",
    "parameters = obtain_parameters()\n",
    "# Lectura de los archivos de datos con sus respectivas etiquetas\n",
    "data_tr, labels_tr, data_val, labels_val = load_data(parameters)\n",
    "# Lectuta de los archivos de EmoLex\n",
    "data_tr_emolex_emotions, data_val_emolex_emotions = load_emolex_data(\n",
    "    parameters,\n",
    "    data_tr,\n",
    "    data_val,\n",
    ")\n",
    "# Carga de los datos de SEL\n",
    "data_tr_sel_emotions, data_val_sel_emotions, scores = load_sel_data(\n",
    "    parameters,\n",
    "    data_tr,\n",
    "    data_val,\n",
    ")"
   ]
  },
  {
   "cell_type": "code",
   "execution_count": 2,
   "metadata": {
    "id": "LyMJi50aOKkO"
   },
   "outputs": [],
   "source": [
    "# Obtiene la distribucion de palabras ordenadas de mayor a menor con un maximo de 5000 palabras\n",
    "fdist_tr = obtain_fdist(\n",
    "    data_tr,\n",
    "    parameters[\"max words\"],\n",
    ")\n",
    "# Creacion del diccionario con la posicion en la distribucion de palabras\n",
    "word_index = create_dictonary_of_index(fdist_tr)\n",
    "# Creacion de la BoW para los datos de entrenamiento usando pesos binarios\n",
    "binary_bow_tr_word = build_binary_bow(\n",
    "    data_tr,\n",
    "    fdist_tr,\n",
    "    word_index,\n",
    ")\n",
    "# Creacion de la BoW para los datos de validacion usando pesos binarios\n",
    "binary_bow_val_word = build_binary_bow(\n",
    "    data_val,\n",
    "    fdist_tr,\n",
    "    word_index,\n",
    ")"
   ]
  },
  {
   "cell_type": "code",
   "execution_count": 3,
   "metadata": {
    "id": "rv_g5tYtOKkv"
   },
   "outputs": [],
   "source": [
    "# Obtiene la distribucion de palabras ordenadas de mayor a menor con un maximo de 5000 palabras\n",
    "fdist_tr = obtain_fdist(\n",
    "    data_tr_emolex_emotions,\n",
    "    parameters[\"max words\"],\n",
    ")\n",
    "# Creacion de la BoW para los datos de entrenamiento usando pesos binarios\n",
    "binary_bow_tr_emolex = build_binary_bow(\n",
    "    data_tr_emolex_emotions,\n",
    "    fdist_tr,\n",
    "    word_index,\n",
    ")\n",
    "# Creacion de la BoW para los datos de validacion usando pesos binarios\n",
    "binary_bow_val_emolex = build_binary_bow(\n",
    "    data_val_emolex_emotions,\n",
    "    fdist_tr,\n",
    "    word_index,\n",
    ")"
   ]
  },
  {
   "cell_type": "code",
   "execution_count": 4,
   "metadata": {
    "id": "07EuTyBgOKk5"
   },
   "outputs": [],
   "source": [
    "# Obtiene la distribucion de palabras ordenadas de mayor a menor con un maximo de 5000 palabras\n",
    "fdist_tr = obtain_fdist(\n",
    "    data_tr_sel_emotions,\n",
    "    parameters[\"max words\"],\n",
    ")\n",
    "# Creacion del diccionario con la posicion en la distribucion de palabras\n",
    "word_index = create_dictonary_of_index(fdist_tr)\n",
    "# Creacion de la BoW para los datos de entrenamiento usando pesos binarios\n",
    "binary_bow_tr_sel = build_binary_bow_with_probabilities(\n",
    "    data_tr_sel_emotions,\n",
    "    fdist_tr,\n",
    "    word_index,\n",
    "    scores,\n",
    ")\n",
    "# Creacion de la BoW para los datos de validacion usando pesos binarios\n",
    "binary_bow_val_sel = build_binary_bow_with_probabilities(\n",
    "    data_val_sel_emotions,\n",
    "    fdist_tr,\n",
    "    word_index,\n",
    "    scores,\n",
    ")"
   ]
  },
  {
   "cell_type": "code",
   "execution_count": 5,
   "metadata": {
    "id": "QEvH8J7MOKk_"
   },
   "outputs": [],
   "source": [
    "# Obtiene la distribucion de palabras ordenadas de mayor a menor con un maximo de 5000 palabras\n",
    "fdist_tr = obtain_fdist_with_bigrams(\n",
    "    data_tr,\n",
    "    parameters[\"max bigrams\"],\n",
    ")\n",
    "# Creacion del diccionario con la posicion en la distribucion de palabras\n",
    "bigram_index = create_dictonary_of_index(fdist_tr)\n",
    "# Creacion de la BoW para los datos de entrenamiento usando pesos binarios\n",
    "binary_bow_tr_bigram = build_binary_bigram_bow(\n",
    "    data_tr,\n",
    "    fdist_tr,\n",
    "    bigram_index,\n",
    ")\n",
    "# Creacion de la BoW para los datos de validacion usando pesos binarios\n",
    "binary_bow_val_bigram = build_binary_bigram_bow(\n",
    "    data_val,\n",
    "    fdist_tr,\n",
    "    bigram_index,\n",
    ")"
   ]
  },
  {
   "cell_type": "code",
   "execution_count": 7,
   "metadata": {
    "colab": {
     "base_uri": "https://localhost:8080/"
    },
    "id": "GeHzSJ8OOKlC",
    "outputId": "62e72179-0f81-405b-faf3-7b2eb3cc3a95"
   },
   "outputs": [],
   "source": [
    "binary_bow_tr = np.concatenate(\n",
    "    (\n",
    "        binary_bow_tr_word,\n",
    "        binary_bow_tr_emolex,\n",
    "        binary_bow_tr_sel,\n",
    "        binary_bow_tr_bigram,\n",
    "    ),\n",
    "    axis=1,\n",
    ")\n",
    "binary_bow_val = np.concatenate(\n",
    "    (\n",
    "        binary_bow_val_word,\n",
    "        binary_bow_val_emolex,\n",
    "        binary_bow_val_sel,\n",
    "        binary_bow_val_bigram,\n",
    "    ),\n",
    "    axis=1,\n",
    ")"
   ]
  },
  {
   "cell_type": "code",
   "execution_count": null,
   "metadata": {},
   "outputs": [],
   "source": [
    "grid = create_model(\n",
    "    binary_bow_tr,\n",
    "    labels_tr,\n",
    ")\n",
    "result = evaluate_model(\n",
    "    binary_bow_val,\n",
    "    labels_val,\n",
    "    grid,\n",
    "    \"Concadenado\",\n",
    ")\n",
    "results = [result]"
   ]
  },
  {
   "cell_type": "code",
   "execution_count": null,
   "metadata": {
    "id": "H22xcPxgOKlE"
   },
   "outputs": [],
   "source": [
    "print_results(results)"
   ]
  },
  {
   "cell_type": "markdown",
   "metadata": {},
   "source": [
    "<style type=\"text/css\">\n",
    ".tg  {border-collapse:collapse;border-spacing:0;}\n",
    ".tg td{border-color:black;border-style:solid;border-width:1px;font-family:Arial, sans-serif;font-size:14px;\n",
    "  overflow:hidden;padding:10px 5px;word-break:normal;}\n",
    ".tg th{border-color:black;border-style:solid;border-width:1px;font-family:Arial, sans-serif;font-size:14px;\n",
    "  font-weight:normal;overflow:hidden;padding:10px 5px;word-break:normal;}\n",
    ".tg .tg-0pky{border-color:inherit;text-align:left;vertical-align:top}\n",
    ".tg .tg-0lax{text-align:left;vertical-align:top}\n",
    "</style>\n",
    "<table class=\"tg\">\n",
    "<thead>\n",
    "  <tr>\n",
    "    <th class=\"tg-0pky\">Algoritmo</th>\n",
    "    <th class=\"tg-0lax\">Precision</th>\n",
    "    <th class=\"tg-0lax\">Recall</th>\n",
    "    <th class=\"tg-0lax\">F1 Score</th>\n",
    "  </tr>\n",
    "</thead>\n",
    "<tbody>\n",
    "  <tr>\n",
    "    <td class=\"tg-0pky\">Concadenado</td>\n",
    "    <td class=\"tg-0lax\">0.776593</td>\n",
    "    <td class=\"tg-0lax\">0.781938</td>\n",
    "    <td class=\"tg-0lax\">0.779018</td>\n",
    "  </tr>\n",
    "</tbody>\n",
    "</table>"
   ]
  },
  {
   "cell_type": "code",
   "execution_count": null,
   "metadata": {},
   "outputs": [],
   "source": []
  }
 ],
 "metadata": {
  "colab": {
   "name": "Tarea02.ipynb",
   "provenance": []
  },
  "kernelspec": {
   "display_name": "Python 3",
   "language": "python",
   "name": "python3"
  },
  "language_info": {
   "codemirror_mode": {
    "name": "ipython",
    "version": 3
   },
   "file_extension": ".py",
   "mimetype": "text/x-python",
   "name": "python",
   "nbconvert_exporter": "python",
   "pygments_lexer": "ipython3",
   "version": "3.8.10"
  },
  "latex_envs": {
   "LaTeX_envs_menu_present": true,
   "autoclose": false,
   "autocomplete": true,
   "bibliofile": "biblio.bib",
   "cite_by": "apalike",
   "current_citInitial": 1,
   "eqLabelWithNumbers": true,
   "eqNumInitial": 1,
   "hotkeys": {
    "equation": "Ctrl-E",
    "itemize": "Ctrl-I"
   },
   "labels_anchors": false,
   "latex_user_defs": false,
   "report_style_numbering": false,
   "user_envs_cfg": false
  }
 },
 "nbformat": 4,
 "nbformat_minor": 1
}
