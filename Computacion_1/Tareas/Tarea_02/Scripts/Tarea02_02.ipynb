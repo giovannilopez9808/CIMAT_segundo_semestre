{
 "cells": [
  {
   "cell_type": "code",
   "execution_count": 1,
   "metadata": {},
   "outputs": [],
   "source": [
    "from functions import *\n",
    "# Parametros de rutas y nombres de archivos\n",
    "parameters = obtain_parameters()\n",
    "# Lectura de los datos y sus etiquetas\n",
    "data_tr, labels_tr, data_val, labels_val = load_data(parameters)"
   ]
  },
  {
   "cell_type": "markdown",
   "metadata": {},
   "source": [
    "#### 2.8) De las configuraciones anteriores elija la mejor y evalúela con más y menos términos (e.g., 1000 y 7000). Ponga una tabla dónde compare las tres configuraciones."
   ]
  },
  {
   "cell_type": "markdown",
   "metadata": {},
   "source": [
    "#### 1000 terminos"
   ]
  },
  {
   "cell_type": "code",
   "execution_count": 2,
   "metadata": {},
   "outputs": [],
   "source": [
    "parameters[\"max words\"] = 1000\n",
    "# Obtiene la distribucion de palabras ordenadas de mayor a menor con un maximo de 5000 palabras\n",
    "fdist_tr = obtain_fdist(\n",
    "    data_tr,\n",
    "    parameters[\"max words\"],\n",
    ")\n",
    "# Creacion del diccionario con la posicion en la distribucion de palabras\n",
    "word_index = create_dictonary_of_index(fdist_tr)"
   ]
  },
  {
   "cell_type": "code",
   "execution_count": 3,
   "metadata": {},
   "outputs": [
    {
     "name": "stdout",
     "output_type": "stream",
     "text": [
      "[[331  66]\n",
      " [ 49 170]]\n",
      "              precision    recall  f1-score   support\n",
      "\n",
      "           0       0.87      0.83      0.85       397\n",
      "           1       0.72      0.78      0.75       219\n",
      "\n",
      "    accuracy                           0.81       616\n",
      "   macro avg       0.80      0.81      0.80       616\n",
      "weighted avg       0.82      0.81      0.81       616\n",
      "\n"
     ]
    }
   ],
   "source": [
    "# Creacion de la BoW para los datos de entrenamiento usando pesos binarios\n",
    "binary_bow_tr_word_1000 = build_frecuency_bow(\n",
    "    data_tr,\n",
    "    fdist_tr,\n",
    "    word_index,\n",
    ")\n",
    "# Creacion de la BoW para los datos de validacion usando pesos binarios\n",
    "binary_bow_val_word_1000 = build_frecuency_bow(\n",
    "    data_val,\n",
    "    fdist_tr,\n",
    "    word_index,\n",
    ")\n",
    "grid = create_model(\n",
    "    binary_bow_tr_word_1000,\n",
    "    labels_tr,\n",
    ")\n",
    "result = evaluate_model(\n",
    "    binary_bow_val_word_1000,\n",
    "    labels_val,\n",
    "    grid,\n",
    "    \"Binario 1000\",\n",
    ")\n",
    "results = [result]"
   ]
  },
  {
   "cell_type": "code",
   "execution_count": 4,
   "metadata": {},
   "outputs": [
    {
     "name": "stdout",
     "output_type": "stream",
     "text": [
      "[[331  66]\n",
      " [ 49 170]]\n",
      "              precision    recall  f1-score   support\n",
      "\n",
      "           0       0.87      0.83      0.85       397\n",
      "           1       0.72      0.78      0.75       219\n",
      "\n",
      "    accuracy                           0.81       616\n",
      "   macro avg       0.80      0.81      0.80       616\n",
      "weighted avg       0.82      0.81      0.81       616\n",
      "\n"
     ]
    }
   ],
   "source": [
    "# Creacion de la BoW para los datos de entrenamiento usando pesos binarios\n",
    "freq_bow_tr_word_1000 = build_frecuency_bow(\n",
    "    data_tr,\n",
    "    fdist_tr,\n",
    "    word_index,\n",
    ")\n",
    "# Creacion de la BoW para los datos de validacion usando pesos binarios\n",
    "freq_bow_val_word_1000 = build_frecuency_bow(\n",
    "    data_val,\n",
    "    fdist_tr,\n",
    "    word_index,\n",
    ")\n",
    "grid = create_model(\n",
    "    freq_bow_tr_word_1000,\n",
    "    labels_tr,\n",
    ")\n",
    "result = evaluate_model(\n",
    "    freq_bow_val_word_1000,\n",
    "    labels_val,\n",
    "    grid,\n",
    "    \"Frecuencias 1000\",\n",
    ")\n",
    "results += [result]"
   ]
  },
  {
   "cell_type": "markdown",
   "metadata": {},
   "source": [
    "#### 5000 palabras"
   ]
  },
  {
   "cell_type": "code",
   "execution_count": 5,
   "metadata": {},
   "outputs": [],
   "source": [
    "parameters[\"max words\"] = 5000\n",
    "# Obtiene la distribucion de palabras ordenadas de mayor a menor con un maximo de 5000 palabras\n",
    "fdist_tr = obtain_fdist(\n",
    "    data_tr,\n",
    "    parameters[\"max words\"],\n",
    ")\n",
    "# Creacion del diccionario con la posicion en la distribucion de palabras\n",
    "word_index = create_dictonary_of_index(fdist_tr)"
   ]
  },
  {
   "cell_type": "code",
   "execution_count": 6,
   "metadata": {},
   "outputs": [
    {
     "name": "stdout",
     "output_type": "stream",
     "text": [
      "[[329  68]\n",
      " [ 47 172]]\n",
      "              precision    recall  f1-score   support\n",
      "\n",
      "           0       0.88      0.83      0.85       397\n",
      "           1       0.72      0.79      0.75       219\n",
      "\n",
      "    accuracy                           0.81       616\n",
      "   macro avg       0.80      0.81      0.80       616\n",
      "weighted avg       0.82      0.81      0.82       616\n",
      "\n"
     ]
    }
   ],
   "source": [
    "# Creacion de la BoW para los datos de entrenamiento usando pesos binarios\n",
    "binary_bow_tr_word = build_binary_bow(\n",
    "    data_tr,\n",
    "    fdist_tr,\n",
    "    word_index,\n",
    ")\n",
    "# Creacion de la BoW para los datos de validacion usando pesos binarios\n",
    "binary_bow_val_word = build_binary_bow(\n",
    "    data_val,\n",
    "    fdist_tr,\n",
    "    word_index,\n",
    ")\n",
    "# Creación del modelo\n",
    "grid = create_model(\n",
    "    binary_bow_tr_word,\n",
    "    labels_tr,\n",
    ")\n",
    "# Evaluación del rendimiento del modelo\n",
    "result = evaluate_model(\n",
    "    binary_bow_val_word,\n",
    "    labels_val,\n",
    "    grid,\n",
    "    \"Binario 5000\",\n",
    ")\n",
    "results += [result]"
   ]
  },
  {
   "cell_type": "code",
   "execution_count": 7,
   "metadata": {},
   "outputs": [
    {
     "name": "stdout",
     "output_type": "stream",
     "text": [
      "[[333  64]\n",
      " [ 49 170]]\n",
      "              precision    recall  f1-score   support\n",
      "\n",
      "           0       0.87      0.84      0.85       397\n",
      "           1       0.73      0.78      0.75       219\n",
      "\n",
      "    accuracy                           0.82       616\n",
      "   macro avg       0.80      0.81      0.80       616\n",
      "weighted avg       0.82      0.82      0.82       616\n",
      "\n"
     ]
    }
   ],
   "source": [
    "# Creacion de la BoW para los datos de entrenamiento usando pesos binarios\n",
    "freq_bow_tr_word = build_frecuency_bow(\n",
    "    data_tr,\n",
    "    fdist_tr,\n",
    "    word_index,\n",
    ")\n",
    "# Creacion de la BoW para los datos de validacion usando pesos binarios\n",
    "freq_bow_val_word = build_frecuency_bow(\n",
    "    data_val,\n",
    "    fdist_tr,\n",
    "    word_index,\n",
    ")\n",
    "# Creacion del modelo\n",
    "grid = create_model(\n",
    "    freq_bow_tr_word,\n",
    "    labels_tr,\n",
    ")\n",
    "# Evaluacion del rendimiento del modelo\n",
    "result = evaluate_model(\n",
    "    freq_bow_val_word,\n",
    "    labels_val,\n",
    "    grid,\n",
    "    \"Frecuencias 5000\",\n",
    ")\n",
    "results += [result]"
   ]
  },
  {
   "cell_type": "markdown",
   "metadata": {},
   "source": [
    "#### 7000 palabras"
   ]
  },
  {
   "cell_type": "code",
   "execution_count": 8,
   "metadata": {},
   "outputs": [],
   "source": [
    "parameters[\"max words\"] = 7000\n",
    "# Obtiene la distribucion de palabras ordenadas de mayor a menor con un maximo de 5000 palabras\n",
    "fdist_tr = obtain_fdist(\n",
    "    data_tr,\n",
    "    parameters[\"max words\"],\n",
    ")\n",
    "# Creacion del diccionario con la posicion en la distribucion de palabras\n",
    "word_index = create_dictonary_of_index(fdist_tr)"
   ]
  },
  {
   "cell_type": "code",
   "execution_count": 9,
   "metadata": {},
   "outputs": [
    {
     "name": "stdout",
     "output_type": "stream",
     "text": [
      "[[334  63]\n",
      " [ 50 169]]\n",
      "              precision    recall  f1-score   support\n",
      "\n",
      "           0       0.87      0.84      0.86       397\n",
      "           1       0.73      0.77      0.75       219\n",
      "\n",
      "    accuracy                           0.82       616\n",
      "   macro avg       0.80      0.81      0.80       616\n",
      "weighted avg       0.82      0.82      0.82       616\n",
      "\n"
     ]
    }
   ],
   "source": [
    "# Creacion de la BoW para los datos de entrenamiento usando pesos binarios\n",
    "binary_bow_tr_word_7000 = build_frecuency_bow(\n",
    "    data_tr,\n",
    "    fdist_tr,\n",
    "    word_index,\n",
    ")\n",
    "# Creacion de la BoW para los datos de validacion usando pesos binarios\n",
    "binary_bow_val_word_7000 = build_frecuency_bow(\n",
    "    data_val,\n",
    "    fdist_tr,\n",
    "    word_index,\n",
    ")\n",
    "grid = create_model(\n",
    "    binary_bow_tr_word_7000,\n",
    "    labels_tr,\n",
    ")\n",
    "result = evaluate_model(\n",
    "    binary_bow_val_word_7000,\n",
    "    labels_val,\n",
    "    grid,\n",
    "    \"Binario 7000\",\n",
    ")\n",
    "results += [result]"
   ]
  },
  {
   "cell_type": "code",
   "execution_count": 11,
   "metadata": {},
   "outputs": [
    {
     "name": "stdout",
     "output_type": "stream",
     "text": [
      "[[334  63]\n",
      " [ 50 169]]\n",
      "              precision    recall  f1-score   support\n",
      "\n",
      "           0       0.87      0.84      0.86       397\n",
      "           1       0.73      0.77      0.75       219\n",
      "\n",
      "    accuracy                           0.82       616\n",
      "   macro avg       0.80      0.81      0.80       616\n",
      "weighted avg       0.82      0.82      0.82       616\n",
      "\n"
     ]
    }
   ],
   "source": [
    "# Creacion de la BoW para los datos de entrenamiento usando pesos binarios\n",
    "freq_bow_tr_word_7000 = build_frecuency_bow(\n",
    "    data_tr,\n",
    "    fdist_tr,\n",
    "    word_index,\n",
    ")\n",
    "# Creacion de la BoW para los datos de validacion usando pesos binarios\n",
    "freq_bow_val_word_7000 = build_frecuency_bow(\n",
    "    data_val,\n",
    "    fdist_tr,\n",
    "    word_index,\n",
    ")\n",
    "grid = create_model(\n",
    "    freq_bow_tr_word_7000,\n",
    "    labels_tr,\n",
    ")\n",
    "result = evaluate_model(\n",
    "    freq_bow_val_word_7000,\n",
    "    labels_val,\n",
    "    grid,\n",
    "    \"Frecuencias 7000\",\n",
    ")\n",
    "results += [result]"
   ]
  },
  {
   "cell_type": "code",
   "execution_count": 12,
   "metadata": {},
   "outputs": [
    {
     "name": "stdout",
     "output_type": "stream",
     "text": [
      "Algoritmo           Precision    Recall    F1 Score\n",
      "----------------  -----------  --------  ----------\n",
      "Binario 1000         0.795696  0.805004    0.799624\n",
      "Frecuencias 1000     0.795696  0.805004    0.799624\n",
      "Binario 5000         0.795833  0.807052    0.800342\n",
      "Frecuencias 5000     0.799112  0.807523    0.802747\n",
      "Binario 7000         0.79912   0.8065      0.80238\n",
      "Frecuencias 7000     0.79912   0.8065      0.80238\n"
     ]
    }
   ],
   "source": [
    "print_results(results)"
   ]
  }
 ],
 "metadata": {
  "kernelspec": {
   "display_name": "Python 3",
   "language": "python",
   "name": "python3"
  },
  "language_info": {
   "codemirror_mode": {
    "name": "ipython",
    "version": 3
   },
   "file_extension": ".py",
   "mimetype": "text/x-python",
   "name": "python",
   "nbconvert_exporter": "python",
   "pygments_lexer": "ipython3",
   "version": "3.8.10"
  },
  "latex_envs": {
   "LaTeX_envs_menu_present": true,
   "autoclose": false,
   "autocomplete": true,
   "bibliofile": "biblio.bib",
   "cite_by": "apalike",
   "current_citInitial": 1,
   "eqLabelWithNumbers": true,
   "eqNumInitial": 1,
   "hotkeys": {
    "equation": "Ctrl-E",
    "itemize": "Ctrl-I"
   },
   "labels_anchors": false,
   "latex_user_defs": false,
   "report_style_numbering": false,
   "user_envs_cfg": false
  }
 },
 "nbformat": 4,
 "nbformat_minor": 4
}
