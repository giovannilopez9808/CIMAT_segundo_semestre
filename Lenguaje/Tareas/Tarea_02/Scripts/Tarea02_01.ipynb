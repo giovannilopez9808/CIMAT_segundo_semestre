{
 "cells": [
  {
   "cell_type": "markdown",
   "metadata": {},
   "source": [
    "#### Giovanni Gamaliel López Padilla\n",
    "#### Procesamiento de lenguaje natural\n",
    "#### Tarea 02 - Parte 1"
   ]
  },
  {
   "cell_type": "code",
   "execution_count": 1,
   "metadata": {},
   "outputs": [],
   "source": [
    "from functions import *\n",
    "# Parametros de rutas y nombres de archivos\n",
    "parameters = obtain_parameters()\n",
    "# Lectura de los datos y sus etiquetas\n",
    "data_tr, labels_tr, data_val, labels_val = load_data(parameters)"
   ]
  },
  {
   "cell_type": "code",
   "execution_count": 2,
   "metadata": {},
   "outputs": [],
   "source": [
    "# Obtiene la distribucion de palabras ordenadas de mayor a menor con un maximo de 5000 palabras\n",
    "fdist_tr = obtain_fdist(\n",
    "    data_tr,\n",
    "    parameters[\"max words\"],\n",
    ")\n",
    "# Creacion del diccionario con la posicion en la distribucion de palabras\n",
    "word_index = create_dictonary_of_index(fdist_tr)"
   ]
  },
  {
   "cell_type": "markdown",
   "metadata": {},
   "source": [
    "##### 2.1) Evalue Bow con pesos binarios"
   ]
  },
  {
   "cell_type": "code",
   "execution_count": 3,
   "metadata": {},
   "outputs": [
    {
     "name": "stdout",
     "output_type": "stream",
     "text": [
      "[[329  68]\n",
      " [ 47 172]]\n",
      "              precision    recall  f1-score   support\n",
      "\n",
      "           0       0.88      0.83      0.85       397\n",
      "           1       0.72      0.79      0.75       219\n",
      "\n",
      "    accuracy                           0.81       616\n",
      "   macro avg       0.80      0.81      0.80       616\n",
      "weighted avg       0.82      0.81      0.82       616\n",
      "\n"
     ]
    }
   ],
   "source": [
    "# Creacion de la BoW para los datos de entrenamiento usando pesos binarios\n",
    "binary_bow_tr_word = build_binary_bow(\n",
    "    data_tr,\n",
    "    fdist_tr,\n",
    "    word_index,\n",
    ")\n",
    "# Creacion de la BoW para los datos de validacion usando pesos binarios\n",
    "binary_bow_val_word = build_binary_bow(\n",
    "    data_val,\n",
    "    fdist_tr,\n",
    "    word_index,\n",
    ")\n",
    "# Creación del modelo\n",
    "grid = create_model(\n",
    "    binary_bow_tr_word,\n",
    "    labels_tr,\n",
    ")\n",
    "# Evaluación del rendimiento del modelo\n",
    "result = evaluate_model(\n",
    "    binary_bow_val_word,\n",
    "    labels_val,\n",
    "    grid,\n",
    "    \"Binario\",\n",
    ")\n",
    "results=[result]"
   ]
  },
  {
   "cell_type": "markdown",
   "metadata": {},
   "source": [
    "##### 2.2) Evalue Bow con pesado frecuencia"
   ]
  },
  {
   "cell_type": "code",
   "execution_count": 4,
   "metadata": {},
   "outputs": [
    {
     "name": "stdout",
     "output_type": "stream",
     "text": [
      "[[333  64]\n",
      " [ 49 170]]\n",
      "              precision    recall  f1-score   support\n",
      "\n",
      "           0       0.87      0.84      0.85       397\n",
      "           1       0.73      0.78      0.75       219\n",
      "\n",
      "    accuracy                           0.82       616\n",
      "   macro avg       0.80      0.81      0.80       616\n",
      "weighted avg       0.82      0.82      0.82       616\n",
      "\n"
     ]
    }
   ],
   "source": [
    "# Creacion de la BoW para los datos de entrenamiento usando pesos binarios\n",
    "freq_bow_tr_word = build_frecuency_bow(\n",
    "    data_tr,\n",
    "    fdist_tr,\n",
    "    word_index,\n",
    ")\n",
    "# Creacion de la BoW para los datos de validacion usando pesos binarios\n",
    "freq_bow_val_word = build_frecuency_bow(\n",
    "    data_val,\n",
    "    fdist_tr,\n",
    "    word_index,\n",
    ")\n",
    "# Creacion del modelo\n",
    "grid = create_model(\n",
    "    freq_bow_tr_word,\n",
    "    labels_tr,\n",
    ")\n",
    "# Evaluacion del rendimiento del modelo\n",
    "result = evaluate_model(\n",
    "    freq_bow_val_word,\n",
    "    labels_val,\n",
    "    grid,\n",
    "    \"Frecuencias\"\n",
    ")\n",
    "results += [result]"
   ]
  },
  {
   "cell_type": "markdown",
   "metadata": {},
   "source": [
    "##### 2.3) Evalue Bow con pesado tfidf"
   ]
  },
  {
   "cell_type": "code",
   "execution_count": 5,
   "metadata": {},
   "outputs": [
    {
     "name": "stdout",
     "output_type": "stream",
     "text": [
      "[[329  68]\n",
      " [ 57 162]]\n",
      "              precision    recall  f1-score   support\n",
      "\n",
      "           0       0.85      0.83      0.84       397\n",
      "           1       0.70      0.74      0.72       219\n",
      "\n",
      "    accuracy                           0.80       616\n",
      "   macro avg       0.78      0.78      0.78       616\n",
      "weighted avg       0.80      0.80      0.80       616\n",
      "\n"
     ]
    }
   ],
   "source": [
    "# Creacion de la BoW para los datos de entrenamiento usando pesos binarios\n",
    "tfidf_bow_tr_word = build_tfidf_bow(\n",
    "    data_tr,\n",
    "    fdist_tr,\n",
    "    word_index,\n",
    ")\n",
    "# Creacion de la BoW para los datos de validacion usando pesos binarios\n",
    "tfidf_bow_val_word = build_tfidf_bow(\n",
    "    data_val,\n",
    "    fdist_tr,\n",
    "    word_index,\n",
    ")\n",
    "# Creación del modelo\n",
    "grid = create_model(\n",
    "    tfidf_bow_tr_word,\n",
    "    labels_tr,\n",
    ")\n",
    "# Evaluación del rendimiento del modelo\n",
    "result = evaluate_model(\n",
    "    tfidf_bow_val_word,\n",
    "    labels_val,\n",
    "    grid,\n",
    "    \"TFIDF\",\n",
    ")\n",
    "results += [result]"
   ]
  },
  {
   "cell_type": "markdown",
   "metadata": {},
   "source": [
    "##### 2.4) Evalue Bow con pesos binarios normalizado"
   ]
  },
  {
   "cell_type": "code",
   "execution_count": 6,
   "metadata": {},
   "outputs": [
    {
     "name": "stdout",
     "output_type": "stream",
     "text": [
      "[[322  75]\n",
      " [ 49 170]]\n",
      "              precision    recall  f1-score   support\n",
      "\n",
      "           0       0.87      0.81      0.84       397\n",
      "           1       0.69      0.78      0.73       219\n",
      "\n",
      "    accuracy                           0.80       616\n",
      "   macro avg       0.78      0.79      0.79       616\n",
      "weighted avg       0.81      0.80      0.80       616\n",
      "\n"
     ]
    }
   ],
   "source": [
    "# Normalizacion de la BoW binaria\n",
    "binary_bow_tr_word_norm = normalize(binary_bow_tr_word)\n",
    "binary_bow_val_word_norm = normalize(binary_bow_val_word)\n",
    "# Creacion del modelo\n",
    "grid = create_model(\n",
    "    binary_bow_tr_word_norm,\n",
    "    labels_tr,\n",
    ")\n",
    "# Evaluación del redimiento del modelo\n",
    "result = evaluate_model(\n",
    "    binary_bow_val_word_norm,\n",
    "    labels_val,\n",
    "    grid,\n",
    "    \"Binario normalizado\",\n",
    ")\n",
    "results += [result]"
   ]
  },
  {
   "cell_type": "markdown",
   "metadata": {},
   "source": [
    "##### 2.5) Evalue Bow con pesado frecuencia normalizado"
   ]
  },
  {
   "cell_type": "code",
   "execution_count": 7,
   "metadata": {},
   "outputs": [
    {
     "name": "stdout",
     "output_type": "stream",
     "text": [
      "[[321  76]\n",
      " [ 49 170]]\n",
      "              precision    recall  f1-score   support\n",
      "\n",
      "           0       0.87      0.81      0.84       397\n",
      "           1       0.69      0.78      0.73       219\n",
      "\n",
      "    accuracy                           0.80       616\n",
      "   macro avg       0.78      0.79      0.78       616\n",
      "weighted avg       0.80      0.80      0.80       616\n",
      "\n"
     ]
    }
   ],
   "source": [
    "# Normalizacion de la BoW basada en frecuencias\n",
    "freq_bow_tr_word_norm = normalize(freq_bow_tr_word)\n",
    "freq_bow_val_word_norm = normalize(freq_bow_val_word)\n",
    "# Creacion del modelo\n",
    "grid = create_model(\n",
    "    freq_bow_tr_word_norm,\n",
    "    labels_tr,\n",
    ")\n",
    "# Evaluación del modelo\n",
    "result = evaluate_model(\n",
    "    freq_bow_val_word_norm,\n",
    "    labels_val,\n",
    "    grid,\n",
    "    \"Frecuencia normalizado\",\n",
    ")\n",
    "results += [result]"
   ]
  },
  {
   "cell_type": "markdown",
   "metadata": {},
   "source": [
    "##### 2.6) Evalue Bow con pesado tfidf normalizado"
   ]
  },
  {
   "cell_type": "code",
   "execution_count": 8,
   "metadata": {},
   "outputs": [
    {
     "name": "stdout",
     "output_type": "stream",
     "text": [
      "[[325  72]\n",
      " [ 50 169]]\n",
      "              precision    recall  f1-score   support\n",
      "\n",
      "           0       0.87      0.82      0.84       397\n",
      "           1       0.70      0.77      0.73       219\n",
      "\n",
      "    accuracy                           0.80       616\n",
      "   macro avg       0.78      0.80      0.79       616\n",
      "weighted avg       0.81      0.80      0.80       616\n",
      "\n"
     ]
    }
   ],
   "source": [
    "# Normalizacion de la BoW basada en tfidf\n",
    "tfidf_bow_tr_word_norm = normalize(tfidf_bow_tr_word, )\n",
    "tfidf_bow_val_word_norm = normalize(tfidf_bow_val_word, )\n",
    "# Creación del modelo\n",
    "grid = create_model(\n",
    "    tfidf_bow_tr_word_norm,\n",
    "    labels_tr,\n",
    ")\n",
    "# Evaluación del modelo\n",
    "result = evaluate_model(\n",
    "    tfidf_bow_val_word_norm,\n",
    "    labels_val,\n",
    "    grid,\n",
    "    \"TFIDF normalizado\",\n",
    ")\n",
    "results += [result]"
   ]
  },
  {
   "cell_type": "markdown",
   "metadata": {},
   "source": [
    "##### 2.7) Ponga una tabla comparativa a modo de resumen con las seis entradas anteriores"
   ]
  },
  {
   "cell_type": "code",
   "execution_count": 9,
   "metadata": {},
   "outputs": [
    {
     "name": "stdout",
     "output_type": "stream",
     "text": [
      "Algoritmo                 Precision    Recall    F1 Score\n",
      "----------------------  -----------  --------  ----------\n",
      "Binario                    0.795833  0.807052    0.800342\n",
      "Frecuencias                0.799112  0.807523    0.802747\n",
      "TFIDF                      0.77834   0.784221    0.780981\n",
      "Binario normalizado        0.780901  0.793669    0.78565\n",
      "Frecuencia normalizado     0.779312  0.79241     0.784105\n",
      "TFIDF normalizado          0.783956  0.795165    0.788376\n"
     ]
    }
   ],
   "source": [
    "print_results(results)"
   ]
  }
 ],
 "metadata": {
  "kernelspec": {
   "display_name": "Python 3",
   "language": "python",
   "name": "python3"
  },
  "language_info": {
   "codemirror_mode": {
    "name": "ipython",
    "version": 3
   },
   "file_extension": ".py",
   "mimetype": "text/x-python",
   "name": "python",
   "nbconvert_exporter": "python",
   "pygments_lexer": "ipython3",
   "version": "3.8.10"
  },
  "latex_envs": {
   "LaTeX_envs_menu_present": true,
   "autoclose": false,
   "autocomplete": true,
   "bibliofile": "biblio.bib",
   "cite_by": "apalike",
   "current_citInitial": 1,
   "eqLabelWithNumbers": true,
   "eqNumInitial": 1,
   "hotkeys": {
    "equation": "Ctrl-E",
    "itemize": "Ctrl-I"
   },
   "labels_anchors": false,
   "latex_user_defs": false,
   "report_style_numbering": false,
   "user_envs_cfg": false
  }
 },
 "nbformat": 4,
 "nbformat_minor": 4
}
