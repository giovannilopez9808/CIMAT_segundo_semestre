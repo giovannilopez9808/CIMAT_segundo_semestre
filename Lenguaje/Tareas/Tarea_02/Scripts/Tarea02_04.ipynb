{
 "cells": [
  {
   "cell_type": "markdown",
   "metadata": {},
   "source": [
    "#### Giovanni Gamaliel López Padilla\n",
    "#### Procesamiento de lenguaje natural\n",
    "#### Tarea 02 - parte 4"
   ]
  },
  {
   "cell_type": "markdown",
   "metadata": {},
   "source": [
    "## 4) ¿Podemos mejorar con Bigramas?"
   ]
  },
  {
   "cell_type": "markdown",
   "metadata": {},
   "source": [
    "#### 4.1) Hacer un experimento dónde concatene una buena BoW según sus experimentos anteriores con otra BoW construida a partir de los 1000 bigramas más frecuentes."
   ]
  },
  {
   "cell_type": "code",
   "execution_count": 1,
   "metadata": {},
   "outputs": [],
   "source": [
    "from functions import *\n",
    "# Obtiene las rutas y nombres de archivos\n",
    "parameters = obtain_parameters()\n",
    "# Obtiene los datos del dataset\n",
    "data_tr, labels_tr, data_val, labels_val = load_data(parameters)"
   ]
  },
  {
   "cell_type": "code",
   "execution_count": 2,
   "metadata": {},
   "outputs": [],
   "source": [
    "# Obtiene la distribucion de bigramas ordenadas de mayor a menor con un maximo de 1000 bigramas\n",
    "fdist_tr = obtain_fdist_with_bigrams(\n",
    "    data_tr,\n",
    "    parameters[\"max bigrams\"],\n",
    ")\n",
    "# Creacion del diccionario con la posicion en la distribucion de bigramas\n",
    "bigram_index = create_dictonary_of_index(fdist_tr)"
   ]
  },
  {
   "cell_type": "code",
   "execution_count": 3,
   "metadata": {},
   "outputs": [
    {
     "name": "stdout",
     "output_type": "stream",
     "text": [
      "[[305  92]\n",
      " [ 87 132]]\n",
      "              precision    recall  f1-score   support\n",
      "\n",
      "           0       0.78      0.77      0.77       397\n",
      "           1       0.59      0.60      0.60       219\n",
      "\n",
      "    accuracy                           0.71       616\n",
      "   macro avg       0.68      0.69      0.68       616\n",
      "weighted avg       0.71      0.71      0.71       616\n",
      "\n"
     ]
    }
   ],
   "source": [
    "# Creacion de la BoW para los datos de entrenamiento usando pesos binarios\n",
    "binary_bow_tr_bigram = build_binary_bigram_bow(\n",
    "    data_tr,\n",
    "    fdist_tr,\n",
    "    bigram_index,\n",
    ")\n",
    "# Creacion de la BoW para los datos de validacion usando pesos binarios\n",
    "binary_bow_val_bigram = build_binary_bigram_bow(\n",
    "    data_val,\n",
    "    fdist_tr,\n",
    "    bigram_index,\n",
    ")\n",
    "# Creacion del modelo\n",
    "grid = create_model(\n",
    "    binary_bow_tr_bigram,\n",
    "    labels_tr,\n",
    ")\n",
    "# Evaluacion del modelo\n",
    "result = evaluate_model(\n",
    "    binary_bow_val_bigram,\n",
    "    labels_val,\n",
    "    grid,\n",
    "    \"Binario\",\n",
    ")\n",
    "results = [result]"
   ]
  },
  {
   "cell_type": "code",
   "execution_count": 4,
   "metadata": {},
   "outputs": [
    {
     "name": "stdout",
     "output_type": "stream",
     "text": [
      "[[300  97]\n",
      " [ 86 133]]\n",
      "              precision    recall  f1-score   support\n",
      "\n",
      "           0       0.78      0.76      0.77       397\n",
      "           1       0.58      0.61      0.59       219\n",
      "\n",
      "    accuracy                           0.70       616\n",
      "   macro avg       0.68      0.68      0.68       616\n",
      "weighted avg       0.71      0.70      0.70       616\n",
      "\n"
     ]
    }
   ],
   "source": [
    "# Creacion de la BoW para los datos de entrenamiento usando pesos binarios\n",
    "freq_bow_tr_bigram = build_frecuency_bigram_bow(\n",
    "    data_tr,\n",
    "    fdist_tr,\n",
    "    bigram_index,\n",
    ")\n",
    "# Creacion de la BoW para los datos de validacion usando pesos binarios\n",
    "freq_bow_val_bigram = build_frecuency_bigram_bow(\n",
    "    data_val,\n",
    "    fdist_tr,\n",
    "    bigram_index,\n",
    ")\n",
    "grid = create_model(\n",
    "    freq_bow_tr_bigram,\n",
    "    labels_tr,\n",
    ")\n",
    "result = evaluate_model(\n",
    "    freq_bow_val_bigram,\n",
    "    labels_val,\n",
    "    grid,\n",
    "    \"Frecuencias\",\n",
    ")\n",
    "results += [result]"
   ]
  },
  {
   "cell_type": "code",
   "execution_count": 5,
   "metadata": {},
   "outputs": [
    {
     "name": "stdout",
     "output_type": "stream",
     "text": [
      "[[304  93]\n",
      " [ 88 131]]\n",
      "              precision    recall  f1-score   support\n",
      "\n",
      "           0       0.78      0.77      0.77       397\n",
      "           1       0.58      0.60      0.59       219\n",
      "\n",
      "    accuracy                           0.71       616\n",
      "   macro avg       0.68      0.68      0.68       616\n",
      "weighted avg       0.71      0.71      0.71       616\n",
      "\n"
     ]
    }
   ],
   "source": [
    "# Creacion de la BoW para los datos de entrenamiento usando pesos TFIDF\n",
    "tfidf_bow_tr_bigram = build_tfidf_bigram_bow(\n",
    "    data_tr,\n",
    "    fdist_tr,\n",
    "    bigram_index,\n",
    ")\n",
    "# Creacion de la BoW para los datos de validacion usando pesos TFIDF\n",
    "tfidf_bow_val_bigram = build_tfidf_bigram_bow(\n",
    "    data_val,\n",
    "    fdist_tr,\n",
    "    bigram_index,\n",
    ")\n",
    "# Creacion del modelo\n",
    "grid = create_model(\n",
    "    tfidf_bow_tr_bigram,\n",
    "    labels_tr,\n",
    ")\n",
    "# Evaluacion del modelo\n",
    "result = evaluate_model(\n",
    "    tfidf_bow_val_bigram,\n",
    "    labels_val,\n",
    "    grid,\n",
    "    \"TFIDF\",\n",
    ")\n",
    "results += [result]"
   ]
  },
  {
   "cell_type": "code",
   "execution_count": 6,
   "metadata": {},
   "outputs": [
    {
     "name": "stdout",
     "output_type": "stream",
     "text": [
      "Algoritmo      Precision    Recall    F1 Score\n",
      "-----------  -----------  --------  ----------\n",
      "Binario         0.683673  0.685501    0.684534\n",
      "Frecuencias     0.677731  0.681487    0.679356\n",
      "TFIDF           0.680166  0.681958    0.681009\n"
     ]
    }
   ],
   "source": [
    "print_results(results)"
   ]
  }
 ],
 "metadata": {
  "kernelspec": {
   "display_name": "Python 3",
   "language": "python",
   "name": "python3"
  },
  "language_info": {
   "codemirror_mode": {
    "name": "ipython",
    "version": 3
   },
   "file_extension": ".py",
   "mimetype": "text/x-python",
   "name": "python",
   "nbconvert_exporter": "python",
   "pygments_lexer": "ipython3",
   "version": "3.8.10"
  },
  "latex_envs": {
   "LaTeX_envs_menu_present": true,
   "autoclose": false,
   "autocomplete": true,
   "bibliofile": "biblio.bib",
   "cite_by": "apalike",
   "current_citInitial": 1,
   "eqLabelWithNumbers": true,
   "eqNumInitial": 1,
   "hotkeys": {
    "equation": "Ctrl-E",
    "itemize": "Ctrl-I"
   },
   "labels_anchors": false,
   "latex_user_defs": false,
   "report_style_numbering": false,
   "user_envs_cfg": false
  }
 },
 "nbformat": 4,
 "nbformat_minor": 2
}
