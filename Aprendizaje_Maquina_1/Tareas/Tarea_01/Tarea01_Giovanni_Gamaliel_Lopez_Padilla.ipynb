{
 "cells": [
  {
   "cell_type": "markdown",
   "metadata": {},
   "source": [
    "#### Introducción al aprendizaje profundo\n",
    "#### Giovanni Gamaliel López Padilla\n",
    "##### Tarea 01\n",
    "\n",
    "\n",
    "###### Organización de los archivos\n",
    "En la carpeta ``Modules`` se encuentran las clases y funciones usadas en este notebook. Se implemento esta organizació debido a que existieron problemas al unir las clases y funciones en el notebook. \n",
    "\n",
    "```bash\n",
    "├── Modules\n",
    "│  ├── datasets.py\n",
    "│  ├── functions.py\n",
    "│  ├── models.py\n",
    "│  └── solver.py\n",
    "└── Tarea01_Giovanni_Gamaliel_Lopez_Padilla.ipynb\n",
    "```\n",
    "\n",
    "###### Versiones utilizadas\n",
    "```bash\n",
    "numpy == 1.22.3\n",
    "tabulate == 0.8.9\n",
    "```"
   ]
  },
  {
   "cell_type": "code",
   "execution_count": 1,
   "metadata": {
    "id": "A1WQWJegDrWy"
   },
   "outputs": [],
   "source": [
    "from Modules.datasets import obtain_all_params\n",
    "from Modules.functions import print_results\n",
    "from Modules.models import model_class\n",
    "from Modules.solver import solver\n",
    "from numpy.random import uniform"
   ]
  },
  {
   "cell_type": "code",
   "execution_count": 2,
   "metadata": {
    "colab": {
     "base_uri": "https://localhost:8080/"
    },
    "id": "E3LObA4eC5As",
    "outputId": "130acf38-8bab-4fc6-c1f9-352509db8f23"
   },
   "outputs": [
    {
     "name": "stdout",
     "output_type": "stream",
     "text": [
      "Resolviendo por medio de SGD\n",
      "Resolviendo por medio de NAG\n",
      "Resolviendo por medio de ADAM\n",
      "Resolviendo por medio de ADADELTA\n",
      "Model         Time     Error\n",
      "--------  --------  --------\n",
      "SGD        6.59481  0.325516\n",
      "NAG        9.89618  0.325516\n",
      "ADAM      10.3672   0.325516\n",
      "ADADELTA  10.5884   0.325516\n"
     ]
    }
   ],
   "source": [
    "results = {}\n",
    "params, gd_params = obtain_all_params()\n",
    "models = model_class()\n",
    "y = uniform(0, 1, params[\"n\"])\n",
    "for model_name in params[\"models\"]:\n",
    "    print(\"Resolviendo por medio de {}\".format(model_name))\n",
    "    results[model_name] = {}\n",
    "    models.select_method(model_name)\n",
    "    phi, alpha, time = solver(models, y, params, gd_params)\n",
    "    error = round(((phi @ alpha - y)**2).mean(), 8)\n",
    "    results[model_name][\"time\"] = time\n",
    "    results[model_name][\"error\"] = error\n",
    "print_results(params, results)"
   ]
  },
  {
   "cell_type": "code",
   "execution_count": null,
   "metadata": {},
   "outputs": [],
   "source": []
  }
 ],
 "metadata": {
  "accelerator": "GPU",
  "colab": {
   "collapsed_sections": [],
   "name": "Untitled1.ipynb",
   "provenance": []
  },
  "kernelspec": {
   "display_name": "Python 3",
   "language": "python",
   "name": "python3"
  },
  "language_info": {
   "codemirror_mode": {
    "name": "ipython",
    "version": 3
   },
   "file_extension": ".py",
   "mimetype": "text/x-python",
   "name": "python",
   "nbconvert_exporter": "python",
   "pygments_lexer": "ipython3",
   "version": "3.8.10"
  },
  "latex_envs": {
   "LaTeX_envs_menu_present": true,
   "autoclose": false,
   "autocomplete": true,
   "bibliofile": "biblio.bib",
   "cite_by": "apalike",
   "current_citInitial": 1,
   "eqLabelWithNumbers": true,
   "eqNumInitial": 1,
   "hotkeys": {
    "equation": "Ctrl-E",
    "itemize": "Ctrl-I"
   },
   "labels_anchors": false,
   "latex_user_defs": false,
   "report_style_numbering": false,
   "user_envs_cfg": false
  }
 },
 "nbformat": 4,
 "nbformat_minor": 1
}
